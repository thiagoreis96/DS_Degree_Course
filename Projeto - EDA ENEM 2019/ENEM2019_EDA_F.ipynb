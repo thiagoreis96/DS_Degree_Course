{
 "cells": [
  {
   "cell_type": "code",
   "execution_count": 1,
   "id": "ed975d18-432e-4439-bc35-6a523865a4b0",
   "metadata": {},
   "outputs": [],
   "source": [
    "import pandas as pd\n",
    "import numpy as np\n",
    "\n",
    "## arrumar casas decimais\n",
    "pd.set_option('display.float_format', lambda x: '%.5f' % x)"
   ]
  },
  {
   "cell_type": "markdown",
   "id": "8b02a059-b483-4839-8366-7704efbd6620",
   "metadata": {},
   "source": [
    "##### Lendo somente as primeiras 5 Linhas do CSV para verificar quais são as colunas"
   ]
  },
  {
   "cell_type": "code",
   "execution_count": 2,
   "id": "cc76f3c3",
   "metadata": {},
   "outputs": [],
   "source": [
    "#leitura df completo\n",
    "df = pd.read_csv(\".\\DADOS\\MICRODADOS_ENEM_2019.csv\", encoding='latin-1', sep=';')"
   ]
  },
  {
   "cell_type": "markdown",
   "id": "679a1f2a-9ca8-4fee-a542-a15782407c18",
   "metadata": {},
   "source": [
    "##### Verificar dados faltantes"
   ]
  },
  {
   "cell_type": "code",
   "execution_count": 3,
   "id": "74d177f0-dee8-4f33-972d-0888f67fab21",
   "metadata": {},
   "outputs": [
    {
     "data": {
      "text/plain": [
       "SG_UF_ESC                 3947858\n",
       "CO_ESCOLA                 3947858\n",
       "TP_LOCALIZACAO_ESC        3947858\n",
       "TP_DEPENDENCIA_ADM_ESC    3947858\n",
       "CO_UF_ESC                 3947858\n",
       "                           ...   \n",
       "IN_ACESSO                       0\n",
       "IN_LEDOR                        0\n",
       "IN_AMPLIADA_18                  0\n",
       "IN_AMPLIADA_24                  0\n",
       "Q025                            0\n",
       "Length: 136, dtype: int64"
      ]
     },
     "execution_count": 3,
     "metadata": {},
     "output_type": "execute_result"
    }
   ],
   "source": [
    "df.isnull().sum().sort_values(ascending=False)"
   ]
  },
  {
   "cell_type": "code",
   "execution_count": 4,
   "id": "0ffb80fd-60c4-475a-a174-82188e4a9671",
   "metadata": {},
   "outputs": [
    {
     "data": {
      "text/html": [
       "<div>\n",
       "<style scoped>\n",
       "    .dataframe tbody tr th:only-of-type {\n",
       "        vertical-align: middle;\n",
       "    }\n",
       "\n",
       "    .dataframe tbody tr th {\n",
       "        vertical-align: top;\n",
       "    }\n",
       "\n",
       "    .dataframe thead th {\n",
       "        text-align: right;\n",
       "    }\n",
       "</style>\n",
       "<table border=\"1\" class=\"dataframe\">\n",
       "  <thead>\n",
       "    <tr style=\"text-align: right;\">\n",
       "      <th></th>\n",
       "      <th>Total</th>\n",
       "      <th>Percentual</th>\n",
       "    </tr>\n",
       "  </thead>\n",
       "  <tbody>\n",
       "    <tr>\n",
       "      <th>SG_UF_ESC</th>\n",
       "      <td>3947858</td>\n",
       "      <td>77.48084</td>\n",
       "    </tr>\n",
       "    <tr>\n",
       "      <th>CO_ESCOLA</th>\n",
       "      <td>3947858</td>\n",
       "      <td>77.48084</td>\n",
       "    </tr>\n",
       "    <tr>\n",
       "      <th>TP_LOCALIZACAO_ESC</th>\n",
       "      <td>3947858</td>\n",
       "      <td>77.48084</td>\n",
       "    </tr>\n",
       "    <tr>\n",
       "      <th>TP_DEPENDENCIA_ADM_ESC</th>\n",
       "      <td>3947858</td>\n",
       "      <td>77.48084</td>\n",
       "    </tr>\n",
       "    <tr>\n",
       "      <th>CO_UF_ESC</th>\n",
       "      <td>3947858</td>\n",
       "      <td>77.48084</td>\n",
       "    </tr>\n",
       "    <tr>\n",
       "      <th>...</th>\n",
       "      <td>...</td>\n",
       "      <td>...</td>\n",
       "    </tr>\n",
       "    <tr>\n",
       "      <th>IN_ACESSO</th>\n",
       "      <td>0</td>\n",
       "      <td>0.00000</td>\n",
       "    </tr>\n",
       "    <tr>\n",
       "      <th>IN_LEDOR</th>\n",
       "      <td>0</td>\n",
       "      <td>0.00000</td>\n",
       "    </tr>\n",
       "    <tr>\n",
       "      <th>IN_AMPLIADA_18</th>\n",
       "      <td>0</td>\n",
       "      <td>0.00000</td>\n",
       "    </tr>\n",
       "    <tr>\n",
       "      <th>IN_AMPLIADA_24</th>\n",
       "      <td>0</td>\n",
       "      <td>0.00000</td>\n",
       "    </tr>\n",
       "    <tr>\n",
       "      <th>Q025</th>\n",
       "      <td>0</td>\n",
       "      <td>0.00000</td>\n",
       "    </tr>\n",
       "  </tbody>\n",
       "</table>\n",
       "<p>136 rows × 2 columns</p>\n",
       "</div>"
      ],
      "text/plain": [
       "                          Total  Percentual\n",
       "SG_UF_ESC               3947858    77.48084\n",
       "CO_ESCOLA               3947858    77.48084\n",
       "TP_LOCALIZACAO_ESC      3947858    77.48084\n",
       "TP_DEPENDENCIA_ADM_ESC  3947858    77.48084\n",
       "CO_UF_ESC               3947858    77.48084\n",
       "...                         ...         ...\n",
       "IN_ACESSO                     0     0.00000\n",
       "IN_LEDOR                      0     0.00000\n",
       "IN_AMPLIADA_18                0     0.00000\n",
       "IN_AMPLIADA_24                0     0.00000\n",
       "Q025                          0     0.00000\n",
       "\n",
       "[136 rows x 2 columns]"
      ]
     },
     "execution_count": 4,
     "metadata": {},
     "output_type": "execute_result"
    }
   ],
   "source": [
    "total = df.isnull().sum().sort_values(ascending=False)\n",
    "percentual = (df.isnull().sum()/df.isnull().count()*100).sort_values(ascending=False)\n",
    "faltantes = pd.concat([total, percentual], axis=1 , keys=[\"Total\", 'Percentual'])\n",
    "faltantes"
   ]
  },
  {
   "cell_type": "code",
   "execution_count": 5,
   "id": "86ed8d72-2514-44fe-b47f-50820fd73739",
   "metadata": {},
   "outputs": [
    {
     "name": "stdout",
     "output_type": "stream",
     "text": [
      "<class 'pandas.core.frame.DataFrame'>\n",
      "RangeIndex: 5095270 entries, 0 to 5095269\n",
      "Columns: 136 entries, NU_INSCRICAO to Q025\n",
      "dtypes: float64(25), int64(70), object(41)\n",
      "memory usage: 5.2+ GB\n"
     ]
    }
   ],
   "source": [
    "df.info()"
   ]
  },
  {
   "cell_type": "markdown",
   "id": "e4ccfbf3-e86f-43ff-adc4-198115468b9f",
   "metadata": {},
   "source": [
    "#### Tratativa dos dados"
   ]
  },
  {
   "cell_type": "code",
   "execution_count": 6,
   "id": "c922d9ab-dcb2-4d05-8d47-0a330265c665",
   "metadata": {},
   "outputs": [],
   "source": [
    "colunas = ['SG_UF_RESIDENCIA','NU_IDADE','TP_SEXO','TP_ESTADO_CIVIL','TP_COR_RACA','TP_ST_CONCLUSAO','TP_ANO_CONCLUIU','TP_ESCOLA','IN_TREINEIRO','IN_BAIXA_VISAO','IN_CEGUEIRA','IN_SURDEZ','IN_DEFICIENCIA_AUDITIVA','IN_SURDO_CEGUEIRA','IN_DEFICIENCIA_FISICA','IN_DEFICIENCIA_MENTAL','IN_DEFICIT_ATENCAO','IN_DISLEXIA','IN_DISCALCULIA','IN_AUTISMO','IN_VISAO_MONOCULAR','IN_OUTRA_DEF','IN_GESTANTE','IN_LACTANTE','IN_SEM_RECURSO','TP_PRESENCA_CN','TP_PRESENCA_CH','TP_PRESENCA_LC','TP_PRESENCA_MT','NU_NOTA_CN','NU_NOTA_CH','NU_NOTA_LC','NU_NOTA_MT','TP_LINGUA','TP_STATUS_REDACAO','NU_NOTA_REDACAO','Q001','Q002','Q006','Q024','Q025']\n",
    "df_novo = df.loc[:, colunas]\n",
    "\n",
    "#Coluna de qtd. deficientes\n",
    "df_novo['DEF'] = np.where(df_novo.iloc[:, 10:24].sum(axis=1) > 0,1,0)\n",
    "\n",
    "#Colune Nota média dos participantes\n",
    "df_novo['NOTA_MEDIA'] = (df_novo.loc[:,('NU_NOTA_CN', 'NU_NOTA_CH', 'NU_NOTA_LC', 'NU_NOTA_CN', 'NU_NOTA_REDACAO')].sum(axis=1) / 5)\n",
    "df_novo['Q024'] = np.where(df_novo.loc[:,'Q024'] == 'A',0,1)\n",
    "df_novo['Q025'] = np.where(df_novo.loc[:,'Q025'] == 'A',0,1)\n",
    "df_novo[\"Q024\"] = df_novo['Q024'].apply(np.sign).replace({ 0:'Não tem computador', 1: 'Tem computador'})\n",
    "df_novo[\"Q025\"] = df_novo['Q025'].apply(np.sign).replace({ 0:'Não tem internet', 1: 'Tem internet'})\n",
    "\n",
    "##quantidade de pessoas presentes em todas as provas\n",
    "df_novo['PRESENCA'] = np.where(df_novo.iloc[:, 26:29].sum(axis=1) > 0,1,0)\n",
    "\n",
    "#drop nas colunas de deficientes\n",
    "df_novo.drop(df_novo.columns[10:24],axis=1,inplace=True)\n",
    "\n"
   ]
  },
  {
   "cell_type": "code",
   "execution_count": 14,
   "id": "3b12e177",
   "metadata": {},
   "outputs": [
    {
     "name": "stdout",
     "output_type": "stream",
     "text": [
      "<class 'pandas.core.frame.DataFrame'>\n",
      "Int64Index: 3701947 entries, 3 to 5095264\n",
      "Data columns (total 30 columns):\n",
      " #   Column             Dtype  \n",
      "---  ------             -----  \n",
      " 0   SG_UF_RESIDENCIA   object \n",
      " 1   NU_IDADE           float64\n",
      " 2   TP_SEXO            object \n",
      " 3   TP_ESTADO_CIVIL    int64  \n",
      " 4   TP_COR_RACA        int64  \n",
      " 5   TP_ST_CONCLUSAO    int64  \n",
      " 6   TP_ANO_CONCLUIU    int64  \n",
      " 7   TP_ESCOLA          int64  \n",
      " 8   IN_TREINEIRO       int64  \n",
      " 9   IN_BAIXA_VISAO     int64  \n",
      " 10  IN_SEM_RECURSO     int64  \n",
      " 11  TP_PRESENCA_CN     int64  \n",
      " 12  TP_PRESENCA_CH     int64  \n",
      " 13  TP_PRESENCA_LC     int64  \n",
      " 14  TP_PRESENCA_MT     int64  \n",
      " 15  NU_NOTA_CN         float64\n",
      " 16  NU_NOTA_CH         float64\n",
      " 17  NU_NOTA_LC         float64\n",
      " 18  NU_NOTA_MT         float64\n",
      " 19  TP_LINGUA          int64  \n",
      " 20  TP_STATUS_REDACAO  float64\n",
      " 21  NU_NOTA_REDACAO    float64\n",
      " 22  Q001               object \n",
      " 23  Q002               object \n",
      " 24  Q006               object \n",
      " 25  Q024               object \n",
      " 26  Q025               object \n",
      " 27  DEF                int32  \n",
      " 28  NOTA_MEDIA         float64\n",
      " 29  PRESENCA           int32  \n",
      "dtypes: float64(8), int32(2), int64(13), object(7)\n",
      "memory usage: 847.3+ MB\n"
     ]
    }
   ],
   "source": [
    "df_novo.info()"
   ]
  },
  {
   "cell_type": "code",
   "execution_count": null,
   "id": "87ab4fa7",
   "metadata": {},
   "outputs": [],
   "source": [
    "df_novo.shape"
   ]
  },
  {
   "cell_type": "code",
   "execution_count": null,
   "id": "67a02a2d-b56a-4c65-8b5b-935346da25e7",
   "metadata": {},
   "outputs": [],
   "source": [
    "df_novo.describe()\n"
   ]
  },
  {
   "cell_type": "code",
   "execution_count": null,
   "id": "09a079f5-4e82-4862-856d-ecd96286bee5",
   "metadata": {},
   "outputs": [],
   "source": [
    "df_novo.describe(include='O')"
   ]
  },
  {
   "cell_type": "code",
   "execution_count": null,
   "id": "509f6ead-b365-41e7-a6ee-baeba82a66b8",
   "metadata": {},
   "outputs": [],
   "source": [
    "# Pessoas com nota máxima na redação\n",
    "len(df_novo[df_novo['NU_NOTA_REDACAO'] == 1000.0])"
   ]
  },
  {
   "cell_type": "code",
   "execution_count": null,
   "id": "871d226a-f26e-40e1-a8c2-72af6cb976dd",
   "metadata": {},
   "outputs": [],
   "source": [
    "# Participantes que zeraram na prova\n",
    "len(df_novo[df_novo['NOTA_MEDIA'] == 0.00])"
   ]
  },
  {
   "cell_type": "code",
   "execution_count": null,
   "id": "64cac831-1a61-43ad-b91d-436d9a367a45",
   "metadata": {},
   "outputs": [],
   "source": [
    "df_sorted = df_novo.sort_values('NOTA_MEDIA', ascending=False)\n",
    "df_sorted"
   ]
  },
  {
   "cell_type": "code",
   "execution_count": null,
   "id": "67b83f0e",
   "metadata": {},
   "outputs": [],
   "source": [
    "#drop notas em branco\n",
    "df_novo.dropna(subset=['NOTA_MEDIA'],inplace=True)"
   ]
  },
  {
   "cell_type": "code",
   "execution_count": null,
   "id": "95cbb57d",
   "metadata": {},
   "outputs": [],
   "source": [
    "generoXmedia=pd.pivot_table(df_novo,values=['NOTA_MEDIA'],columns=[\"TP_SEXO\"])\n",
    "estadoXmedia=pd.pivot_table(df_novo,values=['NOTA_MEDIA'],columns=['SG_UF_RESIDENCIA'])\n",
    "defXmedia=pd.pivot_table(df_novo,values=['NOTA_MEDIA'],columns=[\"DEF\"])\n",
    "computXinternetXmedia=pd.pivot_table(df_novo,values=['NOTA_MEDIA'],columns=[\"Q024\",\"Q025\"])"
   ]
  },
  {
   "cell_type": "code",
   "execution_count": null,
   "id": "840b658d",
   "metadata": {},
   "outputs": [],
   "source": [
    "print(generoXmedia)\n",
    "print(estadoXmedia)\n",
    "print(defXmedia)\n",
    "print(escolarXmedia)\n",
    "print(computXinternetXmedia)"
   ]
  },
  {
   "cell_type": "code",
   "execution_count": null,
   "id": "38208c5f",
   "metadata": {},
   "outputs": [],
   "source": [
    "#Aqui substitui os estados por regiões para melhor visualização\n",
    "df_novo[\"SG_UF_RESIDENCIA\"]=df_novo.filter(items=[\"SG_UF_RESIDENCIA\"]).replace(['AM','PA','AC','RO','RR','AP','TO'],\"NORTE\")\n",
    "df_novo[\"SG_UF_RESIDENCIA\"]=df_novo.filter(items=[\"SG_UF_RESIDENCIA\"]).replace(['MA','PI','CE','RN','PB','PE','AL','SE','BA'],\"NORDESTE\")\n",
    "df_novo[\"SG_UF_RESIDENCIA\"]=df_novo.filter(items=[\"SG_UF_RESIDENCIA\"]).replace(['MT','MS','GO','DF'],\"CENTRO-OESTE\")\n",
    "df_novo[\"SG_UF_RESIDENCIA\"]=df_novo.filter(items=[\"SG_UF_RESIDENCIA\"]).replace(['MG','SP','RJ','ES'],\"SUDESTE\")\n",
    "df_novo[\"SG_UF_RESIDENCIA\"]=df_novo.filter(items=[\"SG_UF_RESIDENCIA\"]).replace(['PR','SC','RS'],\"SUL\")\n",
    "regiaoXmedia=pd.pivot_table(df_novo,values=['NOTA_MEDIA'],columns=['SG_UF_RESIDENCIA'])"
   ]
  },
  {
   "cell_type": "code",
   "execution_count": null,
   "id": "77a5d8c0",
   "metadata": {},
   "outputs": [],
   "source": [
    "print(regiaoXmedia)"
   ]
  },
  {
   "cell_type": "markdown",
   "id": "60e1872c-245d-47fc-bb0a-de57fe732698",
   "metadata": {},
   "source": [
    "##### Selecionando os melhores 1000 participantes (TOP 1000)"
   ]
  },
  {
   "cell_type": "code",
   "execution_count": null,
   "id": "ba92ef1c-64d1-4fdd-b074-6feaa16c7458",
   "metadata": {},
   "outputs": [],
   "source": [
    "df_top1k = df_novo.NOTA_MEDIA.nlargest(1000)\n",
    "df_top1k"
   ]
  },
  {
   "cell_type": "code",
   "execution_count": null,
   "id": "74a0e4af-a66f-48a5-87b3-4fcb0a97671a",
   "metadata": {},
   "outputs": [],
   "source": [
    "nota_corte = df_top1k.min()\n",
    "nota_corte"
   ]
  },
  {
   "cell_type": "code",
   "execution_count": null,
   "id": "5ab64ea1-52e6-49bb-9f1a-f25cb5721e2c",
   "metadata": {},
   "outputs": [],
   "source": [
    "df_top1k = df_sorted[df_sorted['NOTA_MEDIA'] >= nota_corte]"
   ]
  },
  {
   "cell_type": "code",
   "execution_count": null,
   "id": "24c42f17-cd4b-4659-bc1e-a570ca407398",
   "metadata": {},
   "outputs": [],
   "source": [
    "df_top1k.reset_index(drop=True)"
   ]
  },
  {
   "cell_type": "markdown",
   "id": "de5e7eb5-bf15-4985-bd7d-6641ca520b66",
   "metadata": {},
   "source": [
    "----------------------"
   ]
  },
  {
   "cell_type": "markdown",
   "id": "865371f5-82a1-4650-9645-3c052ea0abd7",
   "metadata": {},
   "source": [
    "## COMPARANDO PARTICIPANTES NO TOTAL E NOS 1000 MELHORES COLOCADOS"
   ]
  },
  {
   "cell_type": "code",
   "execution_count": null,
   "id": "65d904ad-d581-4802-8414-02743594e075",
   "metadata": {},
   "outputs": [],
   "source": [
    "df_top1k.replace({0:'Não declarado', 1:'Branca',2:'Preta',3:'Parda',4:'Amarela',5:'Indígena'},inplace=True)"
   ]
  },
  {
   "cell_type": "code",
   "execution_count": null,
   "id": "b0ee017e-3261-46f7-bc08-f9ab8579e286",
   "metadata": {},
   "outputs": [],
   "source": [
    "df_sorted.TP_COR_RACA.value_counts()"
   ]
  },
  {
   "cell_type": "code",
   "execution_count": null,
   "id": "5302c2d7-0a79-4c74-b99f-50da155eb025",
   "metadata": {},
   "outputs": [],
   "source": [
    "df_sorted.TP_COR_RACA.value_counts(normalize=True)*100"
   ]
  },
  {
   "cell_type": "code",
   "execution_count": null,
   "id": "0101d230-67bd-4106-b5d8-a353f8cdcd20",
   "metadata": {},
   "outputs": [],
   "source": [
    "df_top1k.TP_COR_RACA.value_counts()"
   ]
  },
  {
   "cell_type": "code",
   "execution_count": null,
   "id": "0c4c83ea-157d-49a6-944a-466954926c8e",
   "metadata": {},
   "outputs": [],
   "source": [
    "df_top1k.TP_COR_RACA.value_counts(normalize=True)*100"
   ]
  },
  {
   "cell_type": "code",
   "execution_count": null,
   "id": "26107274-e43f-4651-acd4-4faa3754af3d",
   "metadata": {},
   "outputs": [],
   "source": [
    "df_sorted.TP_SEXO.value_counts(normalize=True)*100"
   ]
  },
  {
   "cell_type": "code",
   "execution_count": null,
   "id": "8389016d-aca0-439e-b539-6ac6d9747531",
   "metadata": {},
   "outputs": [],
   "source": [
    "df_top1k.TP_SEXO.value_counts(normalize=True)*100"
   ]
  },
  {
   "cell_type": "code",
   "execution_count": null,
   "id": "2b6690c2-9a02-4b41-b1f3-f8d0e5612314",
   "metadata": {},
   "outputs": [],
   "source": [
    "df_sorted.Q006.value_counts(normalize=True)*100"
   ]
  },
  {
   "cell_type": "code",
   "execution_count": null,
   "id": "0d333c8c-ac39-43af-8650-17dbb1ece16e",
   "metadata": {},
   "outputs": [],
   "source": [
    "df_top1k.Q006.value_counts(normalize=True)*100"
   ]
  },
  {
   "cell_type": "code",
   "execution_count": null,
   "id": "23cbf243-5e4c-445b-8184-d5b2ef9c6c1d",
   "metadata": {},
   "outputs": [],
   "source": [
    "df_top1k.SG_UF_RESIDENCIA.value_counts(normalize=True)*100"
   ]
  },
  {
   "cell_type": "markdown",
   "id": "f73ce33f",
   "metadata": {},
   "source": [
    "### Analise de Presentes e Ausentes"
   ]
  },
  {
   "cell_type": "code",
   "execution_count": null,
   "id": "d8d83177",
   "metadata": {},
   "outputs": [],
   "source": [
    "#Analise de presentes e ausentes totais por estado\n",
    "df_novo.groupby(['SG_UF_RESIDENCIA']).agg({'PRESENCA':np.sum}).sort_values(by='PRESENCA', ascending=True)"
   ]
  },
  {
   "cell_type": "code",
   "execution_count": null,
   "id": "7c55a3e5",
   "metadata": {},
   "outputs": [],
   "source": [
    "#Idade média por presenca sexo e tipo de escola\n",
    "df_novo.groupby(['PRESENCA','TP_SEXO','TP_ESCOLA']).agg({'NU_IDADE':np.mean})"
   ]
  },
  {
   "cell_type": "code",
   "execution_count": null,
   "id": "22f8bd77",
   "metadata": {},
   "outputs": [],
   "source": [
    "#Data Frame sem os ausentes em todas as provas\n",
    "df_sem_ausentes= df_novo[df_novo['PRESENCA'] != 0]"
   ]
  },
  {
   "cell_type": "code",
   "execution_count": null,
   "id": "3955c505",
   "metadata": {},
   "outputs": [],
   "source": [
    "#Estados com o menor e maior numero de participantes presentes\n",
    "df_novo.groupby(by=\"SG_UF_RESIDENCIA\").size().sort_values()"
   ]
  },
  {
   "cell_type": "markdown",
   "id": "4d91fa60",
   "metadata": {},
   "source": [
    "### Analise de Gestantes, Idosos, Candidatos"
   ]
  },
  {
   "cell_type": "code",
   "execution_count": 7,
   "id": "e4c942fa",
   "metadata": {},
   "outputs": [],
   "source": [
    "df_novo = df_novo.dropna()\n",
    "idades = df['NU_IDADE']\n",
    "gestantes = df['IN_GESTANTE']\n",
    "sexos = df['TP_SEXO']"
   ]
  },
  {
   "cell_type": "code",
   "execution_count": 8,
   "id": "7690274b",
   "metadata": {},
   "outputs": [
    {
     "name": "stdout",
     "output_type": "stream",
     "text": [
      "Um total de 1247897 candidatos menores de 18 anos realizaram o exame\n",
      "Distribuição dos 1247897 menores por idade:\n",
      "10.00000         6\n",
      "11.00000         9\n",
      "12.00000        46\n",
      "13.00000       266\n",
      "14.00000      5267\n",
      "15.00000     78563\n",
      "16.00000    316437\n",
      "17.00000    847303\n",
      "Name: NU_IDADE, dtype: int64\n"
     ]
    }
   ],
   "source": [
    "# quantidade e distribuição por idade de candidatos menores de 18 anos\n",
    "print(f'Um total de {idades[idades < 18].count()} candidatos menores de 18 anos realizaram o exame')\n",
    "print(f'Distribuição dos {idades[idades < 18].count()} menores por idade:')\n",
    "print(idades[idades < 18].value_counts().sort_index())"
   ]
  },
  {
   "cell_type": "code",
   "execution_count": 9,
   "id": "b92a06d6",
   "metadata": {},
   "outputs": [
    {
     "data": {
      "text/html": [
       "<div>\n",
       "<style scoped>\n",
       "    .dataframe tbody tr th:only-of-type {\n",
       "        vertical-align: middle;\n",
       "    }\n",
       "\n",
       "    .dataframe tbody tr th {\n",
       "        vertical-align: top;\n",
       "    }\n",
       "\n",
       "    .dataframe thead th {\n",
       "        text-align: right;\n",
       "    }\n",
       "</style>\n",
       "<table border=\"1\" class=\"dataframe\">\n",
       "  <thead>\n",
       "    <tr style=\"text-align: right;\">\n",
       "      <th></th>\n",
       "      <th>NU_NOTA_REDACAO</th>\n",
       "    </tr>\n",
       "    <tr>\n",
       "      <th>Q001</th>\n",
       "      <th></th>\n",
       "    </tr>\n",
       "  </thead>\n",
       "  <tbody>\n",
       "    <tr>\n",
       "      <th>Completou a Pós-graduação</th>\n",
       "      <td>700.47457</td>\n",
       "    </tr>\n",
       "    <tr>\n",
       "      <th>Completou a Faculdade, mas não completou a Pós-graduação</th>\n",
       "      <td>673.47412</td>\n",
       "    </tr>\n",
       "    <tr>\n",
       "      <th>Completou o Ensino Médio, mas não completou a Faculdade</th>\n",
       "      <td>604.81116</td>\n",
       "    </tr>\n",
       "    <tr>\n",
       "      <th>Completou a 8ª série/9º ano do Ensino Fundamental, mas não completou o Ensino Médio</th>\n",
       "      <td>574.55501</td>\n",
       "    </tr>\n",
       "    <tr>\n",
       "      <th>Completou a 4ª série/5º ano, mas não completou a 8ª série/9º ano do Ensino Fundamental</th>\n",
       "      <td>558.37145</td>\n",
       "    </tr>\n",
       "    <tr>\n",
       "      <th>Não sabe</th>\n",
       "      <td>537.06127</td>\n",
       "    </tr>\n",
       "    <tr>\n",
       "      <th>Não completou a 4ª série/5º ano do Ensino Fundamental</th>\n",
       "      <td>532.60373</td>\n",
       "    </tr>\n",
       "    <tr>\n",
       "      <th>Nunca estudou</th>\n",
       "      <td>496.08196</td>\n",
       "    </tr>\n",
       "  </tbody>\n",
       "</table>\n",
       "</div>"
      ],
      "text/plain": [
       "                                                    NU_NOTA_REDACAO\n",
       "Q001                                                               \n",
       "Completou a Pós-graduação                                 700.47457\n",
       "Completou a Faculdade, mas não completou a Pós-...        673.47412\n",
       "Completou o Ensino Médio, mas não completou a F...        604.81116\n",
       "Completou a 8ª série/9º ano do Ensino Fundament...        574.55501\n",
       "Completou a 4ª série/5º ano, mas não completou ...        558.37145\n",
       "Não sabe                                                  537.06127\n",
       "Não completou a 4ª série/5º ano do Ensino Funda...        532.60373\n",
       "Nunca estudou                                             496.08196"
      ]
     },
     "metadata": {},
     "output_type": "display_data"
    },
    {
     "data": {
      "text/html": [
       "<div>\n",
       "<style scoped>\n",
       "    .dataframe tbody tr th:only-of-type {\n",
       "        vertical-align: middle;\n",
       "    }\n",
       "\n",
       "    .dataframe tbody tr th {\n",
       "        vertical-align: top;\n",
       "    }\n",
       "\n",
       "    .dataframe thead th {\n",
       "        text-align: right;\n",
       "    }\n",
       "</style>\n",
       "<table border=\"1\" class=\"dataframe\">\n",
       "  <thead>\n",
       "    <tr style=\"text-align: right;\">\n",
       "      <th></th>\n",
       "      <th>NU_NOTA_MT</th>\n",
       "    </tr>\n",
       "    <tr>\n",
       "      <th>Q001</th>\n",
       "      <th></th>\n",
       "    </tr>\n",
       "  </thead>\n",
       "  <tbody>\n",
       "    <tr>\n",
       "      <th>Completou a Pós-graduação</th>\n",
       "      <td>624.11831</td>\n",
       "    </tr>\n",
       "    <tr>\n",
       "      <th>Completou a Faculdade, mas não completou a Pós-graduação</th>\n",
       "      <td>600.30673</td>\n",
       "    </tr>\n",
       "    <tr>\n",
       "      <th>Completou o Ensino Médio, mas não completou a Faculdade</th>\n",
       "      <td>538.92461</td>\n",
       "    </tr>\n",
       "    <tr>\n",
       "      <th>Completou a 8ª série/9º ano do Ensino Fundamental, mas não completou o Ensino Médio</th>\n",
       "      <td>515.74746</td>\n",
       "    </tr>\n",
       "    <tr>\n",
       "      <th>Completou a 4ª série/5º ano, mas não completou a 8ª série/9º ano do Ensino Fundamental</th>\n",
       "      <td>505.39859</td>\n",
       "    </tr>\n",
       "    <tr>\n",
       "      <th>Não sabe</th>\n",
       "      <td>495.47829</td>\n",
       "    </tr>\n",
       "    <tr>\n",
       "      <th>Não completou a 4ª série/5º ano do Ensino Fundamental</th>\n",
       "      <td>486.45647</td>\n",
       "    </tr>\n",
       "    <tr>\n",
       "      <th>Nunca estudou</th>\n",
       "      <td>466.09819</td>\n",
       "    </tr>\n",
       "  </tbody>\n",
       "</table>\n",
       "</div>"
      ],
      "text/plain": [
       "                                                    NU_NOTA_MT\n",
       "Q001                                                          \n",
       "Completou a Pós-graduação                            624.11831\n",
       "Completou a Faculdade, mas não completou a Pós-...   600.30673\n",
       "Completou o Ensino Médio, mas não completou a F...   538.92461\n",
       "Completou a 8ª série/9º ano do Ensino Fundament...   515.74746\n",
       "Completou a 4ª série/5º ano, mas não completou ...   505.39859\n",
       "Não sabe                                             495.47829\n",
       "Não completou a 4ª série/5º ano do Ensino Funda...   486.45647\n",
       "Nunca estudou                                        466.09819"
      ]
     },
     "metadata": {},
     "output_type": "display_data"
    },
    {
     "data": {
      "text/html": [
       "<div>\n",
       "<style scoped>\n",
       "    .dataframe tbody tr th:only-of-type {\n",
       "        vertical-align: middle;\n",
       "    }\n",
       "\n",
       "    .dataframe tbody tr th {\n",
       "        vertical-align: top;\n",
       "    }\n",
       "\n",
       "    .dataframe thead th {\n",
       "        text-align: right;\n",
       "    }\n",
       "</style>\n",
       "<table border=\"1\" class=\"dataframe\">\n",
       "  <thead>\n",
       "    <tr style=\"text-align: right;\">\n",
       "      <th></th>\n",
       "      <th>NU_NOTA_LC</th>\n",
       "    </tr>\n",
       "    <tr>\n",
       "      <th>Q001</th>\n",
       "      <th></th>\n",
       "    </tr>\n",
       "  </thead>\n",
       "  <tbody>\n",
       "    <tr>\n",
       "      <th>Completou a Pós-graduação</th>\n",
       "      <td>569.34135</td>\n",
       "    </tr>\n",
       "    <tr>\n",
       "      <th>Completou a Faculdade, mas não completou a Pós-graduação</th>\n",
       "      <td>560.80198</td>\n",
       "    </tr>\n",
       "    <tr>\n",
       "      <th>Completou o Ensino Médio, mas não completou a Faculdade</th>\n",
       "      <td>533.24510</td>\n",
       "    </tr>\n",
       "    <tr>\n",
       "      <th>Completou a 8ª série/9º ano do Ensino Fundamental, mas não completou o Ensino Médio</th>\n",
       "      <td>519.75659</td>\n",
       "    </tr>\n",
       "    <tr>\n",
       "      <th>Completou a 4ª série/5º ano, mas não completou a 8ª série/9º ano do Ensino Fundamental</th>\n",
       "      <td>513.20343</td>\n",
       "    </tr>\n",
       "    <tr>\n",
       "      <th>Não sabe</th>\n",
       "      <td>509.17439</td>\n",
       "    </tr>\n",
       "    <tr>\n",
       "      <th>Não completou a 4ª série/5º ano do Ensino Fundamental</th>\n",
       "      <td>502.12592</td>\n",
       "    </tr>\n",
       "    <tr>\n",
       "      <th>Nunca estudou</th>\n",
       "      <td>486.66172</td>\n",
       "    </tr>\n",
       "  </tbody>\n",
       "</table>\n",
       "</div>"
      ],
      "text/plain": [
       "                                                    NU_NOTA_LC\n",
       "Q001                                                          \n",
       "Completou a Pós-graduação                            569.34135\n",
       "Completou a Faculdade, mas não completou a Pós-...   560.80198\n",
       "Completou o Ensino Médio, mas não completou a F...   533.24510\n",
       "Completou a 8ª série/9º ano do Ensino Fundament...   519.75659\n",
       "Completou a 4ª série/5º ano, mas não completou ...   513.20343\n",
       "Não sabe                                             509.17439\n",
       "Não completou a 4ª série/5º ano do Ensino Funda...   502.12592\n",
       "Nunca estudou                                        486.66172"
      ]
     },
     "metadata": {},
     "output_type": "display_data"
    },
    {
     "data": {
      "text/html": [
       "<div>\n",
       "<style scoped>\n",
       "    .dataframe tbody tr th:only-of-type {\n",
       "        vertical-align: middle;\n",
       "    }\n",
       "\n",
       "    .dataframe tbody tr th {\n",
       "        vertical-align: top;\n",
       "    }\n",
       "\n",
       "    .dataframe thead th {\n",
       "        text-align: right;\n",
       "    }\n",
       "</style>\n",
       "<table border=\"1\" class=\"dataframe\">\n",
       "  <thead>\n",
       "    <tr style=\"text-align: right;\">\n",
       "      <th></th>\n",
       "      <th>NU_NOTA_CH</th>\n",
       "    </tr>\n",
       "    <tr>\n",
       "      <th>Q001</th>\n",
       "      <th></th>\n",
       "    </tr>\n",
       "  </thead>\n",
       "  <tbody>\n",
       "    <tr>\n",
       "      <th>Completou a Pós-graduação</th>\n",
       "      <td>572.56784</td>\n",
       "    </tr>\n",
       "    <tr>\n",
       "      <th>Completou a Faculdade, mas não completou a Pós-graduação</th>\n",
       "      <td>559.57319</td>\n",
       "    </tr>\n",
       "    <tr>\n",
       "      <th>Completou o Ensino Médio, mas não completou a Faculdade</th>\n",
       "      <td>521.15866</td>\n",
       "    </tr>\n",
       "    <tr>\n",
       "      <th>Completou a 8ª série/9º ano do Ensino Fundamental, mas não completou o Ensino Médio</th>\n",
       "      <td>504.56876</td>\n",
       "    </tr>\n",
       "    <tr>\n",
       "      <th>Completou a 4ª série/5º ano, mas não completou a 8ª série/9º ano do Ensino Fundamental</th>\n",
       "      <td>497.79445</td>\n",
       "    </tr>\n",
       "    <tr>\n",
       "      <th>Não sabe</th>\n",
       "      <td>492.36669</td>\n",
       "    </tr>\n",
       "    <tr>\n",
       "      <th>Não completou a 4ª série/5º ano do Ensino Fundamental</th>\n",
       "      <td>486.21110</td>\n",
       "    </tr>\n",
       "    <tr>\n",
       "      <th>Nunca estudou</th>\n",
       "      <td>471.99437</td>\n",
       "    </tr>\n",
       "  </tbody>\n",
       "</table>\n",
       "</div>"
      ],
      "text/plain": [
       "                                                    NU_NOTA_CH\n",
       "Q001                                                          \n",
       "Completou a Pós-graduação                            572.56784\n",
       "Completou a Faculdade, mas não completou a Pós-...   559.57319\n",
       "Completou o Ensino Médio, mas não completou a F...   521.15866\n",
       "Completou a 8ª série/9º ano do Ensino Fundament...   504.56876\n",
       "Completou a 4ª série/5º ano, mas não completou ...   497.79445\n",
       "Não sabe                                             492.36669\n",
       "Não completou a 4ª série/5º ano do Ensino Funda...   486.21110\n",
       "Nunca estudou                                        471.99437"
      ]
     },
     "metadata": {},
     "output_type": "display_data"
    },
    {
     "data": {
      "text/html": [
       "<div>\n",
       "<style scoped>\n",
       "    .dataframe tbody tr th:only-of-type {\n",
       "        vertical-align: middle;\n",
       "    }\n",
       "\n",
       "    .dataframe tbody tr th {\n",
       "        vertical-align: top;\n",
       "    }\n",
       "\n",
       "    .dataframe thead th {\n",
       "        text-align: right;\n",
       "    }\n",
       "</style>\n",
       "<table border=\"1\" class=\"dataframe\">\n",
       "  <thead>\n",
       "    <tr style=\"text-align: right;\">\n",
       "      <th></th>\n",
       "      <th>NU_NOTA_CN</th>\n",
       "    </tr>\n",
       "    <tr>\n",
       "      <th>Q001</th>\n",
       "      <th></th>\n",
       "    </tr>\n",
       "  </thead>\n",
       "  <tbody>\n",
       "    <tr>\n",
       "      <th>Completou a Pós-graduação</th>\n",
       "      <td>543.66565</td>\n",
       "    </tr>\n",
       "    <tr>\n",
       "      <th>Completou a Faculdade, mas não completou a Pós-graduação</th>\n",
       "      <td>528.93054</td>\n",
       "    </tr>\n",
       "    <tr>\n",
       "      <th>Completou o Ensino Médio, mas não completou a Faculdade</th>\n",
       "      <td>488.24876</td>\n",
       "    </tr>\n",
       "    <tr>\n",
       "      <th>Completou a 8ª série/9º ano do Ensino Fundamental, mas não completou o Ensino Médio</th>\n",
       "      <td>471.94079</td>\n",
       "    </tr>\n",
       "    <tr>\n",
       "      <th>Completou a 4ª série/5º ano, mas não completou a 8ª série/9º ano do Ensino Fundamental</th>\n",
       "      <td>465.23487</td>\n",
       "    </tr>\n",
       "    <tr>\n",
       "      <th>Não sabe</th>\n",
       "      <td>459.85927</td>\n",
       "    </tr>\n",
       "    <tr>\n",
       "      <th>Não completou a 4ª série/5º ano do Ensino Fundamental</th>\n",
       "      <td>454.41733</td>\n",
       "    </tr>\n",
       "    <tr>\n",
       "      <th>Nunca estudou</th>\n",
       "      <td>442.31117</td>\n",
       "    </tr>\n",
       "  </tbody>\n",
       "</table>\n",
       "</div>"
      ],
      "text/plain": [
       "                                                    NU_NOTA_CN\n",
       "Q001                                                          \n",
       "Completou a Pós-graduação                            543.66565\n",
       "Completou a Faculdade, mas não completou a Pós-...   528.93054\n",
       "Completou o Ensino Médio, mas não completou a F...   488.24876\n",
       "Completou a 8ª série/9º ano do Ensino Fundament...   471.94079\n",
       "Completou a 4ª série/5º ano, mas não completou ...   465.23487\n",
       "Não sabe                                             459.85927\n",
       "Não completou a 4ª série/5º ano do Ensino Funda...   454.41733\n",
       "Nunca estudou                                        442.31117"
      ]
     },
     "metadata": {},
     "output_type": "display_data"
    }
   ],
   "source": [
    "# notas de acordo com a escolaridade do pai\n",
    "display(df_novo.filter(items=['NU_NOTA_REDACAO', 'Q001']).replace({'A': 'Nunca estudou', 'B': 'Não completou a 4ª série/5º ano do Ensino Fundamental', 'C': 'Completou a 4ª série/5º ano, mas não completou a 8ª série/9º ano do Ensino Fundamental', 'D': 'Completou a 8ª série/9º ano do Ensino Fundamental, mas não completou o Ensino Médio', 'E': 'Completou o Ensino Médio, mas não completou a Faculdade', 'F': 'Completou a Faculdade, mas não completou a Pós-graduação', 'G': 'Completou a Pós-graduação', 'H': 'Não sabe'}).groupby('Q001').mean().sort_values(by='NU_NOTA_REDACAO', ascending = False))\n",
    "display(df_novo.filter(items=['NU_NOTA_MT', 'Q001']).replace({'A': 'Nunca estudou', 'B': 'Não completou a 4ª série/5º ano do Ensino Fundamental', 'C': 'Completou a 4ª série/5º ano, mas não completou a 8ª série/9º ano do Ensino Fundamental', 'D': 'Completou a 8ª série/9º ano do Ensino Fundamental, mas não completou o Ensino Médio', 'E': 'Completou o Ensino Médio, mas não completou a Faculdade', 'F': 'Completou a Faculdade, mas não completou a Pós-graduação', 'G': 'Completou a Pós-graduação', 'H': 'Não sabe'}).groupby('Q001').mean().sort_values(by='NU_NOTA_MT', ascending = False))\n",
    "display(df_novo.filter(items=['NU_NOTA_LC', 'Q001']).replace({'A': 'Nunca estudou', 'B': 'Não completou a 4ª série/5º ano do Ensino Fundamental', 'C': 'Completou a 4ª série/5º ano, mas não completou a 8ª série/9º ano do Ensino Fundamental', 'D': 'Completou a 8ª série/9º ano do Ensino Fundamental, mas não completou o Ensino Médio', 'E': 'Completou o Ensino Médio, mas não completou a Faculdade', 'F': 'Completou a Faculdade, mas não completou a Pós-graduação', 'G': 'Completou a Pós-graduação', 'H': 'Não sabe'}).groupby('Q001').mean().sort_values(by='NU_NOTA_LC', ascending = False))\n",
    "display(df_novo.filter(items=['NU_NOTA_CH', 'Q001']).replace({'A': 'Nunca estudou', 'B': 'Não completou a 4ª série/5º ano do Ensino Fundamental', 'C': 'Completou a 4ª série/5º ano, mas não completou a 8ª série/9º ano do Ensino Fundamental', 'D': 'Completou a 8ª série/9º ano do Ensino Fundamental, mas não completou o Ensino Médio', 'E': 'Completou o Ensino Médio, mas não completou a Faculdade', 'F': 'Completou a Faculdade, mas não completou a Pós-graduação', 'G': 'Completou a Pós-graduação', 'H': 'Não sabe'}).groupby('Q001').mean().sort_values(by='NU_NOTA_CH', ascending = False))\n",
    "display(df_novo.filter(items=['NU_NOTA_CN', 'Q001']).replace({'A': 'Nunca estudou', 'B': 'Não completou a 4ª série/5º ano do Ensino Fundamental', 'C': 'Completou a 4ª série/5º ano, mas não completou a 8ª série/9º ano do Ensino Fundamental', 'D': 'Completou a 8ª série/9º ano do Ensino Fundamental, mas não completou o Ensino Médio', 'E': 'Completou o Ensino Médio, mas não completou a Faculdade', 'F': 'Completou a Faculdade, mas não completou a Pós-graduação', 'G': 'Completou a Pós-graduação', 'H': 'Não sabe'}).groupby('Q001').mean().sort_values(by='NU_NOTA_CN', ascending = False))"
   ]
  },
  {
   "cell_type": "code",
   "execution_count": 10,
   "id": "6683d90d",
   "metadata": {},
   "outputs": [
    {
     "data": {
      "text/html": [
       "<div>\n",
       "<style scoped>\n",
       "    .dataframe tbody tr th:only-of-type {\n",
       "        vertical-align: middle;\n",
       "    }\n",
       "\n",
       "    .dataframe tbody tr th {\n",
       "        vertical-align: top;\n",
       "    }\n",
       "\n",
       "    .dataframe thead th {\n",
       "        text-align: right;\n",
       "    }\n",
       "</style>\n",
       "<table border=\"1\" class=\"dataframe\">\n",
       "  <thead>\n",
       "    <tr style=\"text-align: right;\">\n",
       "      <th></th>\n",
       "      <th>NU_NOTA_REDACAO</th>\n",
       "    </tr>\n",
       "    <tr>\n",
       "      <th>Q002</th>\n",
       "      <th></th>\n",
       "    </tr>\n",
       "  </thead>\n",
       "  <tbody>\n",
       "    <tr>\n",
       "      <th>Completou a Pós-graduação</th>\n",
       "      <td>676.23782</td>\n",
       "    </tr>\n",
       "    <tr>\n",
       "      <th>Completou a Faculdade, mas não completou a Pós-graduação</th>\n",
       "      <td>655.62512</td>\n",
       "    </tr>\n",
       "    <tr>\n",
       "      <th>Completou o Ensino Médio, mas não completou a Faculdade</th>\n",
       "      <td>591.13498</td>\n",
       "    </tr>\n",
       "    <tr>\n",
       "      <th>Completou a 8ª série/9º ano do Ensino Fundamental, mas não completou o Ensino Médio</th>\n",
       "      <td>558.91717</td>\n",
       "    </tr>\n",
       "    <tr>\n",
       "      <th>Completou a 4ª série/5º ano, mas não completou a 8ª série/9º ano do Ensino Fundamental</th>\n",
       "      <td>543.68486</td>\n",
       "    </tr>\n",
       "    <tr>\n",
       "      <th>Não completou a 4ª série/5º ano do Ensino Fundamental</th>\n",
       "      <td>522.13262</td>\n",
       "    </tr>\n",
       "    <tr>\n",
       "      <th>Não sabe</th>\n",
       "      <td>505.26553</td>\n",
       "    </tr>\n",
       "    <tr>\n",
       "      <th>Nunca estudou</th>\n",
       "      <td>482.74314</td>\n",
       "    </tr>\n",
       "  </tbody>\n",
       "</table>\n",
       "</div>"
      ],
      "text/plain": [
       "                                                    NU_NOTA_REDACAO\n",
       "Q002                                                               \n",
       "Completou a Pós-graduação                                 676.23782\n",
       "Completou a Faculdade, mas não completou a Pós-...        655.62512\n",
       "Completou o Ensino Médio, mas não completou a F...        591.13498\n",
       "Completou a 8ª série/9º ano do Ensino Fundament...        558.91717\n",
       "Completou a 4ª série/5º ano, mas não completou ...        543.68486\n",
       "Não completou a 4ª série/5º ano do Ensino Funda...        522.13262\n",
       "Não sabe                                                  505.26553\n",
       "Nunca estudou                                             482.74314"
      ]
     },
     "metadata": {},
     "output_type": "display_data"
    },
    {
     "data": {
      "text/html": [
       "<div>\n",
       "<style scoped>\n",
       "    .dataframe tbody tr th:only-of-type {\n",
       "        vertical-align: middle;\n",
       "    }\n",
       "\n",
       "    .dataframe tbody tr th {\n",
       "        vertical-align: top;\n",
       "    }\n",
       "\n",
       "    .dataframe thead th {\n",
       "        text-align: right;\n",
       "    }\n",
       "</style>\n",
       "<table border=\"1\" class=\"dataframe\">\n",
       "  <thead>\n",
       "    <tr style=\"text-align: right;\">\n",
       "      <th></th>\n",
       "      <th>NU_NOTA_MT</th>\n",
       "    </tr>\n",
       "    <tr>\n",
       "      <th>Q002</th>\n",
       "      <th></th>\n",
       "    </tr>\n",
       "  </thead>\n",
       "  <tbody>\n",
       "    <tr>\n",
       "      <th>Completou a Pós-graduação</th>\n",
       "      <td>598.91668</td>\n",
       "    </tr>\n",
       "    <tr>\n",
       "      <th>Completou a Faculdade, mas não completou a Pós-graduação</th>\n",
       "      <td>583.32451</td>\n",
       "    </tr>\n",
       "    <tr>\n",
       "      <th>Completou o Ensino Médio, mas não completou a Faculdade</th>\n",
       "      <td>528.31758</td>\n",
       "    </tr>\n",
       "    <tr>\n",
       "      <th>Completou a 8ª série/9º ano do Ensino Fundamental, mas não completou o Ensino Médio</th>\n",
       "      <td>505.04633</td>\n",
       "    </tr>\n",
       "    <tr>\n",
       "      <th>Completou a 4ª série/5º ano, mas não completou a 8ª série/9º ano do Ensino Fundamental</th>\n",
       "      <td>496.05030</td>\n",
       "    </tr>\n",
       "    <tr>\n",
       "      <th>Não sabe</th>\n",
       "      <td>484.99646</td>\n",
       "    </tr>\n",
       "    <tr>\n",
       "      <th>Não completou a 4ª série/5º ano do Ensino Fundamental</th>\n",
       "      <td>480.07189</td>\n",
       "    </tr>\n",
       "    <tr>\n",
       "      <th>Nunca estudou</th>\n",
       "      <td>459.85939</td>\n",
       "    </tr>\n",
       "  </tbody>\n",
       "</table>\n",
       "</div>"
      ],
      "text/plain": [
       "                                                    NU_NOTA_MT\n",
       "Q002                                                          \n",
       "Completou a Pós-graduação                            598.91668\n",
       "Completou a Faculdade, mas não completou a Pós-...   583.32451\n",
       "Completou o Ensino Médio, mas não completou a F...   528.31758\n",
       "Completou a 8ª série/9º ano do Ensino Fundament...   505.04633\n",
       "Completou a 4ª série/5º ano, mas não completou ...   496.05030\n",
       "Não sabe                                             484.99646\n",
       "Não completou a 4ª série/5º ano do Ensino Funda...   480.07189\n",
       "Nunca estudou                                        459.85939"
      ]
     },
     "metadata": {},
     "output_type": "display_data"
    },
    {
     "data": {
      "text/html": [
       "<div>\n",
       "<style scoped>\n",
       "    .dataframe tbody tr th:only-of-type {\n",
       "        vertical-align: middle;\n",
       "    }\n",
       "\n",
       "    .dataframe tbody tr th {\n",
       "        vertical-align: top;\n",
       "    }\n",
       "\n",
       "    .dataframe thead th {\n",
       "        text-align: right;\n",
       "    }\n",
       "</style>\n",
       "<table border=\"1\" class=\"dataframe\">\n",
       "  <thead>\n",
       "    <tr style=\"text-align: right;\">\n",
       "      <th></th>\n",
       "      <th>NU_NOTA_LC</th>\n",
       "    </tr>\n",
       "    <tr>\n",
       "      <th>Q002</th>\n",
       "      <th></th>\n",
       "    </tr>\n",
       "  </thead>\n",
       "  <tbody>\n",
       "    <tr>\n",
       "      <th>Completou a Pós-graduação</th>\n",
       "      <td>558.16144</td>\n",
       "    </tr>\n",
       "    <tr>\n",
       "      <th>Completou a Faculdade, mas não completou a Pós-graduação</th>\n",
       "      <td>552.29794</td>\n",
       "    </tr>\n",
       "    <tr>\n",
       "      <th>Completou o Ensino Médio, mas não completou a Faculdade</th>\n",
       "      <td>527.57132</td>\n",
       "    </tr>\n",
       "    <tr>\n",
       "      <th>Completou a 8ª série/9º ano do Ensino Fundamental, mas não completou o Ensino Médio</th>\n",
       "      <td>514.19840</td>\n",
       "    </tr>\n",
       "    <tr>\n",
       "      <th>Completou a 4ª série/5º ano, mas não completou a 8ª série/9º ano do Ensino Fundamental</th>\n",
       "      <td>508.28169</td>\n",
       "    </tr>\n",
       "    <tr>\n",
       "      <th>Não completou a 4ª série/5º ano do Ensino Fundamental</th>\n",
       "      <td>499.02568</td>\n",
       "    </tr>\n",
       "    <tr>\n",
       "      <th>Não sabe</th>\n",
       "      <td>495.27103</td>\n",
       "    </tr>\n",
       "    <tr>\n",
       "      <th>Nunca estudou</th>\n",
       "      <td>483.94099</td>\n",
       "    </tr>\n",
       "  </tbody>\n",
       "</table>\n",
       "</div>"
      ],
      "text/plain": [
       "                                                    NU_NOTA_LC\n",
       "Q002                                                          \n",
       "Completou a Pós-graduação                            558.16144\n",
       "Completou a Faculdade, mas não completou a Pós-...   552.29794\n",
       "Completou o Ensino Médio, mas não completou a F...   527.57132\n",
       "Completou a 8ª série/9º ano do Ensino Fundament...   514.19840\n",
       "Completou a 4ª série/5º ano, mas não completou ...   508.28169\n",
       "Não completou a 4ª série/5º ano do Ensino Funda...   499.02568\n",
       "Não sabe                                             495.27103\n",
       "Nunca estudou                                        483.94099"
      ]
     },
     "metadata": {},
     "output_type": "display_data"
    },
    {
     "data": {
      "text/html": [
       "<div>\n",
       "<style scoped>\n",
       "    .dataframe tbody tr th:only-of-type {\n",
       "        vertical-align: middle;\n",
       "    }\n",
       "\n",
       "    .dataframe tbody tr th {\n",
       "        vertical-align: top;\n",
       "    }\n",
       "\n",
       "    .dataframe thead th {\n",
       "        text-align: right;\n",
       "    }\n",
       "</style>\n",
       "<table border=\"1\" class=\"dataframe\">\n",
       "  <thead>\n",
       "    <tr style=\"text-align: right;\">\n",
       "      <th></th>\n",
       "      <th>NU_NOTA_CH</th>\n",
       "    </tr>\n",
       "    <tr>\n",
       "      <th>Q002</th>\n",
       "      <th></th>\n",
       "    </tr>\n",
       "  </thead>\n",
       "  <tbody>\n",
       "    <tr>\n",
       "      <th>Completou a Pós-graduação</th>\n",
       "      <td>556.85678</td>\n",
       "    </tr>\n",
       "    <tr>\n",
       "      <th>Completou a Faculdade, mas não completou a Pós-graduação</th>\n",
       "      <td>547.87312</td>\n",
       "    </tr>\n",
       "    <tr>\n",
       "      <th>Completou o Ensino Médio, mas não completou a Faculdade</th>\n",
       "      <td>513.77736</td>\n",
       "    </tr>\n",
       "    <tr>\n",
       "      <th>Completou a 8ª série/9º ano do Ensino Fundamental, mas não completou o Ensino Médio</th>\n",
       "      <td>497.69051</td>\n",
       "    </tr>\n",
       "    <tr>\n",
       "      <th>Completou a 4ª série/5º ano, mas não completou a 8ª série/9º ano do Ensino Fundamental</th>\n",
       "      <td>492.42522</td>\n",
       "    </tr>\n",
       "    <tr>\n",
       "      <th>Não completou a 4ª série/5º ano do Ensino Fundamental</th>\n",
       "      <td>483.59152</td>\n",
       "    </tr>\n",
       "    <tr>\n",
       "      <th>Não sabe</th>\n",
       "      <td>479.13700</td>\n",
       "    </tr>\n",
       "    <tr>\n",
       "      <th>Nunca estudou</th>\n",
       "      <td>471.00762</td>\n",
       "    </tr>\n",
       "  </tbody>\n",
       "</table>\n",
       "</div>"
      ],
      "text/plain": [
       "                                                    NU_NOTA_CH\n",
       "Q002                                                          \n",
       "Completou a Pós-graduação                            556.85678\n",
       "Completou a Faculdade, mas não completou a Pós-...   547.87312\n",
       "Completou o Ensino Médio, mas não completou a F...   513.77736\n",
       "Completou a 8ª série/9º ano do Ensino Fundament...   497.69051\n",
       "Completou a 4ª série/5º ano, mas não completou ...   492.42522\n",
       "Não completou a 4ª série/5º ano do Ensino Funda...   483.59152\n",
       "Não sabe                                             479.13700\n",
       "Nunca estudou                                        471.00762"
      ]
     },
     "metadata": {},
     "output_type": "display_data"
    },
    {
     "data": {
      "text/html": [
       "<div>\n",
       "<style scoped>\n",
       "    .dataframe tbody tr th:only-of-type {\n",
       "        vertical-align: middle;\n",
       "    }\n",
       "\n",
       "    .dataframe tbody tr th {\n",
       "        vertical-align: top;\n",
       "    }\n",
       "\n",
       "    .dataframe thead th {\n",
       "        text-align: right;\n",
       "    }\n",
       "</style>\n",
       "<table border=\"1\" class=\"dataframe\">\n",
       "  <thead>\n",
       "    <tr style=\"text-align: right;\">\n",
       "      <th></th>\n",
       "      <th>NU_NOTA_CN</th>\n",
       "    </tr>\n",
       "    <tr>\n",
       "      <th>Q002</th>\n",
       "      <th></th>\n",
       "    </tr>\n",
       "  </thead>\n",
       "  <tbody>\n",
       "    <tr>\n",
       "      <th>Completou a Pós-graduação</th>\n",
       "      <td>527.19592</td>\n",
       "    </tr>\n",
       "    <tr>\n",
       "      <th>Completou a Faculdade, mas não completou a Pós-graduação</th>\n",
       "      <td>517.18657</td>\n",
       "    </tr>\n",
       "    <tr>\n",
       "      <th>Completou o Ensino Médio, mas não completou a Faculdade</th>\n",
       "      <td>480.87176</td>\n",
       "    </tr>\n",
       "    <tr>\n",
       "      <th>Completou a 8ª série/9º ano do Ensino Fundamental, mas não completou o Ensino Médio</th>\n",
       "      <td>464.92331</td>\n",
       "    </tr>\n",
       "    <tr>\n",
       "      <th>Completou a 4ª série/5º ano, mas não completou a 8ª série/9º ano do Ensino Fundamental</th>\n",
       "      <td>459.65398</td>\n",
       "    </tr>\n",
       "    <tr>\n",
       "      <th>Não completou a 4ª série/5º ano do Ensino Fundamental</th>\n",
       "      <td>451.43099</td>\n",
       "    </tr>\n",
       "    <tr>\n",
       "      <th>Não sabe</th>\n",
       "      <td>450.92090</td>\n",
       "    </tr>\n",
       "    <tr>\n",
       "      <th>Nunca estudou</th>\n",
       "      <td>440.76825</td>\n",
       "    </tr>\n",
       "  </tbody>\n",
       "</table>\n",
       "</div>"
      ],
      "text/plain": [
       "                                                    NU_NOTA_CN\n",
       "Q002                                                          \n",
       "Completou a Pós-graduação                            527.19592\n",
       "Completou a Faculdade, mas não completou a Pós-...   517.18657\n",
       "Completou o Ensino Médio, mas não completou a F...   480.87176\n",
       "Completou a 8ª série/9º ano do Ensino Fundament...   464.92331\n",
       "Completou a 4ª série/5º ano, mas não completou ...   459.65398\n",
       "Não completou a 4ª série/5º ano do Ensino Funda...   451.43099\n",
       "Não sabe                                             450.92090\n",
       "Nunca estudou                                        440.76825"
      ]
     },
     "metadata": {},
     "output_type": "display_data"
    }
   ],
   "source": [
    "# notas de acordo com a escolaridade da mãe\n",
    "display(df_novo.filter(items=['NU_NOTA_REDACAO', 'Q002']).replace({'A': 'Nunca estudou', 'B': 'Não completou a 4ª série/5º ano do Ensino Fundamental', 'C': 'Completou a 4ª série/5º ano, mas não completou a 8ª série/9º ano do Ensino Fundamental', 'D': 'Completou a 8ª série/9º ano do Ensino Fundamental, mas não completou o Ensino Médio', 'E': 'Completou o Ensino Médio, mas não completou a Faculdade', 'F': 'Completou a Faculdade, mas não completou a Pós-graduação', 'G': 'Completou a Pós-graduação', 'H': 'Não sabe'}).groupby('Q002').mean().sort_values(by='NU_NOTA_REDACAO', ascending = False))\n",
    "display(df_novo.filter(items=['NU_NOTA_MT', 'Q002']).replace({'A': 'Nunca estudou', 'B': 'Não completou a 4ª série/5º ano do Ensino Fundamental', 'C': 'Completou a 4ª série/5º ano, mas não completou a 8ª série/9º ano do Ensino Fundamental', 'D': 'Completou a 8ª série/9º ano do Ensino Fundamental, mas não completou o Ensino Médio', 'E': 'Completou o Ensino Médio, mas não completou a Faculdade', 'F': 'Completou a Faculdade, mas não completou a Pós-graduação', 'G': 'Completou a Pós-graduação', 'H': 'Não sabe'}).groupby('Q002').mean().sort_values(by='NU_NOTA_MT', ascending = False))\n",
    "display(df_novo.filter(items=['NU_NOTA_LC', 'Q002']).replace({'A': 'Nunca estudou', 'B': 'Não completou a 4ª série/5º ano do Ensino Fundamental', 'C': 'Completou a 4ª série/5º ano, mas não completou a 8ª série/9º ano do Ensino Fundamental', 'D': 'Completou a 8ª série/9º ano do Ensino Fundamental, mas não completou o Ensino Médio', 'E': 'Completou o Ensino Médio, mas não completou a Faculdade', 'F': 'Completou a Faculdade, mas não completou a Pós-graduação', 'G': 'Completou a Pós-graduação', 'H': 'Não sabe'}).groupby('Q002').mean().sort_values(by='NU_NOTA_LC', ascending = False))\n",
    "display(df_novo.filter(items=['NU_NOTA_CH', 'Q002']).replace({'A': 'Nunca estudou', 'B': 'Não completou a 4ª série/5º ano do Ensino Fundamental', 'C': 'Completou a 4ª série/5º ano, mas não completou a 8ª série/9º ano do Ensino Fundamental', 'D': 'Completou a 8ª série/9º ano do Ensino Fundamental, mas não completou o Ensino Médio', 'E': 'Completou o Ensino Médio, mas não completou a Faculdade', 'F': 'Completou a Faculdade, mas não completou a Pós-graduação', 'G': 'Completou a Pós-graduação', 'H': 'Não sabe'}).groupby('Q002').mean().sort_values(by='NU_NOTA_CH', ascending = False))\n",
    "display(df_novo.filter(items=['NU_NOTA_CN', 'Q002']).replace({'A': 'Nunca estudou', 'B': 'Não completou a 4ª série/5º ano do Ensino Fundamental', 'C': 'Completou a 4ª série/5º ano, mas não completou a 8ª série/9º ano do Ensino Fundamental', 'D': 'Completou a 8ª série/9º ano do Ensino Fundamental, mas não completou o Ensino Médio', 'E': 'Completou o Ensino Médio, mas não completou a Faculdade', 'F': 'Completou a Faculdade, mas não completou a Pós-graduação', 'G': 'Completou a Pós-graduação', 'H': 'Não sabe'}).groupby('Q002').mean().sort_values(by='NU_NOTA_CN', ascending = False))"
   ]
  },
  {
   "cell_type": "code",
   "execution_count": 11,
   "id": "4b7412ee",
   "metadata": {},
   "outputs": [
    {
     "name": "stdout",
     "output_type": "stream",
     "text": [
      "Percentual de mulheres gestantes 0.047%\n"
     ]
    }
   ],
   "source": [
    "# percentual de mulheres gestantes\n",
    "numGestantes = gestantes.value_counts()\n",
    "percentGestantes = [100*x/numGestantes.sum() for x in numGestantes]\n",
    "numSexos = sexos.value_counts()\n",
    "percentSexos = [100*x/numSexos.sum() for x in numSexos]\n",
    "numSexoFeminino = numSexos[0]\n",
    "numGestantes = numGestantes[1]\n",
    "percentGestantes = 100*numGestantes/numSexoFeminino\n",
    "print(f'Percentual de mulheres gestantes {percentGestantes:.3f}%')"
   ]
  },
  {
   "cell_type": "code",
   "execution_count": 12,
   "id": "947cf253",
   "metadata": {},
   "outputs": [
    {
     "name": "stdout",
     "output_type": "stream",
     "text": [
      "A quantidade de candidatos autodeclarados como homens é de 2063448\n",
      "-=-=-=-=-=-=-=-=-=-=-=-=-=-=-=-=-=-=-=-=-=-=-=-=-=-=-=-=-=-=-=-=-=-=-=-=-=-=-=-=-=-=-=-=-=-=-=-=-=-=\n",
      "A quantidade de candidatas autodeclarados como mulheres é de 3031822\n"
     ]
    }
   ],
   "source": [
    "# quantidade de candidatos homens\n",
    "numSexoMasculino = numSexos[1]\n",
    "print(f'A quantidade de candidatos autodeclarados como homens é de {numSexoMasculino}')\n",
    "\n",
    "print('-='*50)\n",
    "\n",
    "# quantidade de candidatas mulheres\n",
    "print(f'A quantidade de candidatas autodeclarados como mulheres é de {numSexoFeminino}')"
   ]
  },
  {
   "cell_type": "code",
   "execution_count": 13,
   "id": "baf9c6b5",
   "metadata": {},
   "outputs": [
    {
     "name": "stdout",
     "output_type": "stream",
     "text": [
      "Um total de 10160 idosos fizeram o Enem em 2019, nunca é tarde para se perseguir metas!\n",
      "Distribuição dos 10160 idosos por idade:\n",
      "60.00000    1901\n",
      "61.00000    1602\n",
      "62.00000    1384\n",
      "63.00000    1075\n",
      "64.00000     849\n",
      "65.00000     713\n",
      "66.00000     531\n",
      "67.00000     495\n",
      "68.00000     366\n",
      "69.00000     306\n",
      "70.00000     221\n",
      "71.00000     174\n",
      "72.00000     127\n",
      "73.00000     101\n",
      "74.00000      78\n",
      "75.00000      58\n",
      "76.00000      41\n",
      "77.00000      34\n",
      "78.00000      31\n",
      "79.00000      20\n",
      "80.00000      11\n",
      "81.00000      14\n",
      "82.00000       8\n",
      "83.00000       6\n",
      "84.00000       3\n",
      "85.00000       2\n",
      "86.00000       3\n",
      "87.00000       1\n",
      "88.00000       1\n",
      "91.00000       2\n",
      "92.00000       1\n",
      "94.00000       1\n",
      "Name: NU_IDADE, dtype: int64\n"
     ]
    }
   ],
   "source": [
    "# quantidade e distribuição por idade de candidatos idosos\n",
    "print(f'Um total de {idades[idades >= 60].count()} idosos fizeram o Enem em 2019, nunca é tarde para se perseguir metas!')\n",
    "print(f'Distribuição dos {idades[idades >= 60].count()} idosos por idade:')\n",
    "print(idades[idades >= 60].value_counts().sort_index())"
   ]
  }
 ],
 "metadata": {
  "kernelspec": {
   "display_name": "Python 3",
   "language": "python",
   "name": "python3"
  },
  "language_info": {
   "codemirror_mode": {
    "name": "ipython",
    "version": 3
   },
   "file_extension": ".py",
   "mimetype": "text/x-python",
   "name": "python",
   "nbconvert_exporter": "python",
   "pygments_lexer": "ipython3",
   "version": "3.8.8"
  }
 },
 "nbformat": 4,
 "nbformat_minor": 5
}
