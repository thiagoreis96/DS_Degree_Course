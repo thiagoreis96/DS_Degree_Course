{
 "cells": [
  {
   "cell_type": "code",
   "execution_count": 207,
   "id": "c5f3db54",
   "metadata": {},
   "outputs": [],
   "source": [
    "import pandas as pd\n",
    "import numpy as np"
   ]
  },
  {
   "cell_type": "code",
   "execution_count": 208,
   "id": "4a36ef5c",
   "metadata": {},
   "outputs": [],
   "source": [
    "pd.options.display.float_format = '{:,.2f}'.format"
   ]
  },
  {
   "cell_type": "code",
   "execution_count": 209,
   "id": "19bd246c-a85f-44d9-b528-364228787054",
   "metadata": {},
   "outputs": [],
   "source": [
    "pd.set_option('display.max_rows', 100)"
   ]
  },
  {
   "cell_type": "markdown",
   "id": "3a67cefc",
   "metadata": {},
   "source": [
    "### Problema 1\n",
    "Vamos praticar gerar matrizes e fazer operações com as linhas e colunas:\n",
    "\n",
    "(a) Crie uma matriz A com as dimensões (5, 4) e elementos aleatórios variando entre 0 e 50, com o 50 incluso;\n",
    "\n",
    "__Dica:__ Utilize as funções `np.random.randint` e `np.reshape`\n",
    "\n",
    "(b) Retorne a média do vetor\n",
    "\n",
    "(c) Retorne os menores valores de cada coluna;\n",
    "\n",
    "(d) Retorne os maiores valores de cada linha."
   ]
  },
  {
   "cell_type": "code",
   "execution_count": 210,
   "id": "c41394ee",
   "metadata": {},
   "outputs": [
    {
     "name": "stdout",
     "output_type": "stream",
     "text": [
      "[[31 28 27 34]\n",
      " [24 14 43 42]\n",
      " [34 44 50 16]\n",
      " [43 39 42  4]\n",
      " [ 8  6 43 47]]\n"
     ]
    },
    {
     "data": {
      "text/plain": [
       "30.95"
      ]
     },
     "execution_count": 210,
     "metadata": {},
     "output_type": "execute_result"
    }
   ],
   "source": [
    "# (A)\n",
    "matriz_a = np.random.randint(51,size=(5,4))\n",
    "print(matriz_a)\n",
    "\n",
    "# (B)\n",
    "matriz_a.mean()"
   ]
  },
  {
   "cell_type": "code",
   "execution_count": 211,
   "id": "bd6a9f77-a48b-457f-9cb4-f8256e7478eb",
   "metadata": {},
   "outputs": [
    {
     "data": {
      "text/plain": [
       "0     8\n",
       "1     6\n",
       "2    27\n",
       "3     4\n",
       "dtype: int32"
      ]
     },
     "execution_count": 211,
     "metadata": {},
     "output_type": "execute_result"
    }
   ],
   "source": [
    "df = pd.DataFrame(matriz_a)\n",
    "# min coluna (C)\n",
    "df.min(axis=0) "
   ]
  },
  {
   "cell_type": "code",
   "execution_count": 212,
   "id": "fc4ecd02-f3fd-4e26-a41d-c45b7e73bc07",
   "metadata": {},
   "outputs": [
    {
     "data": {
      "text/plain": [
       "0    34\n",
       "1    43\n",
       "2    50\n",
       "3    43\n",
       "4    47\n",
       "dtype: int32"
      ]
     },
     "execution_count": 212,
     "metadata": {},
     "output_type": "execute_result"
    }
   ],
   "source": [
    "# max linha (D)\n",
    "df.max(axis=1) "
   ]
  },
  {
   "cell_type": "markdown",
   "id": "a6911298",
   "metadata": {},
   "source": [
    "### Problema 2\n",
    "\n",
    "Crie um objeto DataFrame que contenha os dados da tabela abaixo, os quais se referem ao peso, altura e idade de cinco pessoas:\n",
    "\n",
    "\n",
    "| Peso (kg) | Altura (cm) | Idade (anos) |\n",
    "|-----------|-------------|--------------|\n",
    "|  47 | 161\t| 31 |\n",
    "|  80 | 170\t| 21 |\n",
    "|  60 | 175\t| 16 |\n",
    "|  90 | 162\t| 28 |\n",
    "| 100 | 185\t| 23 |\n",
    "| 147 | 189 | 32 |\n",
    "\n",
    "Com base no DataFrame criado, realize o que for pedido nos itens abaixo:\n",
    "\n",
    "(a) Visualize apenas os dados da coluna que contém a altura das pessoas;\n",
    "\n",
    "(b) Obtenha a idade média das pessoas;\n",
    "\n",
    "(c) Obtenha os dados das pessoas que estão abaixo da altura média;\n",
    "\n",
    "(d) Crie um nova coluna no DataFrame que contenha o IMC (Índice de Massa Corporal) de cada pessoa;\n",
    "\n",
    "__Obs.:__ A fórmula para o IMC é dada por IMC = Peso/(Altura)² com o peso em kg e a altura em metros.\n",
    "\n",
    "(e) Remova a coluna que contém a idade das pessoas;\n",
    "\n",
    "(f) Crie uma nova coluna chamada Classificação, que contenha a classificação de cada indivíduo, de acordo com o seu IMC. Para isso, consulte a tabela abaixo.\n",
    "\n",
    "| IMC             | Classificação |\n",
    "|-----------------|---------------|\n",
    "Menor que 18,5    | Subpeso |\n",
    "Entre 18,5 e 24,9 | Normal |\n",
    "Entre 25,0 e 29,9 | Sobrepeso |\n",
    "Entre 30,0 e 39,9 | Obesidade Grau I |\n",
    "Maior que 40,0    | Obesidade Grau II |\n",
    "\n",
    "(g) Salve esses dados do DataFrame em um arquivo csv."
   ]
  },
  {
   "cell_type": "code",
   "execution_count": 213,
   "id": "d9150665-f4f6-4459-9702-4eaafa698d1e",
   "metadata": {},
   "outputs": [],
   "source": [
    "dados = {'Peso': [47,80,60,90,100,147], 'Altura': [161, 170,175,162,185,189],'Idade':[31,21,16,28,23,32]}\n",
    "\n",
    "df = pd.DataFrame(data=dados)"
   ]
  },
  {
   "cell_type": "code",
   "execution_count": 214,
   "id": "f6698305-e404-47c6-82c5-e8337e223e5e",
   "metadata": {},
   "outputs": [
    {
     "data": {
      "text/plain": [
       "0    161\n",
       "1    170\n",
       "2    175\n",
       "3    162\n",
       "4    185\n",
       "5    189\n",
       "Name: Altura, dtype: int64"
      ]
     },
     "execution_count": 214,
     "metadata": {},
     "output_type": "execute_result"
    }
   ],
   "source": [
    "# (A)\n",
    "df['Altura']"
   ]
  },
  {
   "cell_type": "code",
   "execution_count": 215,
   "id": "268ccbbe",
   "metadata": {},
   "outputs": [
    {
     "name": "stdout",
     "output_type": "stream",
     "text": [
      "25.166666666666668\n"
     ]
    }
   ],
   "source": [
    "# (B)\n",
    "media_idade = np.mean(dados['Idade'])\n",
    "print(media_idade)"
   ]
  },
  {
   "cell_type": "code",
   "execution_count": 216,
   "id": "13ef820c-438d-4cad-ba39-d9d882a48ed1",
   "metadata": {},
   "outputs": [
    {
     "data": {
      "text/html": [
       "<div>\n",
       "<style scoped>\n",
       "    .dataframe tbody tr th:only-of-type {\n",
       "        vertical-align: middle;\n",
       "    }\n",
       "\n",
       "    .dataframe tbody tr th {\n",
       "        vertical-align: top;\n",
       "    }\n",
       "\n",
       "    .dataframe thead th {\n",
       "        text-align: right;\n",
       "    }\n",
       "</style>\n",
       "<table border=\"1\" class=\"dataframe\">\n",
       "  <thead>\n",
       "    <tr style=\"text-align: right;\">\n",
       "      <th></th>\n",
       "      <th>Peso</th>\n",
       "      <th>Altura</th>\n",
       "      <th>Idade</th>\n",
       "    </tr>\n",
       "  </thead>\n",
       "  <tbody>\n",
       "    <tr>\n",
       "      <th>0</th>\n",
       "      <td>47</td>\n",
       "      <td>161</td>\n",
       "      <td>31</td>\n",
       "    </tr>\n",
       "    <tr>\n",
       "      <th>1</th>\n",
       "      <td>80</td>\n",
       "      <td>170</td>\n",
       "      <td>21</td>\n",
       "    </tr>\n",
       "    <tr>\n",
       "      <th>3</th>\n",
       "      <td>90</td>\n",
       "      <td>162</td>\n",
       "      <td>28</td>\n",
       "    </tr>\n",
       "  </tbody>\n",
       "</table>\n",
       "</div>"
      ],
      "text/plain": [
       "   Peso  Altura  Idade\n",
       "0    47     161     31\n",
       "1    80     170     21\n",
       "3    90     162     28"
      ]
     },
     "execution_count": 216,
     "metadata": {},
     "output_type": "execute_result"
    }
   ],
   "source": [
    "# (C)\n",
    "media_altura = np.mean(dados['Altura'])\n",
    "df[df['Altura'] < media_altura]"
   ]
  },
  {
   "cell_type": "code",
   "execution_count": 217,
   "id": "fac1a596-fc68-4f5e-a813-ee1c9947270a",
   "metadata": {},
   "outputs": [
    {
     "data": {
      "text/html": [
       "<div>\n",
       "<style scoped>\n",
       "    .dataframe tbody tr th:only-of-type {\n",
       "        vertical-align: middle;\n",
       "    }\n",
       "\n",
       "    .dataframe tbody tr th {\n",
       "        vertical-align: top;\n",
       "    }\n",
       "\n",
       "    .dataframe thead th {\n",
       "        text-align: right;\n",
       "    }\n",
       "</style>\n",
       "<table border=\"1\" class=\"dataframe\">\n",
       "  <thead>\n",
       "    <tr style=\"text-align: right;\">\n",
       "      <th></th>\n",
       "      <th>Peso</th>\n",
       "      <th>Altura</th>\n",
       "      <th>Idade</th>\n",
       "      <th>IMC</th>\n",
       "    </tr>\n",
       "  </thead>\n",
       "  <tbody>\n",
       "    <tr>\n",
       "      <th>0</th>\n",
       "      <td>47</td>\n",
       "      <td>161</td>\n",
       "      <td>31</td>\n",
       "      <td>18.13</td>\n",
       "    </tr>\n",
       "    <tr>\n",
       "      <th>1</th>\n",
       "      <td>80</td>\n",
       "      <td>170</td>\n",
       "      <td>21</td>\n",
       "      <td>27.68</td>\n",
       "    </tr>\n",
       "    <tr>\n",
       "      <th>2</th>\n",
       "      <td>60</td>\n",
       "      <td>175</td>\n",
       "      <td>16</td>\n",
       "      <td>19.59</td>\n",
       "    </tr>\n",
       "    <tr>\n",
       "      <th>3</th>\n",
       "      <td>90</td>\n",
       "      <td>162</td>\n",
       "      <td>28</td>\n",
       "      <td>34.29</td>\n",
       "    </tr>\n",
       "    <tr>\n",
       "      <th>4</th>\n",
       "      <td>100</td>\n",
       "      <td>185</td>\n",
       "      <td>23</td>\n",
       "      <td>29.22</td>\n",
       "    </tr>\n",
       "    <tr>\n",
       "      <th>5</th>\n",
       "      <td>147</td>\n",
       "      <td>189</td>\n",
       "      <td>32</td>\n",
       "      <td>41.15</td>\n",
       "    </tr>\n",
       "  </tbody>\n",
       "</table>\n",
       "</div>"
      ],
      "text/plain": [
       "   Peso  Altura  Idade   IMC\n",
       "0    47     161     31 18.13\n",
       "1    80     170     21 27.68\n",
       "2    60     175     16 19.59\n",
       "3    90     162     28 34.29\n",
       "4   100     185     23 29.22\n",
       "5   147     189     32 41.15"
      ]
     },
     "execution_count": 217,
     "metadata": {},
     "output_type": "execute_result"
    }
   ],
   "source": [
    "# (D)\n",
    "# Obs.: A fórmula para o IMC é dada por IMC = Peso/(Altura)² com o peso em kg e a altura em metros.\n",
    "df['IMC'] = df['Peso']/(df['Altura']/100)**2 \n",
    "\n",
    "df"
   ]
  },
  {
   "cell_type": "code",
   "execution_count": 218,
   "id": "1f3d5e01-afd0-4602-8f0b-4417d1e79b0c",
   "metadata": {},
   "outputs": [
    {
     "data": {
      "text/html": [
       "<div>\n",
       "<style scoped>\n",
       "    .dataframe tbody tr th:only-of-type {\n",
       "        vertical-align: middle;\n",
       "    }\n",
       "\n",
       "    .dataframe tbody tr th {\n",
       "        vertical-align: top;\n",
       "    }\n",
       "\n",
       "    .dataframe thead th {\n",
       "        text-align: right;\n",
       "    }\n",
       "</style>\n",
       "<table border=\"1\" class=\"dataframe\">\n",
       "  <thead>\n",
       "    <tr style=\"text-align: right;\">\n",
       "      <th></th>\n",
       "      <th>Peso</th>\n",
       "      <th>Altura</th>\n",
       "      <th>IMC</th>\n",
       "    </tr>\n",
       "  </thead>\n",
       "  <tbody>\n",
       "    <tr>\n",
       "      <th>0</th>\n",
       "      <td>47</td>\n",
       "      <td>161</td>\n",
       "      <td>18.13</td>\n",
       "    </tr>\n",
       "    <tr>\n",
       "      <th>1</th>\n",
       "      <td>80</td>\n",
       "      <td>170</td>\n",
       "      <td>27.68</td>\n",
       "    </tr>\n",
       "    <tr>\n",
       "      <th>2</th>\n",
       "      <td>60</td>\n",
       "      <td>175</td>\n",
       "      <td>19.59</td>\n",
       "    </tr>\n",
       "    <tr>\n",
       "      <th>3</th>\n",
       "      <td>90</td>\n",
       "      <td>162</td>\n",
       "      <td>34.29</td>\n",
       "    </tr>\n",
       "    <tr>\n",
       "      <th>4</th>\n",
       "      <td>100</td>\n",
       "      <td>185</td>\n",
       "      <td>29.22</td>\n",
       "    </tr>\n",
       "    <tr>\n",
       "      <th>5</th>\n",
       "      <td>147</td>\n",
       "      <td>189</td>\n",
       "      <td>41.15</td>\n",
       "    </tr>\n",
       "  </tbody>\n",
       "</table>\n",
       "</div>"
      ],
      "text/plain": [
       "   Peso  Altura   IMC\n",
       "0    47     161 18.13\n",
       "1    80     170 27.68\n",
       "2    60     175 19.59\n",
       "3    90     162 34.29\n",
       "4   100     185 29.22\n",
       "5   147     189 41.15"
      ]
     },
     "execution_count": 218,
     "metadata": {},
     "output_type": "execute_result"
    }
   ],
   "source": [
    "# (E)\n",
    "df = df.drop('Idade', axis = 1)\n",
    "df"
   ]
  },
  {
   "cell_type": "code",
   "execution_count": 219,
   "id": "1d6bfdc8-9552-49ac-9b92-6c036a8b6f92",
   "metadata": {},
   "outputs": [],
   "source": [
    "def classif(imc):\n",
    "    if imc < 18.5:\n",
    "        return 'Subpeso'\n",
    "    elif imc < 24.9:\n",
    "        return 'Normal'\n",
    "    elif imc < 29.9:\n",
    "        return 'Sobrepeso'\n",
    "    elif imc < 39.9:\n",
    "        return 'Obesidade Grau I'\n",
    "    else:\n",
    "        return 'Obesidade Grau II'"
   ]
  },
  {
   "cell_type": "code",
   "execution_count": 220,
   "id": "8b2a86dd-6d55-4b59-890c-1be24cb6cc5e",
   "metadata": {},
   "outputs": [
    {
     "data": {
      "text/html": [
       "<div>\n",
       "<style scoped>\n",
       "    .dataframe tbody tr th:only-of-type {\n",
       "        vertical-align: middle;\n",
       "    }\n",
       "\n",
       "    .dataframe tbody tr th {\n",
       "        vertical-align: top;\n",
       "    }\n",
       "\n",
       "    .dataframe thead th {\n",
       "        text-align: right;\n",
       "    }\n",
       "</style>\n",
       "<table border=\"1\" class=\"dataframe\">\n",
       "  <thead>\n",
       "    <tr style=\"text-align: right;\">\n",
       "      <th></th>\n",
       "      <th>Peso</th>\n",
       "      <th>Altura</th>\n",
       "      <th>IMC</th>\n",
       "      <th>Classificação</th>\n",
       "    </tr>\n",
       "  </thead>\n",
       "  <tbody>\n",
       "    <tr>\n",
       "      <th>0</th>\n",
       "      <td>47</td>\n",
       "      <td>161</td>\n",
       "      <td>18.13</td>\n",
       "      <td>Subpeso</td>\n",
       "    </tr>\n",
       "    <tr>\n",
       "      <th>1</th>\n",
       "      <td>80</td>\n",
       "      <td>170</td>\n",
       "      <td>27.68</td>\n",
       "      <td>Sobrepeso</td>\n",
       "    </tr>\n",
       "    <tr>\n",
       "      <th>2</th>\n",
       "      <td>60</td>\n",
       "      <td>175</td>\n",
       "      <td>19.59</td>\n",
       "      <td>Normal</td>\n",
       "    </tr>\n",
       "    <tr>\n",
       "      <th>3</th>\n",
       "      <td>90</td>\n",
       "      <td>162</td>\n",
       "      <td>34.29</td>\n",
       "      <td>Obesidade Grau I</td>\n",
       "    </tr>\n",
       "    <tr>\n",
       "      <th>4</th>\n",
       "      <td>100</td>\n",
       "      <td>185</td>\n",
       "      <td>29.22</td>\n",
       "      <td>Sobrepeso</td>\n",
       "    </tr>\n",
       "    <tr>\n",
       "      <th>5</th>\n",
       "      <td>147</td>\n",
       "      <td>189</td>\n",
       "      <td>41.15</td>\n",
       "      <td>Obesidade Grau II</td>\n",
       "    </tr>\n",
       "  </tbody>\n",
       "</table>\n",
       "</div>"
      ],
      "text/plain": [
       "   Peso  Altura   IMC      Classificação\n",
       "0    47     161 18.13            Subpeso\n",
       "1    80     170 27.68          Sobrepeso\n",
       "2    60     175 19.59             Normal\n",
       "3    90     162 34.29   Obesidade Grau I\n",
       "4   100     185 29.22          Sobrepeso\n",
       "5   147     189 41.15  Obesidade Grau II"
      ]
     },
     "execution_count": 220,
     "metadata": {},
     "output_type": "execute_result"
    }
   ],
   "source": [
    "# (F)\n",
    "df['Classificação'] = df.apply(lambda x: classif(x['IMC']), axis=1)\n",
    "df"
   ]
  },
  {
   "cell_type": "markdown",
   "id": "0e9041a8",
   "metadata": {},
   "source": [
    "### Problema 3\n",
    "\n",
    "O arquivo avocado.xlsx consiste em um dataset que contém dados sobre vendas de abacates  em diversas regiões dos Estados Unidos. Essa dataset contém as seguintes colunas:\n",
    "\n",
    "| Coluna | Descrição |\n",
    "|--------|-----------|\n",
    "| Date | data da observação |\n",
    "| AveragePrice | preço médio de um único abacate |\n",
    "| year | ano |\n",
    "| region | cidade ou região da observação |\n",
    "| Total Volume | volume total de abacates vendidos |\n",
    "\n",
    "Além das informações acima, contidas no arquivo avocado.xlsx, o tipo do abacate (convencional ou orgânico) também seria uma informação importante para a sua análise. Suponhamos que você conseguiu essas informações para cada uma das observações do arquivo avocado.csv, na mesma ordem, e salvou-as no arquivo avocado_type.xlsx. Portanto, tudo o que você precisa é juntar esses dois arquivos em um mesmo DataFrame.\n",
    "\n",
    "Com o DataFrame criado, obtenha o que é solicitado nos itens elencados abaixo:\n",
    "\n",
    "\n"
   ]
  },
  {
   "cell_type": "code",
   "execution_count": 221,
   "id": "38e2e8af-b66d-473d-b7b3-063ab4ae011b",
   "metadata": {},
   "outputs": [],
   "source": [
    "df_avocado = pd.read_csv(\"./avocado.csv\",delimiter=';')\n",
    "df_avocado_type = pd.read_excel(\"./avocado_type.xlsx\")\n",
    "df_avocado['type'] = df_avocado_type"
   ]
  },
  {
   "cell_type": "code",
   "execution_count": 222,
   "id": "34b6a161-f5fe-4f34-b680-f7296a040bf8",
   "metadata": {},
   "outputs": [
    {
     "data": {
      "text/plain": [
       "(18249, 6)"
      ]
     },
     "execution_count": 222,
     "metadata": {},
     "output_type": "execute_result"
    }
   ],
   "source": [
    "df_avocado.shape"
   ]
  },
  {
   "cell_type": "markdown",
   "id": "10d16294",
   "metadata": {},
   "source": [
    "(a) A quantidade de abacates do tipo convecional e do tipo orgânico."
   ]
  },
  {
   "cell_type": "code",
   "execution_count": 223,
   "id": "66d688d7-882f-4cd8-8d16-ace906b4308a",
   "metadata": {},
   "outputs": [
    {
     "data": {
      "text/plain": [
       "type\n",
       "convencional    9114\n",
       "orgânico        9135\n",
       "dtype: int64"
      ]
     },
     "execution_count": 223,
     "metadata": {},
     "output_type": "execute_result"
    }
   ],
   "source": [
    "df_avocado.groupby(['type']).size()"
   ]
  },
  {
   "cell_type": "markdown",
   "id": "58b8d5f2",
   "metadata": {},
   "source": [
    "\n",
    "(b) A quantidade de registros (linhas) de abacates vendidos para cada região ordenada da maior venda para a menor."
   ]
  },
  {
   "cell_type": "code",
   "execution_count": 224,
   "id": "92e24605-2c4f-4b6f-9953-60729d0e5906",
   "metadata": {},
   "outputs": [],
   "source": [
    "#Pular"
   ]
  },
  {
   "cell_type": "markdown",
   "id": "e676c9e4",
   "metadata": {},
   "source": [
    "(c) Para que todos os labels das colunas fiquem padronizados, renomeie aqueles que estão iniciando em letra minúscula para que iniciem em letra maiúscula, trocando espaço por _ e adicionando _ como separação de texto."
   ]
  },
  {
   "cell_type": "code",
   "execution_count": 225,
   "id": "e6eb7fd4",
   "metadata": {},
   "outputs": [],
   "source": [
    "df_avocado = df_avocado.rename(columns={'AveragePrice': 'Average_Price', 'Total Volume': 'Total_Volume', 'year': 'Year', 'region': 'Region', 'type': 'Type'}) "
   ]
  },
  {
   "cell_type": "markdown",
   "id": "45fb0e66",
   "metadata": {},
   "source": [
    "(d) Essa dado possui duplicados? Se sim, remova-os do dataset."
   ]
  },
  {
   "cell_type": "code",
   "execution_count": 228,
   "id": "f6ddc02a",
   "metadata": {},
   "outputs": [
    {
     "data": {
      "text/plain": [
       "0"
      ]
     },
     "execution_count": 228,
     "metadata": {},
     "output_type": "execute_result"
    }
   ],
   "source": [
    "df_avocado.duplicated().sum()\n",
    "# Não há duplicados"
   ]
  },
  {
   "cell_type": "markdown",
   "id": "0f484a3c",
   "metadata": {},
   "source": [
    "(e) Retire dos dados a região 'TotalUS'"
   ]
  },
  {
   "cell_type": "code",
   "execution_count": 229,
   "id": "9e35b8e4",
   "metadata": {},
   "outputs": [],
   "source": [
    "df_avocado = df_avocado[df_avocado['Region'] != 'TotalUS']"
   ]
  },
  {
   "cell_type": "markdown",
   "id": "91367a13",
   "metadata": {},
   "source": [
    "(g) Apresente as regiões que mais venderam abacate em todo o período em ordem decrescente."
   ]
  },
  {
   "cell_type": "code",
   "execution_count": 230,
   "id": "8b0d4fb7",
   "metadata": {},
   "outputs": [
    {
     "data": {
      "text/html": [
       "<div>\n",
       "<style scoped>\n",
       "    .dataframe tbody tr th:only-of-type {\n",
       "        vertical-align: middle;\n",
       "    }\n",
       "\n",
       "    .dataframe tbody tr th {\n",
       "        vertical-align: top;\n",
       "    }\n",
       "\n",
       "    .dataframe thead th {\n",
       "        text-align: right;\n",
       "    }\n",
       "</style>\n",
       "<table border=\"1\" class=\"dataframe\">\n",
       "  <thead>\n",
       "    <tr style=\"text-align: right;\">\n",
       "      <th></th>\n",
       "      <th>Total_Volume</th>\n",
       "    </tr>\n",
       "    <tr>\n",
       "      <th>Region</th>\n",
       "      <th></th>\n",
       "    </tr>\n",
       "  </thead>\n",
       "  <tbody>\n",
       "    <tr>\n",
       "      <th>West</th>\n",
       "      <td>1,086,779,155.75</td>\n",
       "    </tr>\n",
       "    <tr>\n",
       "      <th>California</th>\n",
       "      <td>1,028,981,653.17</td>\n",
       "    </tr>\n",
       "    <tr>\n",
       "      <th>SouthCentral</th>\n",
       "      <td>1,011,279,618.83</td>\n",
       "    </tr>\n",
       "    <tr>\n",
       "      <th>Northeast</th>\n",
       "      <td>713,280,909.56</td>\n",
       "    </tr>\n",
       "    <tr>\n",
       "      <th>Southeast</th>\n",
       "      <td>615,238,409.11</td>\n",
       "    </tr>\n",
       "    <tr>\n",
       "      <th>GreatLakes</th>\n",
       "      <td>589,642,549.29</td>\n",
       "    </tr>\n",
       "    <tr>\n",
       "      <th>Midsouth</th>\n",
       "      <td>508,349,357.20</td>\n",
       "    </tr>\n",
       "    <tr>\n",
       "      <th>LosAngeles</th>\n",
       "      <td>507,896,547.63</td>\n",
       "    </tr>\n",
       "    <tr>\n",
       "      <th>Plains</th>\n",
       "      <td>311,188,529.11</td>\n",
       "    </tr>\n",
       "    <tr>\n",
       "      <th>NewYork</th>\n",
       "      <td>240,734,127.53</td>\n",
       "    </tr>\n",
       "    <tr>\n",
       "      <th>DallasFtWorth</th>\n",
       "      <td>208,419,286.55</td>\n",
       "    </tr>\n",
       "    <tr>\n",
       "      <th>Houston</th>\n",
       "      <td>203,167,867.80</td>\n",
       "    </tr>\n",
       "    <tr>\n",
       "      <th>PhoenixTucson</th>\n",
       "      <td>195,643,312.50</td>\n",
       "    </tr>\n",
       "    <tr>\n",
       "      <th>WestTexNewMexico</th>\n",
       "      <td>144,521,839.78</td>\n",
       "    </tr>\n",
       "    <tr>\n",
       "      <th>Denver</th>\n",
       "      <td>138,902,535.99</td>\n",
       "    </tr>\n",
       "    <tr>\n",
       "      <th>SanFrancisco</th>\n",
       "      <td>135,830,191.78</td>\n",
       "    </tr>\n",
       "    <tr>\n",
       "      <th>BaltimoreWashington</th>\n",
       "      <td>134,713,919.32</td>\n",
       "    </tr>\n",
       "    <tr>\n",
       "      <th>Chicago</th>\n",
       "      <td>133,702,338.51</td>\n",
       "    </tr>\n",
       "    <tr>\n",
       "      <th>Portland</th>\n",
       "      <td>110,552,211.60</td>\n",
       "    </tr>\n",
       "    <tr>\n",
       "      <th>Seattle</th>\n",
       "      <td>109,214,177.96</td>\n",
       "    </tr>\n",
       "    <tr>\n",
       "      <th>MiamiFtLauderdale</th>\n",
       "      <td>97,673,224.03</td>\n",
       "    </tr>\n",
       "    <tr>\n",
       "      <th>Boston</th>\n",
       "      <td>97,273,984.83</td>\n",
       "    </tr>\n",
       "    <tr>\n",
       "      <th>SanDiego</th>\n",
       "      <td>89,791,919.69</td>\n",
       "    </tr>\n",
       "    <tr>\n",
       "      <th>Atlanta</th>\n",
       "      <td>88,605,118.85</td>\n",
       "    </tr>\n",
       "    <tr>\n",
       "      <th>Sacramento</th>\n",
       "      <td>75,163,746.86</td>\n",
       "    </tr>\n",
       "    <tr>\n",
       "      <th>Philadelphia</th>\n",
       "      <td>71,838,798.18</td>\n",
       "    </tr>\n",
       "    <tr>\n",
       "      <th>NorthernNewEngland</th>\n",
       "      <td>71,532,894.11</td>\n",
       "    </tr>\n",
       "    <tr>\n",
       "      <th>Tampa</th>\n",
       "      <td>66,004,539.31</td>\n",
       "    </tr>\n",
       "    <tr>\n",
       "      <th>Detroit</th>\n",
       "      <td>63,422,419.38</td>\n",
       "    </tr>\n",
       "    <tr>\n",
       "      <th>SouthCarolina</th>\n",
       "      <td>60,753,772.90</td>\n",
       "    </tr>\n",
       "    <tr>\n",
       "      <th>Orlando</th>\n",
       "      <td>58,660,703.89</td>\n",
       "    </tr>\n",
       "    <tr>\n",
       "      <th>LasVegas</th>\n",
       "      <td>54,376,906.40</td>\n",
       "    </tr>\n",
       "    <tr>\n",
       "      <th>HartfordSpringfield</th>\n",
       "      <td>50,670,537.46</td>\n",
       "    </tr>\n",
       "    <tr>\n",
       "      <th>RaleighGreensboro</th>\n",
       "      <td>48,202,731.66</td>\n",
       "    </tr>\n",
       "    <tr>\n",
       "      <th>NewOrleansMobile</th>\n",
       "      <td>45,695,136.58</td>\n",
       "    </tr>\n",
       "    <tr>\n",
       "      <th>CincinnatiDayton</th>\n",
       "      <td>44,522,007.57</td>\n",
       "    </tr>\n",
       "    <tr>\n",
       "      <th>RichmondNorfolk</th>\n",
       "      <td>42,230,851.45</td>\n",
       "    </tr>\n",
       "    <tr>\n",
       "      <th>HarrisburgScranton</th>\n",
       "      <td>41,808,858.68</td>\n",
       "    </tr>\n",
       "    <tr>\n",
       "      <th>Nashville</th>\n",
       "      <td>35,612,089.23</td>\n",
       "    </tr>\n",
       "    <tr>\n",
       "      <th>Charlotte</th>\n",
       "      <td>35,555,544.42</td>\n",
       "    </tr>\n",
       "    <tr>\n",
       "      <th>StLouis</th>\n",
       "      <td>32,072,833.33</td>\n",
       "    </tr>\n",
       "    <tr>\n",
       "      <th>Indianapolis</th>\n",
       "      <td>30,263,391.43</td>\n",
       "    </tr>\n",
       "    <tr>\n",
       "      <th>GrandRapids</th>\n",
       "      <td>30,211,735.93</td>\n",
       "    </tr>\n",
       "    <tr>\n",
       "      <th>Columbus</th>\n",
       "      <td>29,993,361.42</td>\n",
       "    </tr>\n",
       "    <tr>\n",
       "      <th>Jacksonville</th>\n",
       "      <td>28,790,004.74</td>\n",
       "    </tr>\n",
       "    <tr>\n",
       "      <th>Roanoke</th>\n",
       "      <td>25,042,010.81</td>\n",
       "    </tr>\n",
       "    <tr>\n",
       "      <th>BuffaloRochester</th>\n",
       "      <td>22,962,470.40</td>\n",
       "    </tr>\n",
       "    <tr>\n",
       "      <th>Pittsburgh</th>\n",
       "      <td>18,806,345.81</td>\n",
       "    </tr>\n",
       "    <tr>\n",
       "      <th>Louisville</th>\n",
       "      <td>16,097,002.40</td>\n",
       "    </tr>\n",
       "    <tr>\n",
       "      <th>Albany</th>\n",
       "      <td>16,067,799.97</td>\n",
       "    </tr>\n",
       "    <tr>\n",
       "      <th>Spokane</th>\n",
       "      <td>15,565,275.48</td>\n",
       "    </tr>\n",
       "    <tr>\n",
       "      <th>Boise</th>\n",
       "      <td>14,413,187.75</td>\n",
       "    </tr>\n",
       "    <tr>\n",
       "      <th>Syracuse</th>\n",
       "      <td>10,942,667.68</td>\n",
       "    </tr>\n",
       "  </tbody>\n",
       "</table>\n",
       "</div>"
      ],
      "text/plain": [
       "                        Total_Volume\n",
       "Region                              \n",
       "West                1,086,779,155.75\n",
       "California          1,028,981,653.17\n",
       "SouthCentral        1,011,279,618.83\n",
       "Northeast             713,280,909.56\n",
       "Southeast             615,238,409.11\n",
       "GreatLakes            589,642,549.29\n",
       "Midsouth              508,349,357.20\n",
       "LosAngeles            507,896,547.63\n",
       "Plains                311,188,529.11\n",
       "NewYork               240,734,127.53\n",
       "DallasFtWorth         208,419,286.55\n",
       "Houston               203,167,867.80\n",
       "PhoenixTucson         195,643,312.50\n",
       "WestTexNewMexico      144,521,839.78\n",
       "Denver                138,902,535.99\n",
       "SanFrancisco          135,830,191.78\n",
       "BaltimoreWashington   134,713,919.32\n",
       "Chicago               133,702,338.51\n",
       "Portland              110,552,211.60\n",
       "Seattle               109,214,177.96\n",
       "MiamiFtLauderdale      97,673,224.03\n",
       "Boston                 97,273,984.83\n",
       "SanDiego               89,791,919.69\n",
       "Atlanta                88,605,118.85\n",
       "Sacramento             75,163,746.86\n",
       "Philadelphia           71,838,798.18\n",
       "NorthernNewEngland     71,532,894.11\n",
       "Tampa                  66,004,539.31\n",
       "Detroit                63,422,419.38\n",
       "SouthCarolina          60,753,772.90\n",
       "Orlando                58,660,703.89\n",
       "LasVegas               54,376,906.40\n",
       "HartfordSpringfield    50,670,537.46\n",
       "RaleighGreensboro      48,202,731.66\n",
       "NewOrleansMobile       45,695,136.58\n",
       "CincinnatiDayton       44,522,007.57\n",
       "RichmondNorfolk        42,230,851.45\n",
       "HarrisburgScranton     41,808,858.68\n",
       "Nashville              35,612,089.23\n",
       "Charlotte              35,555,544.42\n",
       "StLouis                32,072,833.33\n",
       "Indianapolis           30,263,391.43\n",
       "GrandRapids            30,211,735.93\n",
       "Columbus               29,993,361.42\n",
       "Jacksonville           28,790,004.74\n",
       "Roanoke                25,042,010.81\n",
       "BuffaloRochester       22,962,470.40\n",
       "Pittsburgh             18,806,345.81\n",
       "Louisville             16,097,002.40\n",
       "Albany                 16,067,799.97\n",
       "Spokane                15,565,275.48\n",
       "Boise                  14,413,187.75\n",
       "Syracuse               10,942,667.68"
      ]
     },
     "execution_count": 230,
     "metadata": {},
     "output_type": "execute_result"
    }
   ],
   "source": [
    "df_avocado.groupby(['Region']).agg({'Total_Volume':np.sum}).sort_values(by=\"Total_Volume\",ascending=False)"
   ]
  },
  {
   "cell_type": "markdown",
   "id": "6cc5df35",
   "metadata": {},
   "source": [
    "(h) Calcule o volume total de abacates vendidos para cada tipo e ano."
   ]
  },
  {
   "cell_type": "code",
   "execution_count": 231,
   "id": "bc3b2aa8",
   "metadata": {},
   "outputs": [
    {
     "data": {
      "text/html": [
       "<div>\n",
       "<style scoped>\n",
       "    .dataframe tbody tr th:only-of-type {\n",
       "        vertical-align: middle;\n",
       "    }\n",
       "\n",
       "    .dataframe tbody tr th {\n",
       "        vertical-align: top;\n",
       "    }\n",
       "\n",
       "    .dataframe thead th {\n",
       "        text-align: right;\n",
       "    }\n",
       "</style>\n",
       "<table border=\"1\" class=\"dataframe\">\n",
       "  <thead>\n",
       "    <tr style=\"text-align: right;\">\n",
       "      <th></th>\n",
       "      <th></th>\n",
       "      <th>Total_Volume</th>\n",
       "    </tr>\n",
       "    <tr>\n",
       "      <th>Type</th>\n",
       "      <th>Year</th>\n",
       "      <th></th>\n",
       "    </tr>\n",
       "  </thead>\n",
       "  <tbody>\n",
       "    <tr>\n",
       "      <th rowspan=\"4\" valign=\"top\">convencional</th>\n",
       "      <th>2015</th>\n",
       "      <td>1,405,835,526.60</td>\n",
       "    </tr>\n",
       "    <tr>\n",
       "      <th>2016</th>\n",
       "      <td>1,538,913,526.12</td>\n",
       "    </tr>\n",
       "    <tr>\n",
       "      <th>2017</th>\n",
       "      <td>1,505,463,914.14</td>\n",
       "    </tr>\n",
       "    <tr>\n",
       "      <th>2018</th>\n",
       "      <td>433,710,441.83</td>\n",
       "    </tr>\n",
       "    <tr>\n",
       "      <th rowspan=\"4\" valign=\"top\">orgânico</th>\n",
       "      <th>2015</th>\n",
       "      <td>1,322,377,914.02</td>\n",
       "    </tr>\n",
       "    <tr>\n",
       "      <th>2016</th>\n",
       "      <td>1,462,817,222.93</td>\n",
       "    </tr>\n",
       "    <tr>\n",
       "      <th>2017</th>\n",
       "      <td>1,564,148,221.75</td>\n",
       "    </tr>\n",
       "    <tr>\n",
       "      <th>2018</th>\n",
       "      <td>425,395,644.21</td>\n",
       "    </tr>\n",
       "  </tbody>\n",
       "</table>\n",
       "</div>"
      ],
      "text/plain": [
       "                      Total_Volume\n",
       "Type         Year                 \n",
       "convencional 2015 1,405,835,526.60\n",
       "             2016 1,538,913,526.12\n",
       "             2017 1,505,463,914.14\n",
       "             2018   433,710,441.83\n",
       "orgânico     2015 1,322,377,914.02\n",
       "             2016 1,462,817,222.93\n",
       "             2017 1,564,148,221.75\n",
       "             2018   425,395,644.21"
      ]
     },
     "execution_count": 231,
     "metadata": {},
     "output_type": "execute_result"
    }
   ],
   "source": [
    "df_avocado.groupby(['Type','Year']).agg({'Total_Volume':np.sum})"
   ]
  },
  {
   "cell_type": "markdown",
   "id": "7c3d71b9",
   "metadata": {},
   "source": [
    "(f) existe alguma região que foi a maior responsável pela queda na produção de 2018?"
   ]
  },
  {
   "cell_type": "code",
   "execution_count": 232,
   "id": "ce891cdd-05a6-48d5-8209-e5913c4ac784",
   "metadata": {},
   "outputs": [
    {
     "data": {
      "text/html": [
       "<div>\n",
       "<style scoped>\n",
       "    .dataframe tbody tr th:only-of-type {\n",
       "        vertical-align: middle;\n",
       "    }\n",
       "\n",
       "    .dataframe tbody tr th {\n",
       "        vertical-align: top;\n",
       "    }\n",
       "\n",
       "    .dataframe thead th {\n",
       "        text-align: right;\n",
       "    }\n",
       "</style>\n",
       "<table border=\"1\" class=\"dataframe\">\n",
       "  <thead>\n",
       "    <tr style=\"text-align: right;\">\n",
       "      <th></th>\n",
       "      <th>Total_Volume</th>\n",
       "    </tr>\n",
       "    <tr>\n",
       "      <th>Region</th>\n",
       "      <th></th>\n",
       "    </tr>\n",
       "  </thead>\n",
       "  <tbody>\n",
       "    <tr>\n",
       "      <th>Syracuse</th>\n",
       "      <td>1,046,987.66</td>\n",
       "    </tr>\n",
       "  </tbody>\n",
       "</table>\n",
       "</div>"
      ],
      "text/plain": [
       "          Total_Volume\n",
       "Region                \n",
       "Syracuse  1,046,987.66"
      ]
     },
     "execution_count": 232,
     "metadata": {},
     "output_type": "execute_result"
    }
   ],
   "source": [
    "df_avocado[df_avocado['Year'] == 2018].groupby(['Region']).agg({'Total_Volume':np.sum}).sort_values(by=\"Total_Volume\",ascending=True).head(1)"
   ]
  },
  {
   "cell_type": "markdown",
   "id": "af47a0e8",
   "metadata": {},
   "source": [
    "(g) Qual cidade menos faturou com a venda de abacates?"
   ]
  },
  {
   "cell_type": "code",
   "execution_count": 233,
   "id": "02788f23-9501-4033-9f9a-482403e25432",
   "metadata": {},
   "outputs": [],
   "source": [
    "df_avocado['Faturamento'] = df_avocado['Total_Volume'] * df_avocado['Average_Price']"
   ]
  },
  {
   "cell_type": "code",
   "execution_count": 234,
   "id": "3761784a",
   "metadata": {},
   "outputs": [
    {
     "data": {
      "text/html": [
       "<div>\n",
       "<style scoped>\n",
       "    .dataframe tbody tr th:only-of-type {\n",
       "        vertical-align: middle;\n",
       "    }\n",
       "\n",
       "    .dataframe tbody tr th {\n",
       "        vertical-align: top;\n",
       "    }\n",
       "\n",
       "    .dataframe thead th {\n",
       "        text-align: right;\n",
       "    }\n",
       "</style>\n",
       "<table border=\"1\" class=\"dataframe\">\n",
       "  <thead>\n",
       "    <tr style=\"text-align: right;\">\n",
       "      <th></th>\n",
       "      <th>Faturamento</th>\n",
       "    </tr>\n",
       "    <tr>\n",
       "      <th>Region</th>\n",
       "      <th></th>\n",
       "    </tr>\n",
       "  </thead>\n",
       "  <tbody>\n",
       "    <tr>\n",
       "      <th>Syracuse</th>\n",
       "      <td>15,205,192.60</td>\n",
       "    </tr>\n",
       "  </tbody>\n",
       "</table>\n",
       "</div>"
      ],
      "text/plain": [
       "           Faturamento\n",
       "Region                \n",
       "Syracuse 15,205,192.60"
      ]
     },
     "execution_count": 234,
     "metadata": {},
     "output_type": "execute_result"
    }
   ],
   "source": [
    "df_avocado.groupby(['Region']).agg({'Faturamento':np.sum}).sort_values(by=\"Faturamento\",ascending=True).head(1)"
   ]
  },
  {
   "cell_type": "markdown",
   "id": "70de73df",
   "metadata": {},
   "source": [
    "### Problema 4\n",
    "\n",
    "Com base no dataset 'Video_Games_Sales.csv' responda:\n"
   ]
  },
  {
   "cell_type": "code",
   "execution_count": 235,
   "id": "a169f830-036e-4af4-bfb3-517c9aadc74b",
   "metadata": {},
   "outputs": [],
   "source": [
    "df_games = pd.read_csv(\"./Video_Games_Sales.csv\", delimiter=';')\n",
    "#df_games.dropna(inplace=True)\n",
    "#df_games = df_games.astype({'Year_of_Release': int})"
   ]
  },
  {
   "cell_type": "code",
   "execution_count": 236,
   "id": "aff9260d-592b-4e0d-b12d-ee5300e11c81",
   "metadata": {},
   "outputs": [
    {
     "data": {
      "text/html": [
       "<div>\n",
       "<style scoped>\n",
       "    .dataframe tbody tr th:only-of-type {\n",
       "        vertical-align: middle;\n",
       "    }\n",
       "\n",
       "    .dataframe tbody tr th {\n",
       "        vertical-align: top;\n",
       "    }\n",
       "\n",
       "    .dataframe thead th {\n",
       "        text-align: right;\n",
       "    }\n",
       "</style>\n",
       "<table border=\"1\" class=\"dataframe\">\n",
       "  <thead>\n",
       "    <tr style=\"text-align: right;\">\n",
       "      <th></th>\n",
       "      <th>Name</th>\n",
       "      <th>Platform</th>\n",
       "      <th>Year_of_Release</th>\n",
       "      <th>Genre</th>\n",
       "      <th>Publisher</th>\n",
       "      <th>NA_Sales</th>\n",
       "      <th>EU_Sales</th>\n",
       "      <th>JP_Sales</th>\n",
       "      <th>Other_Sales</th>\n",
       "      <th>Global_Sales</th>\n",
       "      <th>Critic_Score</th>\n",
       "      <th>Critic_Count</th>\n",
       "      <th>User_Score</th>\n",
       "      <th>User_Count</th>\n",
       "      <th>Developer</th>\n",
       "      <th>Rating</th>\n",
       "    </tr>\n",
       "  </thead>\n",
       "  <tbody>\n",
       "    <tr>\n",
       "      <th>0</th>\n",
       "      <td>Wii Sports</td>\n",
       "      <td>Wii</td>\n",
       "      <td>2,006.00</td>\n",
       "      <td>Sports</td>\n",
       "      <td>Nintendo</td>\n",
       "      <td>41.36</td>\n",
       "      <td>28.96</td>\n",
       "      <td>3.77</td>\n",
       "      <td>8.45</td>\n",
       "      <td>82.53</td>\n",
       "      <td>76.00</td>\n",
       "      <td>51.00</td>\n",
       "      <td>8.00</td>\n",
       "      <td>322.00</td>\n",
       "      <td>Nintendo</td>\n",
       "      <td>E</td>\n",
       "    </tr>\n",
       "    <tr>\n",
       "      <th>1</th>\n",
       "      <td>Super Mario Bros.</td>\n",
       "      <td>NES</td>\n",
       "      <td>1,985.00</td>\n",
       "      <td>Platform</td>\n",
       "      <td>Nintendo</td>\n",
       "      <td>29.08</td>\n",
       "      <td>3.58</td>\n",
       "      <td>6.81</td>\n",
       "      <td>0.77</td>\n",
       "      <td>40.24</td>\n",
       "      <td>NaN</td>\n",
       "      <td>NaN</td>\n",
       "      <td>NaN</td>\n",
       "      <td>NaN</td>\n",
       "      <td>NaN</td>\n",
       "      <td>NaN</td>\n",
       "    </tr>\n",
       "    <tr>\n",
       "      <th>2</th>\n",
       "      <td>Mario Kart Wii</td>\n",
       "      <td>Wii</td>\n",
       "      <td>2,008.00</td>\n",
       "      <td>Racing</td>\n",
       "      <td>Nintendo</td>\n",
       "      <td>15.68</td>\n",
       "      <td>12.76</td>\n",
       "      <td>3.79</td>\n",
       "      <td>3.29</td>\n",
       "      <td>35.52</td>\n",
       "      <td>82.00</td>\n",
       "      <td>73.00</td>\n",
       "      <td>8.30</td>\n",
       "      <td>709.00</td>\n",
       "      <td>Nintendo</td>\n",
       "      <td>E</td>\n",
       "    </tr>\n",
       "    <tr>\n",
       "      <th>3</th>\n",
       "      <td>Wii Sports Resort</td>\n",
       "      <td>Wii</td>\n",
       "      <td>2,009.00</td>\n",
       "      <td>Sports</td>\n",
       "      <td>Nintendo</td>\n",
       "      <td>15.61</td>\n",
       "      <td>10.93</td>\n",
       "      <td>3.28</td>\n",
       "      <td>2.95</td>\n",
       "      <td>32.77</td>\n",
       "      <td>80.00</td>\n",
       "      <td>73.00</td>\n",
       "      <td>8.00</td>\n",
       "      <td>192.00</td>\n",
       "      <td>Nintendo</td>\n",
       "      <td>E</td>\n",
       "    </tr>\n",
       "    <tr>\n",
       "      <th>4</th>\n",
       "      <td>Pokemon Red/Pokemon Blue</td>\n",
       "      <td>GB</td>\n",
       "      <td>1,996.00</td>\n",
       "      <td>Role-Playing</td>\n",
       "      <td>Nintendo</td>\n",
       "      <td>11.27</td>\n",
       "      <td>8.89</td>\n",
       "      <td>10.22</td>\n",
       "      <td>1.00</td>\n",
       "      <td>31.37</td>\n",
       "      <td>NaN</td>\n",
       "      <td>NaN</td>\n",
       "      <td>NaN</td>\n",
       "      <td>NaN</td>\n",
       "      <td>NaN</td>\n",
       "      <td>NaN</td>\n",
       "    </tr>\n",
       "    <tr>\n",
       "      <th>...</th>\n",
       "      <td>...</td>\n",
       "      <td>...</td>\n",
       "      <td>...</td>\n",
       "      <td>...</td>\n",
       "      <td>...</td>\n",
       "      <td>...</td>\n",
       "      <td>...</td>\n",
       "      <td>...</td>\n",
       "      <td>...</td>\n",
       "      <td>...</td>\n",
       "      <td>...</td>\n",
       "      <td>...</td>\n",
       "      <td>...</td>\n",
       "      <td>...</td>\n",
       "      <td>...</td>\n",
       "      <td>...</td>\n",
       "    </tr>\n",
       "    <tr>\n",
       "      <th>16714</th>\n",
       "      <td>Samurai Warriors: Sanada Maru</td>\n",
       "      <td>PS3</td>\n",
       "      <td>2,016.00</td>\n",
       "      <td>Action</td>\n",
       "      <td>Tecmo Koei</td>\n",
       "      <td>0.00</td>\n",
       "      <td>0.00</td>\n",
       "      <td>0.01</td>\n",
       "      <td>0.00</td>\n",
       "      <td>0.01</td>\n",
       "      <td>NaN</td>\n",
       "      <td>NaN</td>\n",
       "      <td>NaN</td>\n",
       "      <td>NaN</td>\n",
       "      <td>NaN</td>\n",
       "      <td>NaN</td>\n",
       "    </tr>\n",
       "    <tr>\n",
       "      <th>16715</th>\n",
       "      <td>LMA Manager 2007</td>\n",
       "      <td>X360</td>\n",
       "      <td>2,006.00</td>\n",
       "      <td>Sports</td>\n",
       "      <td>Codemasters</td>\n",
       "      <td>0.00</td>\n",
       "      <td>0.01</td>\n",
       "      <td>0.00</td>\n",
       "      <td>0.00</td>\n",
       "      <td>0.01</td>\n",
       "      <td>NaN</td>\n",
       "      <td>NaN</td>\n",
       "      <td>NaN</td>\n",
       "      <td>NaN</td>\n",
       "      <td>NaN</td>\n",
       "      <td>NaN</td>\n",
       "    </tr>\n",
       "    <tr>\n",
       "      <th>16716</th>\n",
       "      <td>Haitaka no Psychedelica</td>\n",
       "      <td>PSV</td>\n",
       "      <td>2,016.00</td>\n",
       "      <td>Adventure</td>\n",
       "      <td>Idea Factory</td>\n",
       "      <td>0.00</td>\n",
       "      <td>0.00</td>\n",
       "      <td>0.01</td>\n",
       "      <td>0.00</td>\n",
       "      <td>0.01</td>\n",
       "      <td>NaN</td>\n",
       "      <td>NaN</td>\n",
       "      <td>NaN</td>\n",
       "      <td>NaN</td>\n",
       "      <td>NaN</td>\n",
       "      <td>NaN</td>\n",
       "    </tr>\n",
       "    <tr>\n",
       "      <th>16717</th>\n",
       "      <td>Spirits &amp; Spells</td>\n",
       "      <td>GBA</td>\n",
       "      <td>2,003.00</td>\n",
       "      <td>Platform</td>\n",
       "      <td>Wanadoo</td>\n",
       "      <td>0.01</td>\n",
       "      <td>0.00</td>\n",
       "      <td>0.00</td>\n",
       "      <td>0.00</td>\n",
       "      <td>0.01</td>\n",
       "      <td>NaN</td>\n",
       "      <td>NaN</td>\n",
       "      <td>NaN</td>\n",
       "      <td>NaN</td>\n",
       "      <td>NaN</td>\n",
       "      <td>NaN</td>\n",
       "    </tr>\n",
       "    <tr>\n",
       "      <th>16718</th>\n",
       "      <td>Winning Post 8 2016</td>\n",
       "      <td>PSV</td>\n",
       "      <td>2,016.00</td>\n",
       "      <td>Simulation</td>\n",
       "      <td>Tecmo Koei</td>\n",
       "      <td>0.00</td>\n",
       "      <td>0.00</td>\n",
       "      <td>0.01</td>\n",
       "      <td>0.00</td>\n",
       "      <td>0.01</td>\n",
       "      <td>NaN</td>\n",
       "      <td>NaN</td>\n",
       "      <td>NaN</td>\n",
       "      <td>NaN</td>\n",
       "      <td>NaN</td>\n",
       "      <td>NaN</td>\n",
       "    </tr>\n",
       "  </tbody>\n",
       "</table>\n",
       "<p>16719 rows × 16 columns</p>\n",
       "</div>"
      ],
      "text/plain": [
       "                                Name Platform  Year_of_Release         Genre  \\\n",
       "0                         Wii Sports      Wii         2,006.00        Sports   \n",
       "1                  Super Mario Bros.      NES         1,985.00      Platform   \n",
       "2                     Mario Kart Wii      Wii         2,008.00        Racing   \n",
       "3                  Wii Sports Resort      Wii         2,009.00        Sports   \n",
       "4           Pokemon Red/Pokemon Blue       GB         1,996.00  Role-Playing   \n",
       "...                              ...      ...              ...           ...   \n",
       "16714  Samurai Warriors: Sanada Maru      PS3         2,016.00        Action   \n",
       "16715               LMA Manager 2007     X360         2,006.00        Sports   \n",
       "16716        Haitaka no Psychedelica      PSV         2,016.00     Adventure   \n",
       "16717               Spirits & Spells      GBA         2,003.00      Platform   \n",
       "16718            Winning Post 8 2016      PSV         2,016.00    Simulation   \n",
       "\n",
       "          Publisher  NA_Sales  EU_Sales  JP_Sales  Other_Sales  Global_Sales  \\\n",
       "0          Nintendo     41.36     28.96      3.77         8.45         82.53   \n",
       "1          Nintendo     29.08      3.58      6.81         0.77         40.24   \n",
       "2          Nintendo     15.68     12.76      3.79         3.29         35.52   \n",
       "3          Nintendo     15.61     10.93      3.28         2.95         32.77   \n",
       "4          Nintendo     11.27      8.89     10.22         1.00         31.37   \n",
       "...             ...       ...       ...       ...          ...           ...   \n",
       "16714    Tecmo Koei      0.00      0.00      0.01         0.00          0.01   \n",
       "16715   Codemasters      0.00      0.01      0.00         0.00          0.01   \n",
       "16716  Idea Factory      0.00      0.00      0.01         0.00          0.01   \n",
       "16717       Wanadoo      0.01      0.00      0.00         0.00          0.01   \n",
       "16718    Tecmo Koei      0.00      0.00      0.01         0.00          0.01   \n",
       "\n",
       "       Critic_Score  Critic_Count  User_Score  User_Count Developer Rating  \n",
       "0             76.00         51.00        8.00      322.00  Nintendo      E  \n",
       "1               NaN           NaN         NaN         NaN       NaN    NaN  \n",
       "2             82.00         73.00        8.30      709.00  Nintendo      E  \n",
       "3             80.00         73.00        8.00      192.00  Nintendo      E  \n",
       "4               NaN           NaN         NaN         NaN       NaN    NaN  \n",
       "...             ...           ...         ...         ...       ...    ...  \n",
       "16714           NaN           NaN         NaN         NaN       NaN    NaN  \n",
       "16715           NaN           NaN         NaN         NaN       NaN    NaN  \n",
       "16716           NaN           NaN         NaN         NaN       NaN    NaN  \n",
       "16717           NaN           NaN         NaN         NaN       NaN    NaN  \n",
       "16718           NaN           NaN         NaN         NaN       NaN    NaN  \n",
       "\n",
       "[16719 rows x 16 columns]"
      ]
     },
     "execution_count": 236,
     "metadata": {},
     "output_type": "execute_result"
    }
   ],
   "source": [
    "df_games"
   ]
  },
  {
   "cell_type": "markdown",
   "id": "121c2716",
   "metadata": {},
   "source": [
    "\n",
    "(a) Quantos jogos existem em cada genero?\n"
   ]
  },
  {
   "cell_type": "code",
   "execution_count": 237,
   "id": "421c5d87-a990-401c-9c81-abbd0a9733df",
   "metadata": {},
   "outputs": [
    {
     "data": {
      "text/plain": [
       "Genre\n",
       "Action          3370\n",
       "Sports          2348\n",
       "Misc            1750\n",
       "Role-Playing    1500\n",
       "Shooter         1323\n",
       "Adventure       1303\n",
       "Racing          1249\n",
       "Platform         888\n",
       "Simulation       874\n",
       "Fighting         849\n",
       "Strategy         683\n",
       "Puzzle           580\n",
       "dtype: int64"
      ]
     },
     "execution_count": 237,
     "metadata": {},
     "output_type": "execute_result"
    }
   ],
   "source": [
    "df_games.groupby(['Genre']).size().sort_values(ascending=False)"
   ]
  },
  {
   "cell_type": "markdown",
   "id": "5f45c63c",
   "metadata": {},
   "source": [
    "(b) Temos duplicados nesses dados? E nulos?"
   ]
  },
  {
   "cell_type": "code",
   "execution_count": 238,
   "id": "c19437c3",
   "metadata": {},
   "outputs": [
    {
     "data": {
      "text/plain": [
       "Name                  2\n",
       "Platform              0\n",
       "Year_of_Release     269\n",
       "Genre                 2\n",
       "Publisher            54\n",
       "NA_Sales              0\n",
       "EU_Sales              0\n",
       "JP_Sales              0\n",
       "Other_Sales           0\n",
       "Global_Sales          0\n",
       "Critic_Score       8582\n",
       "Critic_Count       8582\n",
       "User_Score         9129\n",
       "User_Count         9129\n",
       "Developer          6623\n",
       "Rating             6769\n",
       "dtype: int64"
      ]
     },
     "execution_count": 238,
     "metadata": {},
     "output_type": "execute_result"
    }
   ],
   "source": [
    "df_games.isnull().sum()\n",
    "#Há valores nulos no df."
   ]
  },
  {
   "cell_type": "code",
   "execution_count": 239,
   "id": "c528f574-02bf-4367-bac8-97e2647f1a05",
   "metadata": {},
   "outputs": [
    {
     "data": {
      "text/plain": [
       "0"
      ]
     },
     "execution_count": 239,
     "metadata": {},
     "output_type": "execute_result"
    }
   ],
   "source": [
    "#solução professora\n",
    "df_games.duplicated().sum()"
   ]
  },
  {
   "cell_type": "code",
   "execution_count": 240,
   "id": "33273076-c469-4e39-95bf-888781c3bdb9",
   "metadata": {},
   "outputs": [
    {
     "name": "stdout",
     "output_type": "stream",
     "text": [
      "(16719, 16)\n",
      "(16719, 16)\n",
      "Não há duplicados\n"
     ]
    }
   ],
   "source": [
    "df_games_novo = df_games.drop_duplicates()\n",
    "print(df_games.shape)\n",
    "print(df_games_novo.shape)\n",
    "print('Não há duplicados')"
   ]
  },
  {
   "cell_type": "markdown",
   "id": "d2be358c",
   "metadata": {},
   "source": [
    "(b) Quantos jogos de cada publisher receberam nota acima de 9 na avaliação dos usuarios?"
   ]
  },
  {
   "cell_type": "code",
   "execution_count": 241,
   "id": "7df66316",
   "metadata": {},
   "outputs": [
    {
     "data": {
      "text/html": [
       "<div>\n",
       "<style scoped>\n",
       "    .dataframe tbody tr th:only-of-type {\n",
       "        vertical-align: middle;\n",
       "    }\n",
       "\n",
       "    .dataframe tbody tr th {\n",
       "        vertical-align: top;\n",
       "    }\n",
       "\n",
       "    .dataframe thead th {\n",
       "        text-align: right;\n",
       "    }\n",
       "</style>\n",
       "<table border=\"1\" class=\"dataframe\">\n",
       "  <thead>\n",
       "    <tr style=\"text-align: right;\">\n",
       "      <th></th>\n",
       "      <th>User_Score</th>\n",
       "    </tr>\n",
       "    <tr>\n",
       "      <th>Publisher</th>\n",
       "      <th></th>\n",
       "    </tr>\n",
       "  </thead>\n",
       "  <tbody>\n",
       "    <tr>\n",
       "      <th>Nintendo</th>\n",
       "      <td>20</td>\n",
       "    </tr>\n",
       "    <tr>\n",
       "      <th>Electronic Arts</th>\n",
       "      <td>19</td>\n",
       "    </tr>\n",
       "    <tr>\n",
       "      <th>Activision</th>\n",
       "      <td>16</td>\n",
       "    </tr>\n",
       "    <tr>\n",
       "      <th>Konami Digital Entertainment</th>\n",
       "      <td>10</td>\n",
       "    </tr>\n",
       "    <tr>\n",
       "      <th>THQ</th>\n",
       "      <td>10</td>\n",
       "    </tr>\n",
       "    <tr>\n",
       "      <th>Tecmo Koei</th>\n",
       "      <td>9</td>\n",
       "    </tr>\n",
       "    <tr>\n",
       "      <th>Capcom</th>\n",
       "      <td>9</td>\n",
       "    </tr>\n",
       "    <tr>\n",
       "      <th>Vivendi Games</th>\n",
       "      <td>8</td>\n",
       "    </tr>\n",
       "    <tr>\n",
       "      <th>Atari</th>\n",
       "      <td>7</td>\n",
       "    </tr>\n",
       "    <tr>\n",
       "      <th>Sony Computer Entertainment</th>\n",
       "      <td>7</td>\n",
       "    </tr>\n",
       "    <tr>\n",
       "      <th>Sega</th>\n",
       "      <td>7</td>\n",
       "    </tr>\n",
       "    <tr>\n",
       "      <th>Namco Bandai Games</th>\n",
       "      <td>6</td>\n",
       "    </tr>\n",
       "    <tr>\n",
       "      <th>Ubisoft</th>\n",
       "      <td>5</td>\n",
       "    </tr>\n",
       "    <tr>\n",
       "      <th>Midway Games</th>\n",
       "      <td>5</td>\n",
       "    </tr>\n",
       "    <tr>\n",
       "      <th>Eidos Interactive</th>\n",
       "      <td>5</td>\n",
       "    </tr>\n",
       "    <tr>\n",
       "      <th>Take-Two Interactive</th>\n",
       "      <td>4</td>\n",
       "    </tr>\n",
       "    <tr>\n",
       "      <th>Sony Computer Entertainment Europe</th>\n",
       "      <td>3</td>\n",
       "    </tr>\n",
       "    <tr>\n",
       "      <th>PQube</th>\n",
       "      <td>2</td>\n",
       "    </tr>\n",
       "    <tr>\n",
       "      <th>Acclaim Entertainment</th>\n",
       "      <td>2</td>\n",
       "    </tr>\n",
       "    <tr>\n",
       "      <th>Microsoft Game Studios</th>\n",
       "      <td>2</td>\n",
       "    </tr>\n",
       "    <tr>\n",
       "      <th>Marvelous Interactive</th>\n",
       "      <td>2</td>\n",
       "    </tr>\n",
       "    <tr>\n",
       "      <th>Zoo Digital Publishing</th>\n",
       "      <td>2</td>\n",
       "    </tr>\n",
       "    <tr>\n",
       "      <th>Atlus</th>\n",
       "      <td>2</td>\n",
       "    </tr>\n",
       "    <tr>\n",
       "      <th>LucasArts</th>\n",
       "      <td>1</td>\n",
       "    </tr>\n",
       "    <tr>\n",
       "      <th>Sting</th>\n",
       "      <td>1</td>\n",
       "    </tr>\n",
       "    <tr>\n",
       "      <th>Activision Value</th>\n",
       "      <td>1</td>\n",
       "    </tr>\n",
       "    <tr>\n",
       "      <th>Virgin Interactive</th>\n",
       "      <td>1</td>\n",
       "    </tr>\n",
       "    <tr>\n",
       "      <th>ValuSoft</th>\n",
       "      <td>1</td>\n",
       "    </tr>\n",
       "    <tr>\n",
       "      <th>Telegames</th>\n",
       "      <td>1</td>\n",
       "    </tr>\n",
       "    <tr>\n",
       "      <th>Bethesda Softworks</th>\n",
       "      <td>1</td>\n",
       "    </tr>\n",
       "    <tr>\n",
       "      <th>Codemasters</th>\n",
       "      <td>1</td>\n",
       "    </tr>\n",
       "    <tr>\n",
       "      <th>Destination Software, Inc</th>\n",
       "      <td>1</td>\n",
       "    </tr>\n",
       "    <tr>\n",
       "      <th>Sunflowers</th>\n",
       "      <td>1</td>\n",
       "    </tr>\n",
       "    <tr>\n",
       "      <th>Square Enix</th>\n",
       "      <td>1</td>\n",
       "    </tr>\n",
       "    <tr>\n",
       "      <th>Metro 3D</th>\n",
       "      <td>1</td>\n",
       "    </tr>\n",
       "    <tr>\n",
       "      <th>Square</th>\n",
       "      <td>1</td>\n",
       "    </tr>\n",
       "    <tr>\n",
       "      <th>Disney Interactive Studios</th>\n",
       "      <td>1</td>\n",
       "    </tr>\n",
       "    <tr>\n",
       "      <th>GT Interactive</th>\n",
       "      <td>1</td>\n",
       "    </tr>\n",
       "    <tr>\n",
       "      <th>Ignition Entertainment</th>\n",
       "      <td>1</td>\n",
       "    </tr>\n",
       "    <tr>\n",
       "      <th>Infogrames</th>\n",
       "      <td>1</td>\n",
       "    </tr>\n",
       "    <tr>\n",
       "      <th>Interplay</th>\n",
       "      <td>1</td>\n",
       "    </tr>\n",
       "    <tr>\n",
       "      <th>Jaleco</th>\n",
       "      <td>1</td>\n",
       "    </tr>\n",
       "    <tr>\n",
       "      <th>Kadokawa Shoten</th>\n",
       "      <td>1</td>\n",
       "    </tr>\n",
       "    <tr>\n",
       "      <th>Kemco</th>\n",
       "      <td>1</td>\n",
       "    </tr>\n",
       "    <tr>\n",
       "      <th>505 Games</th>\n",
       "      <td>1</td>\n",
       "    </tr>\n",
       "  </tbody>\n",
       "</table>\n",
       "</div>"
      ],
      "text/plain": [
       "                                    User_Score\n",
       "Publisher                                     \n",
       "Nintendo                                    20\n",
       "Electronic Arts                             19\n",
       "Activision                                  16\n",
       "Konami Digital Entertainment                10\n",
       "THQ                                         10\n",
       "Tecmo Koei                                   9\n",
       "Capcom                                       9\n",
       "Vivendi Games                                8\n",
       "Atari                                        7\n",
       "Sony Computer Entertainment                  7\n",
       "Sega                                         7\n",
       "Namco Bandai Games                           6\n",
       "Ubisoft                                      5\n",
       "Midway Games                                 5\n",
       "Eidos Interactive                            5\n",
       "Take-Two Interactive                         4\n",
       "Sony Computer Entertainment Europe           3\n",
       "PQube                                        2\n",
       "Acclaim Entertainment                        2\n",
       "Microsoft Game Studios                       2\n",
       "Marvelous Interactive                        2\n",
       "Zoo Digital Publishing                       2\n",
       "Atlus                                        2\n",
       "LucasArts                                    1\n",
       "Sting                                        1\n",
       "Activision Value                             1\n",
       "Virgin Interactive                           1\n",
       "ValuSoft                                     1\n",
       "Telegames                                    1\n",
       "Bethesda Softworks                           1\n",
       "Codemasters                                  1\n",
       "Destination Software, Inc                    1\n",
       "Sunflowers                                   1\n",
       "Square Enix                                  1\n",
       "Metro 3D                                     1\n",
       "Square                                       1\n",
       "Disney Interactive Studios                   1\n",
       "GT Interactive                               1\n",
       "Ignition Entertainment                       1\n",
       "Infogrames                                   1\n",
       "Interplay                                    1\n",
       "Jaleco                                       1\n",
       "Kadokawa Shoten                              1\n",
       "Kemco                                        1\n",
       "505 Games                                    1"
      ]
     },
     "execution_count": 241,
     "metadata": {},
     "output_type": "execute_result"
    }
   ],
   "source": [
    "df_games[df_games['User_Score'] > 9.0].groupby('Publisher').agg({'User_Score':np.size}).sort_values(by='User_Score',ascending=False)"
   ]
  },
  {
   "cell_type": "markdown",
   "id": "9da4e683",
   "metadata": {},
   "source": [
    "\n",
    "(c) Faça uma tabela que mostre o total vendido por ano por pais/globalmente de cada publisher? Você consegue observar algum padrão? Com se comportaram as vendas na América do Norte (NA) ao longo do tempo? O mesmo foi visto nos demais lugares? \n"
   ]
  },
  {
   "cell_type": "code",
   "execution_count": 242,
   "id": "984598b0",
   "metadata": {},
   "outputs": [
    {
     "data": {
      "text/html": [
       "<div>\n",
       "<style scoped>\n",
       "    .dataframe tbody tr th:only-of-type {\n",
       "        vertical-align: middle;\n",
       "    }\n",
       "\n",
       "    .dataframe tbody tr th {\n",
       "        vertical-align: top;\n",
       "    }\n",
       "\n",
       "    .dataframe thead th {\n",
       "        text-align: right;\n",
       "    }\n",
       "</style>\n",
       "<table border=\"1\" class=\"dataframe\">\n",
       "  <thead>\n",
       "    <tr style=\"text-align: right;\">\n",
       "      <th></th>\n",
       "      <th></th>\n",
       "      <th>NA_Sales</th>\n",
       "      <th>EU_Sales</th>\n",
       "      <th>JP_Sales</th>\n",
       "      <th>Other_Sales</th>\n",
       "    </tr>\n",
       "    <tr>\n",
       "      <th>Publisher</th>\n",
       "      <th>Year_of_Release</th>\n",
       "      <th></th>\n",
       "      <th></th>\n",
       "      <th></th>\n",
       "      <th></th>\n",
       "    </tr>\n",
       "  </thead>\n",
       "  <tbody>\n",
       "    <tr>\n",
       "      <th rowspan=\"2\" valign=\"top\">10TACLE Studios</th>\n",
       "      <th>2,006.00</th>\n",
       "      <td>0.01</td>\n",
       "      <td>0.01</td>\n",
       "      <td>0.00</td>\n",
       "      <td>0.00</td>\n",
       "    </tr>\n",
       "    <tr>\n",
       "      <th>2,007.00</th>\n",
       "      <td>0.06</td>\n",
       "      <td>0.03</td>\n",
       "      <td>0.00</td>\n",
       "      <td>0.00</td>\n",
       "    </tr>\n",
       "    <tr>\n",
       "      <th rowspan=\"2\" valign=\"top\">1C Company</th>\n",
       "      <th>2,009.00</th>\n",
       "      <td>0.00</td>\n",
       "      <td>0.01</td>\n",
       "      <td>0.00</td>\n",
       "      <td>0.00</td>\n",
       "    </tr>\n",
       "    <tr>\n",
       "      <th>2,011.00</th>\n",
       "      <td>0.01</td>\n",
       "      <td>0.06</td>\n",
       "      <td>0.00</td>\n",
       "      <td>0.01</td>\n",
       "    </tr>\n",
       "    <tr>\n",
       "      <th>20th Century Fox Video Games</th>\n",
       "      <th>1,981.00</th>\n",
       "      <td>1.27</td>\n",
       "      <td>0.07</td>\n",
       "      <td>0.00</td>\n",
       "      <td>0.01</td>\n",
       "    </tr>\n",
       "    <tr>\n",
       "      <th>...</th>\n",
       "      <th>...</th>\n",
       "      <td>...</td>\n",
       "      <td>...</td>\n",
       "      <td>...</td>\n",
       "      <td>...</td>\n",
       "    </tr>\n",
       "    <tr>\n",
       "      <th>imageepoch Inc.</th>\n",
       "      <th>2,014.00</th>\n",
       "      <td>0.00</td>\n",
       "      <td>0.00</td>\n",
       "      <td>0.04</td>\n",
       "      <td>0.00</td>\n",
       "    </tr>\n",
       "    <tr>\n",
       "      <th>inXile Entertainment</th>\n",
       "      <th>2,015.00</th>\n",
       "      <td>0.03</td>\n",
       "      <td>0.06</td>\n",
       "      <td>0.00</td>\n",
       "      <td>0.01</td>\n",
       "    </tr>\n",
       "    <tr>\n",
       "      <th>mixi, Inc</th>\n",
       "      <th>2,015.00</th>\n",
       "      <td>0.00</td>\n",
       "      <td>0.00</td>\n",
       "      <td>0.87</td>\n",
       "      <td>0.00</td>\n",
       "    </tr>\n",
       "    <tr>\n",
       "      <th rowspan=\"2\" valign=\"top\">responDESIGN</th>\n",
       "      <th>2,004.00</th>\n",
       "      <td>0.07</td>\n",
       "      <td>0.02</td>\n",
       "      <td>0.00</td>\n",
       "      <td>0.00</td>\n",
       "    </tr>\n",
       "    <tr>\n",
       "      <th>2,005.00</th>\n",
       "      <td>0.02</td>\n",
       "      <td>0.02</td>\n",
       "      <td>0.00</td>\n",
       "      <td>0.01</td>\n",
       "    </tr>\n",
       "  </tbody>\n",
       "</table>\n",
       "<p>2337 rows × 4 columns</p>\n",
       "</div>"
      ],
      "text/plain": [
       "                                              NA_Sales  EU_Sales  JP_Sales  \\\n",
       "Publisher                    Year_of_Release                                 \n",
       "10TACLE Studios              2,006.00             0.01      0.01      0.00   \n",
       "                             2,007.00             0.06      0.03      0.00   \n",
       "1C Company                   2,009.00             0.00      0.01      0.00   \n",
       "                             2,011.00             0.01      0.06      0.00   \n",
       "20th Century Fox Video Games 1,981.00             1.27      0.07      0.00   \n",
       "...                                                ...       ...       ...   \n",
       "imageepoch Inc.              2,014.00             0.00      0.00      0.04   \n",
       "inXile Entertainment         2,015.00             0.03      0.06      0.00   \n",
       "mixi, Inc                    2,015.00             0.00      0.00      0.87   \n",
       "responDESIGN                 2,004.00             0.07      0.02      0.00   \n",
       "                             2,005.00             0.02      0.02      0.00   \n",
       "\n",
       "                                              Other_Sales  \n",
       "Publisher                    Year_of_Release               \n",
       "10TACLE Studios              2,006.00                0.00  \n",
       "                             2,007.00                0.00  \n",
       "1C Company                   2,009.00                0.00  \n",
       "                             2,011.00                0.01  \n",
       "20th Century Fox Video Games 1,981.00                0.01  \n",
       "...                                                   ...  \n",
       "imageepoch Inc.              2,014.00                0.00  \n",
       "inXile Entertainment         2,015.00                0.01  \n",
       "mixi, Inc                    2,015.00                0.00  \n",
       "responDESIGN                 2,004.00                0.00  \n",
       "                             2,005.00                0.01  \n",
       "\n",
       "[2337 rows x 4 columns]"
      ]
     },
     "execution_count": 242,
     "metadata": {},
     "output_type": "execute_result"
    }
   ],
   "source": [
    "df_games.groupby(['Publisher', 'Year_of_Release']).agg({'NA_Sales':np.sum, 'EU_Sales': np.sum, 'JP_Sales': np.sum, 'Other_Sales': np.sum})"
   ]
  },
  {
   "cell_type": "markdown",
   "id": "587015f7",
   "metadata": {},
   "source": [
    "\n",
    "(d) Qual foi jogo mais vendido na união européia? De que ano ele é e qual a editora?\n"
   ]
  },
  {
   "cell_type": "code",
   "execution_count": 243,
   "id": "1e940eb9-b908-4a5e-9db6-632c731af846",
   "metadata": {},
   "outputs": [
    {
     "data": {
      "text/html": [
       "<div>\n",
       "<style scoped>\n",
       "    .dataframe tbody tr th:only-of-type {\n",
       "        vertical-align: middle;\n",
       "    }\n",
       "\n",
       "    .dataframe tbody tr th {\n",
       "        vertical-align: top;\n",
       "    }\n",
       "\n",
       "    .dataframe thead th {\n",
       "        text-align: right;\n",
       "    }\n",
       "</style>\n",
       "<table border=\"1\" class=\"dataframe\">\n",
       "  <thead>\n",
       "    <tr style=\"text-align: right;\">\n",
       "      <th></th>\n",
       "      <th></th>\n",
       "      <th></th>\n",
       "      <th>EU_Sales</th>\n",
       "    </tr>\n",
       "    <tr>\n",
       "      <th>Name</th>\n",
       "      <th>Publisher</th>\n",
       "      <th>Year_of_Release</th>\n",
       "      <th></th>\n",
       "    </tr>\n",
       "  </thead>\n",
       "  <tbody>\n",
       "    <tr>\n",
       "      <th>Wii Sports</th>\n",
       "      <th>Nintendo</th>\n",
       "      <th>2,006.00</th>\n",
       "      <td>28.96</td>\n",
       "    </tr>\n",
       "  </tbody>\n",
       "</table>\n",
       "</div>"
      ],
      "text/plain": [
       "                                      EU_Sales\n",
       "Name       Publisher Year_of_Release          \n",
       "Wii Sports Nintendo  2,006.00            28.96"
      ]
     },
     "execution_count": 243,
     "metadata": {},
     "output_type": "execute_result"
    }
   ],
   "source": [
    "df_games.groupby(['Name','Publisher','Year_of_Release']).agg({'EU_Sales':np.sum}).sort_values(by='EU_Sales', ascending=False).head(1)"
   ]
  },
  {
   "cell_type": "markdown",
   "id": "215d1c33",
   "metadata": {},
   "source": [
    "\n",
    "(e) Quantos % os generos ['Racing', 'Sports', 'Shooter'] representam na base de dados? "
   ]
  },
  {
   "cell_type": "code",
   "execution_count": 244,
   "id": "b1c25450-0e80-4d1b-92d8-d7ccb1e45b9e",
   "metadata": {},
   "outputs": [
    {
     "data": {
      "text/plain": [
       "0.08171249845857202"
      ]
     },
     "execution_count": 244,
     "metadata": {},
     "output_type": "execute_result"
    }
   ],
   "source": [
    "#Racing\n",
    "df_games['Global_Sales'][(df_games['Genre'] == 'Racing')].sum() / df_games['Global_Sales'].sum()"
   ]
  },
  {
   "cell_type": "code",
   "execution_count": 245,
   "id": "fc672be4-b103-4a2e-8187-dd54a2ebda43",
   "metadata": {},
   "outputs": [
    {
     "data": {
      "text/plain": [
       "0.14932233220855798"
      ]
     },
     "execution_count": 245,
     "metadata": {},
     "output_type": "execute_result"
    }
   ],
   "source": [
    "#Sports\n",
    "df_games['Global_Sales'][(df_games['Genre'] == 'Sports')].sum() / df_games['Global_Sales'].sum()"
   ]
  },
  {
   "cell_type": "code",
   "execution_count": 246,
   "id": "78a714da-48e3-42b3-8315-42aaae69de40",
   "metadata": {},
   "outputs": [
    {
     "data": {
      "text/plain": [
       "0.11803863098774701"
      ]
     },
     "execution_count": 246,
     "metadata": {},
     "output_type": "execute_result"
    }
   ],
   "source": [
    "#Shooter\n",
    "df_games['Global_Sales'][(df_games['Genre'] == 'Shooter')].sum() / df_games['Global_Sales'].sum()"
   ]
  },
  {
   "cell_type": "code",
   "execution_count": 247,
   "id": "6744e1a9-5e77-468e-b285-1807970fb301",
   "metadata": {},
   "outputs": [
    {
     "data": {
      "text/plain": [
       "0.34907346165487707"
      ]
     },
     "execution_count": 247,
     "metadata": {},
     "output_type": "execute_result"
    }
   ],
   "source": [
    "# Total\n",
    "df_games['Global_Sales'][(df_games['Genre'] == 'Racing') | (df_games['Genre'] == 'Sports') | (df_games['Genre'] == 'Shooter')].sum() / df_games['Global_Sales'].sum()"
   ]
  },
  {
   "cell_type": "markdown",
   "id": "84126433",
   "metadata": {},
   "source": [
    "(f) Qual plataforma vendeu menos globalmente? obs: imprimir somente o nome"
   ]
  },
  {
   "cell_type": "code",
   "execution_count": 248,
   "id": "3e1348d4",
   "metadata": {},
   "outputs": [
    {
     "name": "stdout",
     "output_type": "stream",
     "text": [
      "PCFX\n"
     ]
    }
   ],
   "source": [
    "print(df_games.groupby(['Platform']).agg({'Global_Sales':np.sum}).sort_values(by='Global_Sales', ascending=True).head(1).index[0])"
   ]
  },
  {
   "cell_type": "markdown",
   "id": "6e8438cf",
   "metadata": {},
   "source": [
    "### Problema 5\n",
    "A pasta 'data/datasus' contém informações sobre casos de dengue e tabelas auxiliares. <br>\n",
    "\n",
    "| Tabela | Conteúdo |\n",
    "|--------|----------|\n",
    "| Dengue | Quantidade de casos por município |\n",
    "| Agua | Quantidade de residências em cada município por tipo o abastecimento de água |\n",
    "| InstalacoesSanitarias | Quantidade de residências em cada município por tipo de rede de esgoto |\n",
    "| Pib | PIB per capita de cada município |\n",
    "| Municipios | Relaciona o id_municipio com seu nome e estado |\n",
    "| Populacao | Quantidade de pessoas morando em áreas urbanas, rurais e população total por município |\n",
    "| Sexo | Quantidade de pessoas por sexo em cada município |\n",
    "\n",
    "(a) Calcular o número de casos de dengue por cada estado apresentando os dados em ordem decrescente.\n"
   ]
  },
  {
   "cell_type": "code",
   "execution_count": null,
   "id": "6731c8b8",
   "metadata": {},
   "outputs": [],
   "source": []
  },
  {
   "cell_type": "markdown",
   "id": "3c7cbb4e",
   "metadata": {},
   "source": [
    "(b) Utilizando o dataset InstalacoesSanitarias.csv, determine o número de pessoas que não possuem meio sanitário algum de descarte de dejetos por estado."
   ]
  },
  {
   "cell_type": "code",
   "execution_count": null,
   "id": "eca9c2cb",
   "metadata": {},
   "outputs": [],
   "source": []
  },
  {
   "cell_type": "markdown",
   "id": "be4886d4",
   "metadata": {},
   "source": [
    "(c) Crie uma coluna com a posição de ranking considerando o PIB. Os maiores PIB devem ter os menores valores de ranking."
   ]
  },
  {
   "cell_type": "code",
   "execution_count": null,
   "id": "16508a40",
   "metadata": {},
   "outputs": [],
   "source": []
  },
  {
   "cell_type": "markdown",
   "id": "9e1f355a",
   "metadata": {},
   "source": [
    "(d) Qual o PIB dos 5 municípios com mais casos de dengue e sua posição no ranking?"
   ]
  },
  {
   "cell_type": "code",
   "execution_count": null,
   "id": "61c84f99",
   "metadata": {},
   "outputs": [],
   "source": []
  }
 ],
 "metadata": {
  "kernelspec": {
   "display_name": "Python 3 (ipykernel)",
   "language": "python",
   "name": "python3"
  },
  "language_info": {
   "codemirror_mode": {
    "name": "ipython",
    "version": 3
   },
   "file_extension": ".py",
   "mimetype": "text/x-python",
   "name": "python",
   "nbconvert_exporter": "python",
   "pygments_lexer": "ipython3",
   "version": "3.10.2"
  }
 },
 "nbformat": 4,
 "nbformat_minor": 5
}
