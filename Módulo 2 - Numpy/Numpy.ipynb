{
 "cells": [
  {
   "cell_type": "markdown",
   "metadata": {},
   "source": [
    "# NumPy\n",
    "\n",
    "## O que é o NumPy?\n",
    "\n",
    "O NumPy é uma poderosa biblioteca Python usada principalmente para realizar cálculos em Arrays Multidimensionais. O NumPy fornece um grande conjunto de funções e operações prontas que ajudam os programadores a executar facilmente cálculos numéricos. Esses tipos de cálculos numéricos são amplamente utilizados em tarefas como:\n",
    "\n",
    "* `Tarefas matemáticas`: NumPy é bastante útil para executar várias tarefas matemáticas como integração numérica, diferenciação, interpolação, extrapolação e muitas outras. O NumPy possui também funções incorporadas para álgebra linear e geração de números aleatórios. É uma biblioteca que pode ser usada em conjuto do <a href='https://github.com/scipy/scipy'>SciPy</a> e Matplotlib, substituindo o MATLAB quando se trata de tarefas matemáticas.\n",
    "\n",
    "* `Processamento de Imagem e Computação Gráfica`: Imagens no computador são representadas como Arrays Multidimensionais de números. NumPy torna-se a escolha mais natural para o mesmo. O NumPy, na verdade, fornece algumas excelentes funções para rápida manipulação de imagens. Alguns exemplos são o espelhamento de uma imagem, a rotação de uma imagem por um determinado ângulo etc.\n",
    "\n",
    "* `Modelos de Machine Learning`: Ao escrever algoritmos de Machine Learning, supõe-se que se realize vários cálculos numéricos em Array. Por exemplo, multiplicação de Arrays, transposição, adição, etc. O NumPy fornece uma excelente biblioteca para cálculos fáceis (em termos de escrita de código) e rápidos (em termos de velocidade). Os Arrays NumPy são usados para armazenar os dados de treinamento, bem como os parâmetros dos modelos de Machine Learning.\n"
   ]
  },
  {
   "cell_type": "markdown",
   "metadata": {},
   "source": [
    "## Instalando\n",
    "\n",
    "Existem diversas formas de instalar o numpy. A mais simples é instalar o pacote Anaconda (https://www.anaconda.com/distribution/) que já vem com o Python e diversas bibliotecas científicas e ciência de dados instaladas.\n",
    "\n",
    "Outra forma, caso você já tenha o python instalado mas não o numpy, é o utilizar o gerenciador e pacotes pip, através do comando no seu **terminal**:\n",
    "\n",
    "`$ pip install numpy`\n",
    "\n",
    "ou dentro do jupyter\n",
    "\n",
    "`!pip install numpy`"
   ]
  },
  {
   "cell_type": "markdown",
   "metadata": {},
   "source": [
    "## Explorando a API do NumPy\n",
    "### Importando numpy com o alias np\n",
    "\n",
    "`np` é uma abreviação amplamente utilizada na comunidade python para o numpy."
   ]
  },
  {
   "cell_type": "code",
   "execution_count": null,
   "metadata": {},
   "outputs": [],
   "source": []
  },
  {
   "cell_type": "markdown",
   "metadata": {},
   "source": [
    "### 1D arrays\n",
    "\n",
    "Array unidimensional, também chamado de vetor ou até mesmo matriz de 1 dimensão:\n"
   ]
  },
  {
   "cell_type": "code",
   "execution_count": null,
   "metadata": {},
   "outputs": [],
   "source": []
  },
  {
   "cell_type": "markdown",
   "metadata": {},
   "source": [
    "Checando o tipo da variável a:"
   ]
  },
  {
   "cell_type": "code",
   "execution_count": null,
   "metadata": {},
   "outputs": [],
   "source": []
  },
  {
   "cell_type": "markdown",
   "metadata": {},
   "source": [
    "o ndarray significa n-dimensional array\n"
   ]
  },
  {
   "cell_type": "markdown",
   "metadata": {},
   "source": [
    "### Checando o tipo de dado do array\n",
    "\n",
    "Diversos tipos de dados são possíveis em um array numpy, os mais comuns são os numéricos:\n",
    "\n",
    "    int32\n",
    "    int64\n",
    "    float32\n",
    "    float64\n"
   ]
  },
  {
   "cell_type": "code",
   "execution_count": null,
   "metadata": {},
   "outputs": [],
   "source": []
  },
  {
   "cell_type": "markdown",
   "metadata": {},
   "source": [
    "### Substituindo elementos\n",
    "Se trocarmos o elemento na posição 0 para o valor 10, dará certo:"
   ]
  },
  {
   "cell_type": "code",
   "execution_count": null,
   "metadata": {},
   "outputs": [],
   "source": []
  },
  {
   "cell_type": "code",
   "execution_count": null,
   "metadata": {},
   "outputs": [],
   "source": []
  },
  {
   "cell_type": "code",
   "execution_count": null,
   "metadata": {},
   "outputs": [],
   "source": []
  },
  {
   "cell_type": "code",
   "execution_count": null,
   "metadata": {},
   "outputs": [],
   "source": []
  },
  {
   "cell_type": "code",
   "execution_count": null,
   "metadata": {},
   "outputs": [],
   "source": []
  },
  {
   "cell_type": "code",
   "execution_count": null,
   "metadata": {},
   "outputs": [],
   "source": []
  },
  {
   "cell_type": "markdown",
   "metadata": {},
   "source": [
    "Mas, se trocarmos para ponto flutuante, por exemplo 4.2, o numpy irá truncar a parte decimal, dado que o array que criamos é de inteiros."
   ]
  },
  {
   "cell_type": "code",
   "execution_count": null,
   "metadata": {},
   "outputs": [],
   "source": []
  },
  {
   "cell_type": "code",
   "execution_count": null,
   "metadata": {},
   "outputs": [],
   "source": []
  },
  {
   "cell_type": "markdown",
   "metadata": {},
   "source": [
    "E se quisermos um dos elementos sendo um texto como fazíamos com as listas?"
   ]
  },
  {
   "cell_type": "code",
   "execution_count": null,
   "metadata": {},
   "outputs": [],
   "source": []
  },
  {
   "cell_type": "code",
   "execution_count": null,
   "metadata": {},
   "outputs": [],
   "source": []
  },
  {
   "cell_type": "code",
   "execution_count": null,
   "metadata": {},
   "outputs": [],
   "source": []
  },
  {
   "cell_type": "markdown",
   "metadata": {},
   "source": [
    "O array converte todos os elementos para string. O numpy não aceita dados com tipos diferentes. Ter um tipo único, permite o numpy ser muito mais rápido."
   ]
  },
  {
   "cell_type": "markdown",
   "metadata": {},
   "source": [
    "### Porque usar numpy e não listas?\n",
    "#### Numpy x Lists\n",
    "\n",
    "    Tamanho - Numpy necessita de menos espaço\n",
    "    Performance - escrito para ter alta performance\n",
    "    Funcionalidade - SciPy e NumPy possuem operações de algebra linear built in.\n",
    "\n",
    "<a href=\"https://webcourses.ucf.edu/courses/1249560/pages/python-lists-vs-numpy-arrays-what-is-the-difference\" target=\"_blank\">Referência</a> "
   ]
  },
  {
   "cell_type": "markdown",
   "metadata": {},
   "source": [
    "#### Tempo de processamento"
   ]
  },
  {
   "cell_type": "code",
   "execution_count": null,
   "metadata": {},
   "outputs": [],
   "source": []
  },
  {
   "cell_type": "markdown",
   "metadata": {},
   "source": [
    "#### Diferença visual"
   ]
  },
  {
   "cell_type": "code",
   "execution_count": null,
   "metadata": {},
   "outputs": [],
   "source": []
  },
  {
   "cell_type": "markdown",
   "metadata": {},
   "source": [
    "Repare que no array não temos a separação por vírgulas.\n",
    "<br>\n"
   ]
  },
  {
   "cell_type": "markdown",
   "metadata": {},
   "source": [
    "\n",
    "### 2D arrays\n",
    "\n",
    "Matrizes podem ser consideradas um array de 2 dimensões.\n",
    "_________________________________________________________________________________\n",
    "\n",
    "Observação:\n",
    "\n",
    "O NumPy possui também uma estrutura, `np.matrix`, mas não é recomendado utilizá-la pela própria documentação oficial e poderá ser removida no futuro.\n",
    "_________________________________________________________________________________\n",
    "\n",
    "\n",
    "Para criar uma matriz, \n",
    "$$\\begin{bmatrix} 9.0 & 8.0 & 7.0 \\\\ 6.0 & 5.0 & 4.0 \\end{bmatrix}$$ <br>\n",
    "basta aninhar múltiplas listas dentro de uma lista, como o exemplo a seguir:\n"
   ]
  },
  {
   "cell_type": "code",
   "execution_count": null,
   "metadata": {},
   "outputs": [],
   "source": []
  },
  {
   "cell_type": "markdown",
   "metadata": {},
   "source": [
    "____________\n",
    "____________\n",
    "**Exercício:** Crie em numpy a seguinte matriz:\n",
    "$$\\begin{bmatrix} 1 & 2 & 1 \\\\ 3 & 0 & 1 \\\\ 0 & 2 & 4 \\end{bmatrix}$$"
   ]
  },
  {
   "cell_type": "code",
   "execution_count": null,
   "metadata": {},
   "outputs": [],
   "source": []
  },
  {
   "cell_type": "markdown",
   "metadata": {},
   "source": [
    "### 3D arrays\n",
    "\n",
    "Nesse caso, teremos um tensor tridimensional que visualmente pode ser interpretado das seguintes formas:\n",
    "\n",
    "\n",
    "<img src=\"tensor_3-2-5.png\"  style=\"width: 500px\" />"
   ]
  },
  {
   "cell_type": "code",
   "execution_count": null,
   "metadata": {},
   "outputs": [],
   "source": []
  },
  {
   "cell_type": "code",
   "execution_count": null,
   "metadata": {},
   "outputs": [],
   "source": []
  },
  {
   "cell_type": "markdown",
   "metadata": {},
   "source": [
    "### Propriedades\n",
    "#### Dimensão e formato\n",
    "\n",
    "Três conceitos importantes, já mencionados acima, são os de dimensão, formato e tamanho.\n",
    "\n",
    "Para descobrir essas informações, basta acessar os atributos `ndim`, `shape` e `size`"
   ]
  },
  {
   "cell_type": "code",
   "execution_count": null,
   "metadata": {},
   "outputs": [],
   "source": []
  },
  {
   "cell_type": "code",
   "execution_count": null,
   "metadata": {},
   "outputs": [],
   "source": []
  },
  {
   "cell_type": "code",
   "execution_count": null,
   "metadata": {},
   "outputs": [],
   "source": []
  },
  {
   "cell_type": "code",
   "execution_count": null,
   "metadata": {},
   "outputs": [],
   "source": []
  },
  {
   "cell_type": "markdown",
   "metadata": {},
   "source": [
    "### Acessando e modificando elementos (Indexing & Slicing)\n",
    "\n",
    "Dada a matriz a abaixo:"
   ]
  },
  {
   "cell_type": "code",
   "execution_count": null,
   "metadata": {},
   "outputs": [],
   "source": []
  },
  {
   "cell_type": "markdown",
   "metadata": {},
   "source": [
    "\n",
    "Podemos acessar um elemento específico do vetor de forma similar a lista. A diferença é que podemos escolher um elemento específico passando os índices de linha e coluna: <br> <br>\n",
    "**array[Indice_Linha, Indice_Coluna]**\n",
    "<br><br>\n",
    "\n",
    "Para uma array 2D, a sintaxe fica:\n"
   ]
  },
  {
   "cell_type": "code",
   "execution_count": null,
   "metadata": {},
   "outputs": [],
   "source": []
  },
  {
   "cell_type": "markdown",
   "metadata": {},
   "source": [
    "Podemos também fazer da forma **array[Indice_Linha][Indice_Coluna]** (menos comum):"
   ]
  },
  {
   "cell_type": "code",
   "execution_count": null,
   "metadata": {},
   "outputs": [],
   "source": []
  },
  {
   "cell_type": "code",
   "execution_count": null,
   "metadata": {},
   "outputs": [],
   "source": []
  },
  {
   "cell_type": "markdown",
   "metadata": {},
   "source": [
    "No caso acima, primeiro selecionamos toda a linha para depois selecionar a coluna de interesse.\n",
    "<br><br><br>\n",
    "Assim como nas listas, **números negativos** trazem de trás pra frente a indexação:\n"
   ]
  },
  {
   "cell_type": "code",
   "execution_count": null,
   "metadata": {},
   "outputs": [],
   "source": []
  },
  {
   "cell_type": "markdown",
   "metadata": {},
   "source": [
    "Para selecionar todos os dados de uma coluna específica utilizamos o `:` na posição das linhas.\n",
    "\n",
    "Leia-se: todas as linhas, coluna 2\n"
   ]
  },
  {
   "cell_type": "code",
   "execution_count": null,
   "metadata": {},
   "outputs": [],
   "source": []
  },
  {
   "cell_type": "code",
   "execution_count": null,
   "metadata": {},
   "outputs": [],
   "source": []
  },
  {
   "cell_type": "markdown",
   "metadata": {},
   "source": [
    "O operador `:` também conhecido como slicing, aceita o parâmetro:\n",
    "\n",
    "    start\n",
    "    end\n",
    "    step\n",
    "\n",
    "No formato\n",
    "\n",
    "$ [ startindex : endindex : stepsize ] $ \n",
    "\n",
    "O stepsize basicamente é quantos elementos deve ser pular. Podemos pegar do elemento 1 ao 6 pulando de 2 em 2 por exemplo da linha 0.\n"
   ]
  },
  {
   "cell_type": "code",
   "execution_count": null,
   "metadata": {},
   "outputs": [],
   "source": []
  },
  {
   "cell_type": "markdown",
   "metadata": {},
   "source": [
    "Funciona com negativo também:\n"
   ]
  },
  {
   "cell_type": "code",
   "execution_count": null,
   "metadata": {},
   "outputs": [],
   "source": []
  },
  {
   "cell_type": "code",
   "execution_count": null,
   "metadata": {},
   "outputs": [],
   "source": []
  },
  {
   "cell_type": "code",
   "execution_count": null,
   "metadata": {},
   "outputs": [],
   "source": []
  },
  {
   "cell_type": "markdown",
   "metadata": {},
   "source": [
    "Para mudar um elemento específico, basta usar o operador `=`"
   ]
  },
  {
   "cell_type": "code",
   "execution_count": null,
   "metadata": {},
   "outputs": [],
   "source": []
  },
  {
   "cell_type": "code",
   "execution_count": null,
   "metadata": {},
   "outputs": [],
   "source": []
  },
  {
   "cell_type": "code",
   "execution_count": null,
   "metadata": {},
   "outputs": [],
   "source": []
  },
  {
   "cell_type": "markdown",
   "metadata": {},
   "source": [
    "Mudando uma coluna inteira para ser 5:\n"
   ]
  },
  {
   "cell_type": "code",
   "execution_count": null,
   "metadata": {},
   "outputs": [],
   "source": []
  },
  {
   "cell_type": "code",
   "execution_count": null,
   "metadata": {},
   "outputs": [],
   "source": []
  },
  {
   "cell_type": "markdown",
   "metadata": {},
   "source": [
    "Isso mostra uma característica fundamental do array do NumPy:\n",
    "\n",
    "  *Ao alterar o pedaço da matriz recortada, você altera a matriz original enquanto slicing em listas geram cópias!*"
   ]
  },
  {
   "cell_type": "markdown",
   "metadata": {},
   "source": [
    "### Cópias do array"
   ]
  },
  {
   "cell_type": "markdown",
   "metadata": {},
   "source": [
    "Um dos detalhes do numpy é que se você faz um slice do array você não obtém um vetor totalmente novo. A saída é uma \"view\" do array original.\n",
    "\n",
    "Esse é o mesmo conceito de que as variáveis são apenas ponteiros e que variáveis distintas podem apontar para o mesmo objeto. (<a href=\"https://www.practicaldatascience.org/html/exercises/%5B../python_v_r.ipynb%5D\">Python v. R / Variables as Pointers tutorial</a>). No caso de slices, as duas variáveis acessam o mesmo dado, mas apresentam ele de form distinta. Por exemplo:\n"
   ]
  },
  {
   "cell_type": "code",
   "execution_count": null,
   "metadata": {},
   "outputs": [],
   "source": []
  },
  {
   "cell_type": "code",
   "execution_count": null,
   "metadata": {},
   "outputs": [],
   "source": []
  },
  {
   "cell_type": "markdown",
   "metadata": {},
   "source": [
    "Uma vez que tanto my_array quanto my_slice apontam para o mesmo dado, mudanças que fizermos em um será propagada para o outro. Se modificarmos a entrada 2 no my_slice, essa mudança irá aparecer no my_array:"
   ]
  },
  {
   "cell_type": "code",
   "execution_count": null,
   "metadata": {},
   "outputs": [],
   "source": []
  },
  {
   "cell_type": "code",
   "execution_count": null,
   "metadata": {},
   "outputs": [],
   "source": []
  },
  {
   "cell_type": "code",
   "execution_count": null,
   "metadata": {},
   "outputs": [],
   "source": []
  },
  {
   "cell_type": "markdown",
   "metadata": {},
   "source": [
    "Apesar de o my_array e o my_slice estarem acessando o mesmo dado eles estão indexados diferentes. Nós mudamos o índice 0 no my_slice e a mudança no my_array foi no índice 1. <br>\n",
    "O mesmo não acontece com as listas"
   ]
  },
  {
   "cell_type": "code",
   "execution_count": null,
   "metadata": {},
   "outputs": [],
   "source": []
  },
  {
   "cell_type": "code",
   "execution_count": null,
   "metadata": {},
   "outputs": [],
   "source": []
  },
  {
   "cell_type": "markdown",
   "metadata": {},
   "source": [
    "Caso você não queira uma view você pode fazer o slice utilizando uma lista:"
   ]
  },
  {
   "cell_type": "code",
   "execution_count": null,
   "metadata": {},
   "outputs": [],
   "source": []
  },
  {
   "cell_type": "markdown",
   "metadata": {},
   "source": [
    "Ou utilizar uma cópia"
   ]
  },
  {
   "cell_type": "code",
   "execution_count": null,
   "metadata": {},
   "outputs": [],
   "source": []
  },
  {
   "cell_type": "markdown",
   "metadata": {},
   "source": [
    "Esse último caso é o mais utilizado, inclusive com dataframes do pandas."
   ]
  },
  {
   "cell_type": "markdown",
   "metadata": {},
   "source": [
    "## Matemática\n"
   ]
  },
  {
   "cell_type": "markdown",
   "metadata": {},
   "source": [
    "### Operação com escalares"
   ]
  },
  {
   "cell_type": "code",
   "execution_count": null,
   "metadata": {},
   "outputs": [],
   "source": []
  },
  {
   "cell_type": "markdown",
   "metadata": {},
   "source": [
    "#### 1. Soma"
   ]
  },
  {
   "cell_type": "code",
   "execution_count": null,
   "metadata": {},
   "outputs": [],
   "source": []
  },
  {
   "cell_type": "markdown",
   "metadata": {},
   "source": [
    "#### 2. Subtração:\n"
   ]
  },
  {
   "cell_type": "code",
   "execution_count": null,
   "metadata": {},
   "outputs": [],
   "source": []
  },
  {
   "cell_type": "markdown",
   "metadata": {},
   "source": [
    "#### 3. Multiplicação\n",
    "______________\n",
    "______________\n",
    "**Exercício:**\n",
    "Sabendo que a operação de multiplicação é feita por __*__ , multiplique o vetor *a* por 2."
   ]
  },
  {
   "cell_type": "code",
   "execution_count": null,
   "metadata": {},
   "outputs": [],
   "source": []
  },
  {
   "cell_type": "markdown",
   "metadata": {},
   "source": [
    "#### 4. Divisão\n",
    "**Exercício:**\n",
    "Sabendo que a operação de divisão é feita por __/__ , divida o vetor *a* por 2."
   ]
  },
  {
   "cell_type": "code",
   "execution_count": null,
   "metadata": {},
   "outputs": [],
   "source": []
  },
  {
   "cell_type": "markdown",
   "metadata": {},
   "source": [
    "#### 5. Potência\n",
    "**Exercício:**\n",
    "Sabendo que a operação de potenciação é feita por __**__ , calcule o quadrado dos elementos do vetor *a*."
   ]
  },
  {
   "cell_type": "code",
   "execution_count": null,
   "metadata": {},
   "outputs": [],
   "source": []
  },
  {
   "cell_type": "markdown",
   "metadata": {},
   "source": [
    "_______________________\n",
    "_______________________"
   ]
  },
  {
   "cell_type": "markdown",
   "metadata": {},
   "source": [
    "#### 6. Incrementar +="
   ]
  },
  {
   "cell_type": "code",
   "execution_count": null,
   "metadata": {},
   "outputs": [],
   "source": []
  },
  {
   "cell_type": "code",
   "execution_count": null,
   "metadata": {},
   "outputs": [],
   "source": []
  },
  {
   "cell_type": "markdown",
   "metadata": {},
   "source": [
    "### Operação entre arrays\n",
    "\n",
    "Tudo que você consegue fazer com escalar, você consegue fazer com arrays elemento-a-elemento desde que os arrays tenham exatamente o mesmo tamanho, por exemplo, para soma:\n"
   ]
  },
  {
   "cell_type": "code",
   "execution_count": null,
   "metadata": {},
   "outputs": [],
   "source": []
  },
  {
   "cell_type": "code",
   "execution_count": null,
   "metadata": {},
   "outputs": [],
   "source": []
  },
  {
   "cell_type": "code",
   "execution_count": null,
   "metadata": {},
   "outputs": [],
   "source": []
  },
  {
   "cell_type": "markdown",
   "metadata": {},
   "source": [
    "### Estatística\n",
    "\n",
    "O numpy vem com várias funções básicas de estatística como mínimo, máximo, média, desvio padrão, etc.\n"
   ]
  },
  {
   "cell_type": "code",
   "execution_count": null,
   "metadata": {},
   "outputs": [],
   "source": []
  },
  {
   "cell_type": "markdown",
   "metadata": {},
   "source": [
    "Mínimo e máximo valor da matriz:"
   ]
  },
  {
   "cell_type": "code",
   "execution_count": null,
   "metadata": {},
   "outputs": [],
   "source": []
  },
  {
   "cell_type": "code",
   "execution_count": null,
   "metadata": {},
   "outputs": [],
   "source": []
  },
  {
   "cell_type": "code",
   "execution_count": null,
   "metadata": {},
   "outputs": [],
   "source": []
  },
  {
   "cell_type": "code",
   "execution_count": null,
   "metadata": {},
   "outputs": [],
   "source": []
  },
  {
   "cell_type": "markdown",
   "metadata": {},
   "source": [
    "________________\n",
    "________________\n",
    "**Exercício:** encontre a média e o desvio padrão da matriz, sabendo que os métodos são representados por `np.mean()` e `np.std()`, respectivamente."
   ]
  },
  {
   "cell_type": "code",
   "execution_count": null,
   "metadata": {},
   "outputs": [],
   "source": []
  },
  {
   "cell_type": "code",
   "execution_count": null,
   "metadata": {},
   "outputs": [],
   "source": []
  },
  {
   "cell_type": "markdown",
   "metadata": {},
   "source": [
    "_____________\n",
    "_____________"
   ]
  },
  {
   "cell_type": "markdown",
   "metadata": {},
   "source": [
    "Todas as vezes que tivermos mais de um eixo, poderemos especificar o argumento `axis`. Para `axis=0` a operação é feita **verticalmente para baixo ao longo das linhas**. Para `axis=1` a operação é realizada **horizontalmente entre as colunas**.\n",
    "\n",
    "<img src=\"axis.jpg\"  style=\"width: 300px\" />\n",
    "\n",
    "Mínimo para axis=0:\n"
   ]
  },
  {
   "cell_type": "code",
   "execution_count": null,
   "metadata": {},
   "outputs": [],
   "source": []
  },
  {
   "cell_type": "code",
   "execution_count": null,
   "metadata": {},
   "outputs": [],
   "source": []
  },
  {
   "cell_type": "code",
   "execution_count": null,
   "metadata": {},
   "outputs": [],
   "source": []
  },
  {
   "cell_type": "markdown",
   "metadata": {},
   "source": [
    "A operação será realizada ao longo dos índices."
   ]
  },
  {
   "cell_type": "markdown",
   "metadata": {},
   "source": [
    "Mínimo para axis=1:\n"
   ]
  },
  {
   "cell_type": "code",
   "execution_count": null,
   "metadata": {},
   "outputs": [],
   "source": []
  },
  {
   "cell_type": "code",
   "execution_count": null,
   "metadata": {},
   "outputs": [],
   "source": []
  },
  {
   "cell_type": "markdown",
   "metadata": {},
   "source": [
    "A operação será realizada através das colunas."
   ]
  },
  {
   "cell_type": "markdown",
   "metadata": {},
   "source": [
    "_________________\n",
    "_________________\n",
    "**Exercício:** Realize a soma para cada linha e para cada coluna:"
   ]
  },
  {
   "cell_type": "code",
   "execution_count": null,
   "metadata": {},
   "outputs": [],
   "source": []
  },
  {
   "cell_type": "code",
   "execution_count": null,
   "metadata": {},
   "outputs": [],
   "source": []
  },
  {
   "cell_type": "markdown",
   "metadata": {},
   "source": [
    "___________\n",
    "___________\n"
   ]
  },
  {
   "cell_type": "markdown",
   "metadata": {},
   "source": [
    "### Máscara Booleana e Seleção Avançada\n",
    "\n",
    "Conceito super importante no numpy e no pandas é o de máscara booleana.\n",
    "\n",
    "Ao utilizar qualquer operador booleano\n",
    "\n",
    "    >\n",
    "    <\n",
    "    <=\n",
    "    >=\n",
    "    ==\n",
    "\n",
    "o numpy retorna um array de True e False no qual ele aplicou elemento a elemento aquele operador.\n",
    "\n",
    "Suponha a matriz abaixo:\n"
   ]
  },
  {
   "cell_type": "code",
   "execution_count": null,
   "metadata": {},
   "outputs": [],
   "source": []
  },
  {
   "cell_type": "code",
   "execution_count": null,
   "metadata": {},
   "outputs": [],
   "source": []
  },
  {
   "cell_type": "markdown",
   "metadata": {},
   "source": [
    "Eu quero saber todos os elementos maiores que 10, eu posso aplicar:\n"
   ]
  },
  {
   "cell_type": "code",
   "execution_count": null,
   "metadata": {},
   "outputs": [],
   "source": []
  },
  {
   "cell_type": "code",
   "execution_count": null,
   "metadata": {},
   "outputs": [],
   "source": []
  },
  {
   "cell_type": "code",
   "execution_count": null,
   "metadata": {},
   "outputs": [],
   "source": []
  },
  {
   "cell_type": "code",
   "execution_count": null,
   "metadata": {},
   "outputs": [],
   "source": []
  },
  {
   "cell_type": "code",
   "execution_count": null,
   "metadata": {},
   "outputs": [],
   "source": []
  },
  {
   "cell_type": "markdown",
   "metadata": {},
   "source": [
    "O retorno é uma matriz de formato (2, 2) com True na posição dos elementos que são maiores que 10.\n",
    "\n",
    "Os tensores booleanos podem ser usados para filtrar valores em um tensor, por exemplo:"
   ]
  },
  {
   "cell_type": "code",
   "execution_count": null,
   "metadata": {},
   "outputs": [],
   "source": []
  },
  {
   "cell_type": "markdown",
   "metadata": {},
   "source": [
    "E será retornado um array com os elementos 20 e 30 como esperado."
   ]
  },
  {
   "cell_type": "markdown",
   "metadata": {},
   "source": [
    "### Operador AND\n",
    "\n",
    "Similar ao `and` do python, podemos usar múltiplas condições para filtrar dados da nossa matriz com o operador `&`.\n"
   ]
  },
  {
   "cell_type": "code",
   "execution_count": null,
   "metadata": {},
   "outputs": [],
   "source": []
  },
  {
   "cell_type": "code",
   "execution_count": null,
   "metadata": {},
   "outputs": [],
   "source": []
  },
  {
   "cell_type": "markdown",
   "metadata": {},
   "source": [
    "Observação: note que os colchetes além de melhorarem a legibilidade, são necessárias devido a ordem de precedência dos operadores python. Se não colocarmos os colchetes, dará um erro.\n"
   ]
  },
  {
   "cell_type": "markdown",
   "metadata": {},
   "source": [
    "### Operador OR\n",
    "Similar ao `or`, só que devemos utilizar `|`. <br><br>\n",
    "**Exercício:** Selecione os valores que são iguais a 1 ou maiores do que 20\n"
   ]
  },
  {
   "cell_type": "code",
   "execution_count": null,
   "metadata": {},
   "outputs": [],
   "source": []
  },
  {
   "cell_type": "code",
   "execution_count": null,
   "metadata": {},
   "outputs": [],
   "source": []
  },
  {
   "cell_type": "markdown",
   "metadata": {},
   "source": [
    "### Operador NOT\n",
    "\n",
    "Similar ao `not`, mas devemos utilizar um til `~`.\n"
   ]
  },
  {
   "cell_type": "code",
   "execution_count": null,
   "metadata": {},
   "outputs": [],
   "source": []
  },
  {
   "cell_type": "code",
   "execution_count": null,
   "metadata": {},
   "outputs": [],
   "source": []
  },
  {
   "cell_type": "code",
   "execution_count": null,
   "metadata": {},
   "outputs": [],
   "source": []
  },
  {
   "cell_type": "code",
   "execution_count": null,
   "metadata": {},
   "outputs": [],
   "source": []
  },
  {
   "cell_type": "code",
   "execution_count": null,
   "metadata": {},
   "outputs": [],
   "source": []
  },
  {
   "cell_type": "code",
   "execution_count": null,
   "metadata": {},
   "outputs": [],
   "source": []
  },
  {
   "cell_type": "markdown",
   "metadata": {},
   "source": [
    "### Atribuir valores em determinadas condições\n",
    "E podemos também atribuir um valor específico aos elementos de um vetor que satisfazem uma certa condições, por exemplo zerar todos os valores negativos:\n"
   ]
  },
  {
   "cell_type": "code",
   "execution_count": null,
   "metadata": {},
   "outputs": [],
   "source": []
  },
  {
   "cell_type": "code",
   "execution_count": null,
   "metadata": {},
   "outputs": [],
   "source": []
  },
  {
   "cell_type": "markdown",
   "metadata": {},
   "source": [
    "Também podemos usar o método `np.where(se condição, recebe valor, se não)`"
   ]
  },
  {
   "cell_type": "code",
   "execution_count": null,
   "metadata": {},
   "outputs": [],
   "source": []
  },
  {
   "cell_type": "markdown",
   "metadata": {},
   "source": [
    "### Nans\n",
    "Os **not a number** são representados por `np.nan`"
   ]
  },
  {
   "cell_type": "code",
   "execution_count": null,
   "metadata": {},
   "outputs": [],
   "source": []
  },
  {
   "cell_type": "markdown",
   "metadata": {},
   "source": [
    "Podemos identificar os nans com o método `np.isnan(a)`"
   ]
  },
  {
   "cell_type": "code",
   "execution_count": null,
   "metadata": {},
   "outputs": [],
   "source": []
  },
  {
   "cell_type": "markdown",
   "metadata": {},
   "source": [
    "E para saber o total de nans podemos aplicar `np.isnan(a).sum()`"
   ]
  },
  {
   "cell_type": "code",
   "execution_count": null,
   "metadata": {},
   "outputs": [],
   "source": []
  },
  {
   "cell_type": "markdown",
   "metadata": {},
   "source": [
    "## Material de Aprofundamento"
   ]
  },
  {
   "cell_type": "markdown",
   "metadata": {},
   "source": [
    "### Seleção passando listas\n",
    "\n",
    "Podemos selecionar elementos específicos de um array passando uma lista de posições:\n"
   ]
  },
  {
   "cell_type": "code",
   "execution_count": null,
   "metadata": {},
   "outputs": [],
   "source": []
  },
  {
   "cell_type": "markdown",
   "metadata": {},
   "source": [
    "### Comparando arrays"
   ]
  },
  {
   "cell_type": "code",
   "execution_count": null,
   "metadata": {},
   "outputs": [],
   "source": []
  },
  {
   "cell_type": "code",
   "execution_count": null,
   "metadata": {},
   "outputs": [],
   "source": []
  },
  {
   "cell_type": "code",
   "execution_count": null,
   "metadata": {},
   "outputs": [],
   "source": []
  },
  {
   "cell_type": "code",
   "execution_count": null,
   "metadata": {},
   "outputs": [],
   "source": []
  },
  {
   "cell_type": "code",
   "execution_count": null,
   "metadata": {},
   "outputs": [],
   "source": []
  },
  {
   "cell_type": "markdown",
   "metadata": {},
   "source": [
    "### Reorganizar Array\n",
    "\n",
    "Muitas vezes você quer mudar o formato de array, por exemplo, de 4 elementos pra uma matriz 2x2, ou situações similares.\n",
    "\n",
    "Para isso, você pode utilizar a função `reshape`.\n"
   ]
  },
  {
   "cell_type": "code",
   "execution_count": null,
   "metadata": {},
   "outputs": [],
   "source": []
  },
  {
   "cell_type": "code",
   "execution_count": null,
   "metadata": {},
   "outputs": [],
   "source": []
  },
  {
   "cell_type": "code",
   "execution_count": null,
   "metadata": {},
   "outputs": [],
   "source": []
  },
  {
   "cell_type": "code",
   "execution_count": null,
   "metadata": {},
   "outputs": [],
   "source": []
  },
  {
   "cell_type": "markdown",
   "metadata": {},
   "source": [
    "### Métodos .any() e .all()\n",
    "Podemos fazer operações linha a linha ou coluna a coluna através de métodos auxiliares como any ou all:\n",
    "\n",
    "    any: se qualquer elemento da linha for True, retorna True\n",
    "    all: todos os elementos tem que ser True para retornar True\n",
    "\n",
    "Exemplos:\n",
    "\n",
    "Por coluna:\n"
   ]
  },
  {
   "cell_type": "code",
   "execution_count": null,
   "metadata": {},
   "outputs": [],
   "source": []
  },
  {
   "cell_type": "code",
   "execution_count": null,
   "metadata": {},
   "outputs": [],
   "source": []
  },
  {
   "cell_type": "markdown",
   "metadata": {},
   "source": [
    "Por linha:"
   ]
  },
  {
   "cell_type": "code",
   "execution_count": null,
   "metadata": {},
   "outputs": [],
   "source": []
  },
  {
   "cell_type": "markdown",
   "metadata": {},
   "source": [
    "Geral:"
   ]
  },
  {
   "cell_type": "code",
   "execution_count": null,
   "metadata": {},
   "outputs": [],
   "source": []
  },
  {
   "cell_type": "markdown",
   "metadata": {},
   "source": [
    "### Apendar os vetores\n",
    "#### Verticalmente"
   ]
  },
  {
   "cell_type": "code",
   "execution_count": null,
   "metadata": {},
   "outputs": [],
   "source": []
  },
  {
   "cell_type": "markdown",
   "metadata": {},
   "source": [
    "#### Horizontalmente\n",
    "\n",
    "De forma similar ao anterior:\n"
   ]
  },
  {
   "cell_type": "code",
   "execution_count": null,
   "metadata": {},
   "outputs": [],
   "source": []
  },
  {
   "cell_type": "markdown",
   "metadata": {},
   "source": [
    "#### para arrays 2D"
   ]
  },
  {
   "cell_type": "code",
   "execution_count": null,
   "metadata": {},
   "outputs": [],
   "source": []
  },
  {
   "cell_type": "code",
   "execution_count": null,
   "metadata": {},
   "outputs": [],
   "source": []
  },
  {
   "cell_type": "markdown",
   "metadata": {},
   "source": [
    "### Números aleatórios\n",
    "#### Números decimais aleatórios\n",
    "\n",
    "O numpy tem um sub-módulo chamado random, que pode ser acessando via `np.random`. Embora o Python possua uma biblioteca padrão também chamada `random`, a biblioteca do *NumPy tem mais funcionalidades e gera diretamente vetores aleatórios*."
   ]
  },
  {
   "cell_type": "markdown",
   "metadata": {},
   "source": [
    "Cria um vetor segundo uma distribuição uniforme no intervalo [0,1):\n"
   ]
  },
  {
   "cell_type": "code",
   "execution_count": null,
   "metadata": {},
   "outputs": [],
   "source": []
  },
  {
   "cell_type": "markdown",
   "metadata": {},
   "source": [
    "Cria um vetor em que cada elemento segue uma distribuição normal com $\\mu=10.0$ e $\\sigma=1.0$"
   ]
  },
  {
   "cell_type": "code",
   "execution_count": null,
   "metadata": {},
   "outputs": [],
   "source": []
  },
  {
   "cell_type": "markdown",
   "metadata": {},
   "source": [
    "#### Números aleatórios inteiros:\n"
   ]
  },
  {
   "cell_type": "markdown",
   "metadata": {},
   "source": [
    "Os argumentos principais são low, high e size, exemplo: criando uma matriz de 0 a 99 de 100 elementos:\n"
   ]
  },
  {
   "cell_type": "code",
   "execution_count": null,
   "metadata": {},
   "outputs": [],
   "source": []
  },
  {
   "cell_type": "markdown",
   "metadata": {},
   "source": [
    "Para incluir o 100, basta trocar o high por 101"
   ]
  },
  {
   "cell_type": "code",
   "execution_count": null,
   "metadata": {},
   "outputs": [],
   "source": []
  },
  {
   "cell_type": "markdown",
   "metadata": {},
   "source": [
    "Note que toda vez que rodarmos o código, os tensores terão valores diferentes. Podemos evitar esse comportamento, de forma que toda vez que o código é executado o tensor aleatório tenha o mesmo valor por meio da função seed, cujo argumento é a semente para o gerador de números aleatórios do Python:"
   ]
  },
  {
   "cell_type": "code",
   "execution_count": null,
   "metadata": {},
   "outputs": [],
   "source": []
  },
  {
   "cell_type": "markdown",
   "metadata": {},
   "source": [
    "### Inicializando arrays usando métodos internos\n",
    "\n",
    "O NumPy já possui diversos métodos built-in para gerar arrays dos mais diversos tipos\n",
    "array apenas com zeros"
   ]
  },
  {
   "cell_type": "code",
   "execution_count": null,
   "metadata": {},
   "outputs": [],
   "source": []
  },
  {
   "cell_type": "markdown",
   "metadata": {},
   "source": [
    "É possível gerar um array de qualquer formato, basta apenasr passar o formato como uma sequência (lista, tupla geralmente) como argumento\n"
   ]
  },
  {
   "cell_type": "code",
   "execution_count": null,
   "metadata": {},
   "outputs": [],
   "source": []
  },
  {
   "cell_type": "code",
   "execution_count": null,
   "metadata": {},
   "outputs": [],
   "source": []
  },
  {
   "cell_type": "markdown",
   "metadata": {},
   "source": [
    "array apenas com 1"
   ]
  },
  {
   "cell_type": "code",
   "execution_count": null,
   "metadata": {},
   "outputs": [],
   "source": []
  },
  {
   "cell_type": "markdown",
   "metadata": {},
   "source": [
    "Um coisa muito comum é usar o np.ones para criar uma matriz de qualquer número fazendo a operação, exemplo:"
   ]
  },
  {
   "cell_type": "code",
   "execution_count": null,
   "metadata": {},
   "outputs": [],
   "source": []
  },
  {
   "cell_type": "markdown",
   "metadata": {},
   "source": [
    "Mas o numpy já tem uma opção mais elegante, o full:\n"
   ]
  },
  {
   "cell_type": "code",
   "execution_count": null,
   "metadata": {},
   "outputs": [],
   "source": []
  },
  {
   "cell_type": "markdown",
   "metadata": {},
   "source": [
    "Qualquer outro número copiando o formato de uma matriz existente\n"
   ]
  },
  {
   "cell_type": "code",
   "execution_count": null,
   "metadata": {},
   "outputs": [],
   "source": []
  },
  {
   "cell_type": "markdown",
   "metadata": {},
   "source": [
    "### Criar ranges\n",
    "\n",
    "#### arange\n",
    "\n",
    "Método que retorna elementos igualmente espaçados num step (por padrão, 1) dentro de um certo intervalo.\n"
   ]
  },
  {
   "cell_type": "code",
   "execution_count": null,
   "metadata": {},
   "outputs": [],
   "source": []
  },
  {
   "cell_type": "markdown",
   "metadata": {},
   "source": [
    "Step diferente de 1:\n"
   ]
  },
  {
   "cell_type": "code",
   "execution_count": null,
   "metadata": {},
   "outputs": [],
   "source": []
  },
  {
   "cell_type": "markdown",
   "metadata": {},
   "source": [
    "#### linspace\n",
    "\n",
    "Parecido com o arange, mas você diz quantos pontos você quer e o intervalo e ele define o espaçamento linear\n"
   ]
  },
  {
   "cell_type": "code",
   "execution_count": null,
   "metadata": {},
   "outputs": [],
   "source": []
  },
  {
   "cell_type": "markdown",
   "metadata": {},
   "source": [
    "#### logspace\n",
    "Retorna números espaçados igualmente na escala log.\n"
   ]
  },
  {
   "cell_type": "code",
   "execution_count": null,
   "metadata": {},
   "outputs": [],
   "source": []
  },
  {
   "cell_type": "markdown",
   "metadata": {},
   "source": [
    "### Funções matemáticas\n",
    "O NumPy oferece diversas funções matemáticas clássicas, como exponencial, logaritmo, seno, cosseno etc. Essas funções são aplicadas a todos os elementos do array\n",
    "##### Função seno:"
   ]
  },
  {
   "cell_type": "code",
   "execution_count": null,
   "metadata": {},
   "outputs": [],
   "source": []
  },
  {
   "cell_type": "markdown",
   "metadata": {},
   "source": [
    "##### Função cosseno"
   ]
  },
  {
   "cell_type": "code",
   "execution_count": null,
   "metadata": {},
   "outputs": [],
   "source": []
  },
  {
   "cell_type": "markdown",
   "metadata": {},
   "source": [
    "#### Exponencial"
   ]
  },
  {
   "cell_type": "code",
   "execution_count": null,
   "metadata": {},
   "outputs": [],
   "source": []
  },
  {
   "cell_type": "markdown",
   "metadata": {},
   "source": [
    "#### Log"
   ]
  },
  {
   "cell_type": "code",
   "execution_count": null,
   "metadata": {},
   "outputs": [],
   "source": []
  },
  {
   "cell_type": "markdown",
   "metadata": {},
   "source": [
    "### Funcionalidades extras\n",
    "#### Carregar dados de um arquivo\n",
    "\n",
    "Vamos supor que temos um arquivo data.txt com o seguinte conteúdo:\n",
    "\n",
    "1,13,21,11,196,75,4,3,34,6,7,8,0,1,2,3,4,5 <br>\n",
    "3,42,12,33,766,75,4,55,6,4,3,4,5,6,7,0,11,12 <br>\n",
    "1,22,33,11,999,11,2,1,78,0,1,2,9,8,7,1,76,88 <br>\n",
    "\n",
    "Podemos gerar uma matriz a partir desse arquivo da seguinte forma:\n"
   ]
  },
  {
   "cell_type": "code",
   "execution_count": null,
   "metadata": {},
   "outputs": [],
   "source": []
  },
  {
   "cell_type": "markdown",
   "metadata": {},
   "source": [
    "O primeiro argumento é o nome do arquivo.\n",
    "\n",
    "No segundo argumento, delimiter, você especifica o que separa cada número individualmente no arquivo. Nesse caso é a vírgula, mas podería ser ;, espaços, ou tabs.\n",
    "\n",
    "Podemos notar também que o numpy converteu para float nossos números, apesar de todos serem inteiros. Ele faz isso como uma medida preventiva dado que ele não sabe ao ler o arquivo qual tipo de dado que é.\n",
    "\n",
    "Podemos importar os dados com um formato especificado usando o argumento `dtype='int'` ou podemos converter manualmente para inteiro usando a função astype:"
   ]
  },
  {
   "cell_type": "code",
   "execution_count": null,
   "metadata": {},
   "outputs": [],
   "source": []
  },
  {
   "cell_type": "markdown",
   "metadata": {},
   "source": [
    "Também podemos avisar o numpy quais são nossas colunas de interesse com o argumento `usecols`"
   ]
  },
  {
   "cell_type": "code",
   "execution_count": null,
   "metadata": {},
   "outputs": [],
   "source": []
  },
  {
   "cell_type": "markdown",
   "metadata": {},
   "source": [
    "Podemos também salvar uma matriz de uma forma mais otimizada não textual (binária) para uso futuro.\n",
    "\n",
    "Isso gera um arquivo binário que inclusive salva o tipo de dado, nesse caso, int32.\n",
    "\n",
    "Quando lido, vai converter corretamente o tipo daquele dado.\n",
    "\n"
   ]
  },
  {
   "cell_type": "code",
   "execution_count": null,
   "metadata": {},
   "outputs": [],
   "source": []
  },
  {
   "cell_type": "markdown",
   "metadata": {},
   "source": [
    "\n",
    "Para ler os dados que acabamos de salvar, basta usar o `np.load`:\n"
   ]
  },
  {
   "cell_type": "code",
   "execution_count": null,
   "metadata": {
    "scrolled": false
   },
   "outputs": [],
   "source": []
  },
  {
   "cell_type": "markdown",
   "metadata": {},
   "source": [
    "### Álgebra Linear\n",
    "\n",
    "Da definição do Wikipédia:\n",
    "\n",
    "    Álgebra linear é um ramo da matemática que surgiu do estudo detalhado de sistemas de equações lineares, sejam elas algébricas ou diferenciais. A álgebra linear utiliza alguns conceitos e estruturas fundamentais da matemática como vetores, espaços vetoriais, transformações lineares, sistemas de equações lineares e matrizes.\n",
    "\n",
    "O numpy nos permite executar diversas diversas operações de álgebra linear, mostradas a seguir:\n"
   ]
  },
  {
   "cell_type": "code",
   "execution_count": null,
   "metadata": {},
   "outputs": [],
   "source": []
  },
  {
   "cell_type": "markdown",
   "metadata": {},
   "source": [
    "##### Transposição\n",
    "\n",
    "<img src=\"transposicao.png\"  style=\"width: 400px\" />\n",
    "\n",
    "A operação de transposição pode ser feita da seguinte forma:"
   ]
  },
  {
   "cell_type": "code",
   "execution_count": null,
   "metadata": {},
   "outputs": [],
   "source": []
  },
  {
   "cell_type": "markdown",
   "metadata": {},
   "source": [
    "Ou acessando o atributo T:"
   ]
  },
  {
   "cell_type": "code",
   "execution_count": null,
   "metadata": {},
   "outputs": [],
   "source": []
  },
  {
   "cell_type": "markdown",
   "metadata": {},
   "source": [
    "#### Multiplicação de matrizes\n",
    "\n",
    "A tradicional multiplicação de matrizes, como mostra a imagem abaixo:\n",
    "\n",
    "<img src=\"multiplicacao.gif\"  style=\"width: 400px\" />\n",
    "\n",
    "pode ser feita no numpy simplesmente chamando `matmul`\n"
   ]
  },
  {
   "cell_type": "code",
   "execution_count": null,
   "metadata": {},
   "outputs": [],
   "source": []
  },
  {
   "cell_type": "markdown",
   "metadata": {},
   "source": [
    "Operador `@` executa a função anterior:\n"
   ]
  },
  {
   "cell_type": "code",
   "execution_count": null,
   "metadata": {},
   "outputs": [],
   "source": []
  },
  {
   "cell_type": "markdown",
   "metadata": {},
   "source": [
    "Se utilizarmos o símbolo * teremos a múltiplicação elemento à elemento e precisaremos de matrizes de mesmo tamanho"
   ]
  },
  {
   "cell_type": "code",
   "execution_count": null,
   "metadata": {},
   "outputs": [],
   "source": []
  },
  {
   "cell_type": "markdown",
   "metadata": {},
   "source": [
    "Outras funcções de Álgebra Linear: https://docs.scipy.org/doc/numpy/reference/routines.linalg.html\n",
    "\n",
    "    Trace\n",
    "    Decomposição de vetores\n",
    "    Autovalor/autovetor\n",
    "    Norma da Matriz\n",
    "    Inversa\n",
    "    Etc...\n"
   ]
  },
  {
   "cell_type": "markdown",
   "metadata": {},
   "source": [
    "Referências   <br>\n",
    "<a href=\"https://github.com/numpy/numpy\" target=\"_blank\">NumPy GitHub</a>  <br>\n",
    "<a href=\"https://docs.scipy.org/doc/numpy/reference/\" target=\"_blank\">Documentação oficial</a>   <br>\n",
    "<a href=\"https://docs.scipy.org/doc/numpy/reference/routines.math.html\" target=\"_blank\">Funções matemáticas</a>   <br>\n",
    "<a href=\"https://docs.scipy.org/doc/numpy/reference/routines.linalg.html\" target=\"_blank\">Funções de Álgebra Linear</a>   <br>\n",
    "<a href=\"http://www.opl.ufc.br/pt/post/numpy/\" target=\"_blank\">Outros</a> \n",
    "    "
   ]
  },
  {
   "cell_type": "markdown",
   "metadata": {},
   "source": [
    "## Outros tópicos\n",
    "* Broadcasting: operações com vetores de dimensões distintas\n",
    "\n",
    "<a href=\"http://www.opl.ufc.br/pt/post/numpy/\" target=\"_blank\">Referência</a> "
   ]
  },
  {
   "cell_type": "markdown",
   "metadata": {},
   "source": [
    "## Exercícios"
   ]
  },
  {
   "cell_type": "markdown",
   "metadata": {},
   "source": [
    "1 - Selecione todos os valores ímpares do seguinte array:  <br>\n",
    "array = [1, 2, 3, 4, 5, 6, 7, 8, 9] <br>\n"
   ]
  },
  {
   "cell_type": "code",
   "execution_count": null,
   "metadata": {},
   "outputs": [],
   "source": []
  },
  {
   "cell_type": "markdown",
   "metadata": {},
   "source": [
    "2 - Substitua os valores ímpares do seguinte array por 0:  <br>\n",
    "array = [1, 2, 3, 4, 5, 6, 7, 8, 9] <br>\n"
   ]
  },
  {
   "cell_type": "code",
   "execution_count": null,
   "metadata": {},
   "outputs": [],
   "source": []
  },
  {
   "cell_type": "markdown",
   "metadata": {},
   "source": [
    "3 - Considere o dataset da iris disponível em: \n",
    "url = 'https://archive.ics.uci.edu/ml/machine-learning-databases/iris/iris.data'<br> \n",
    "Nesse dataset temos as seguintes informações:<br> \n",
    "   * Coluna 1. sepal length em cm<br> \n",
    "   * Coluna 2. sepal width em cm<br> \n",
    "   * Coluna 3. petal length em cm<br> \n",
    "   * Coluna 4. petal width em cm<br> \n",
    "   * Coluna 5. classe: \n",
    "                -- Iris Setosa \n",
    "                -- Iris Versicolour \n",
    "                -- Iris Virginica \n",
    "                \n",
    "Utilizando o método `np.genfromtxt()`, importe as 4 primeiras colunas do dataset do íris e print as 10 primeiras linhas <br>"
   ]
  },
  {
   "cell_type": "code",
   "execution_count": null,
   "metadata": {},
   "outputs": [],
   "source": []
  },
  {
   "cell_type": "markdown",
   "metadata": {},
   "source": [
    "4 - Calcule a média, mediana e desvio padrão da coluna sepallenght"
   ]
  },
  {
   "cell_type": "code",
   "execution_count": null,
   "metadata": {},
   "outputs": [],
   "source": []
  },
  {
   "cell_type": "markdown",
   "metadata": {},
   "source": [
    "5 - Filtre a matriz para conter apenas dados nos quais petallength (3ª coluna) > 1.5 e sepallength (1ª coluna) < 5.0"
   ]
  },
  {
   "cell_type": "code",
   "execution_count": null,
   "metadata": {},
   "outputs": [],
   "source": []
  },
  {
   "cell_type": "markdown",
   "metadata": {},
   "source": [
    "6 - Esse dataset possui nans?"
   ]
  },
  {
   "cell_type": "code",
   "execution_count": null,
   "metadata": {},
   "outputs": [],
   "source": []
  },
  {
   "cell_type": "markdown",
   "metadata": {},
   "source": [
    "7 - Crie uma coluna de volume sabendo que ele pode ser calculado por (pi x petallength x sepal_length^2)/3"
   ]
  },
  {
   "cell_type": "code",
   "execution_count": null,
   "metadata": {},
   "outputs": [],
   "source": []
  },
  {
   "cell_type": "markdown",
   "metadata": {},
   "source": [
    "## Mais coisas interessantes..."
   ]
  },
  {
   "cell_type": "markdown",
   "metadata": {},
   "source": [
    "\n",
    "#### Tipo de dado e tamanho\n",
    "\n",
    "Na sessão Checando o tipo de dados do array já foi dito dos tipos de dados, mas agora falaremos da diferença de tamanhos que isso ocupa na memória.\n",
    "\n",
    "Então, temos as variáveis a e b criadas anteriormente com os seguintes tipos:\n"
   ]
  },
  {
   "cell_type": "code",
   "execution_count": null,
   "metadata": {},
   "outputs": [],
   "source": []
  },
  {
   "cell_type": "code",
   "execution_count": null,
   "metadata": {},
   "outputs": [],
   "source": []
  },
  {
   "cell_type": "markdown",
   "metadata": {},
   "source": [
    "\n",
    "Por padrão, se o python instalado é 64 bits, ele irá criar tipos int ou float de 64 bits. Caso seu python fosse 32 bits, seria int32 e float32.\n",
    "\n",
    "Vamos criar uma outra array, a16, com o tipo inteiro de 16 bits.\n"
   ]
  },
  {
   "cell_type": "code",
   "execution_count": null,
   "metadata": {},
   "outputs": [],
   "source": []
  },
  {
   "cell_type": "markdown",
   "metadata": {},
   "source": [
    "Note que por ser um tipo diferente do padrão, ele ressalta ao imprimir.\n",
    "\n",
    "Para descobrir quanto cada elemento individualmente ocupa na memória, podemos acessar o atributo itemsize:\n"
   ]
  },
  {
   "cell_type": "code",
   "execution_count": null,
   "metadata": {},
   "outputs": [],
   "source": []
  },
  {
   "cell_type": "markdown",
   "metadata": {},
   "source": [
    "\n",
    "Ele retorna 8 e não 64! Isso é porque ele já converteu os bits para bytes. Bytes é o conjunto de 8 bits.\n",
    "\n",
    "Logo:\n",
    "\n",
    "$ 64/8=8 $\n",
    "\n",
    "Já nosso array int16, temos:\n"
   ]
  },
  {
   "cell_type": "code",
   "execution_count": null,
   "metadata": {},
   "outputs": [],
   "source": []
  },
  {
   "cell_type": "markdown",
   "metadata": {},
   "source": [
    "Uma vez que:\n",
    "\n",
    "$ 16/8 = 2 $"
   ]
  },
  {
   "cell_type": "code",
   "execution_count": null,
   "metadata": {},
   "outputs": [],
   "source": []
  },
  {
   "cell_type": "markdown",
   "metadata": {},
   "source": [
    "Quantidade de elementos vezes o tamanho de cada elemento nos dará o tamanho total de bytes que o array inteiro ocupa:\n"
   ]
  },
  {
   "cell_type": "code",
   "execution_count": null,
   "metadata": {},
   "outputs": [],
   "source": []
  },
  {
   "cell_type": "markdown",
   "metadata": {},
   "source": [
    "\n",
    "Mas ao invés de calcular isso, podemos simplesmente acessar o atributo `nbytes`, que já é o tamanho total de bytes ocupado pelo array:\n"
   ]
  },
  {
   "cell_type": "code",
   "execution_count": null,
   "metadata": {},
   "outputs": [],
   "source": []
  },
  {
   "cell_type": "markdown",
   "metadata": {},
   "source": [
    "**Observação**\n",
    "\n",
    "Geralmente não é necessário reduzir o número de bits a não ser que você tenha certeza que um tamanho reduzido vai atender sua necessidade e você quer ser extremamente eficiente.\n"
   ]
  },
  {
   "cell_type": "code",
   "execution_count": null,
   "metadata": {},
   "outputs": [],
   "source": []
  }
 ],
 "metadata": {
  "kernelspec": {
   "display_name": "Python 3",
   "language": "python",
   "name": "python3"
  },
  "language_info": {
   "codemirror_mode": {
    "name": "ipython",
    "version": 3
   },
   "file_extension": ".py",
   "mimetype": "text/x-python",
   "name": "python",
   "nbconvert_exporter": "python",
   "pygments_lexer": "ipython3",
   "version": "3.8.8"
  }
 },
 "nbformat": 4,
 "nbformat_minor": 2
}
